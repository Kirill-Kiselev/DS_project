{
 "cells": [
  {
   "cell_type": "markdown",
   "metadata": {},
   "source": [
    "# Определение наиболее прибыльного региона для добычи нефти"
   ]
  },
  {
   "cell_type": "markdown",
   "metadata": {},
   "source": [
    "Для добывающей компании «ГлавРосГосНефть». Нужно решить, где бурить новую скважину.\n",
    "\n",
    "Вам предоставлены пробы нефти в трёх регионах: в каждом 10 000 месторождений, где измерили качество нефти и объём её запасов. Постройте модель машинного обучения, которая поможет определить регион, где добыча принесёт наибольшую прибыль. Проанализируйте возможную прибыль и риски техникой *Bootstrap.*\n",
    "\n",
    "Шаги для выбора локации:\n",
    "\n",
    "- В избранном регионе ищут месторождения, для каждого определяют значения признаков;\n",
    "- Строят модель и оценивают объём запасов;\n",
    "- Выбирают месторождения с самым высокими оценками значений. Количество месторождений зависит от бюджета компании и стоимости разработки одной скважины;\n",
    "- Прибыль равна суммарной прибыли отобранных месторождений."
   ]
  },
  {
   "cell_type": "markdown",
   "metadata": {},
   "source": [
    "### План проекта\n",
    "1. Загрузка и подготовьте данных, изучение общей информации;\n",
    "2. Обучение и проверка модели для каждого региона;\n",
    "3. Подготовка к расчёту прибыли;\n",
    "4. Написание функции для расчёта прибыли по выбранным скважинам и предсказаниям модели;\n",
    "5. Расчет рисков и прибыль для каждого региона;\n",
    "6. Общий вывод."
   ]
  },
  {
   "cell_type": "markdown",
   "metadata": {},
   "source": [
    "# 1. Загрузка и подготовка данных"
   ]
  },
  {
   "cell_type": "code",
   "execution_count": 35,
   "metadata": {},
   "outputs": [
    {
     "name": "stdout",
     "output_type": "stream",
     "text": [
      "_____________________________\n",
      "<class 'pandas.core.frame.DataFrame'>\n",
      "RangeIndex: 100000 entries, 0 to 99999\n",
      "Data columns (total 5 columns):\n",
      "id         100000 non-null object\n",
      "f0         100000 non-null float64\n",
      "f1         100000 non-null float64\n",
      "f2         100000 non-null float64\n",
      "product    100000 non-null float64\n",
      "dtypes: float64(4), object(1)\n",
      "memory usage: 3.8+ MB\n"
     ]
    },
    {
     "data": {
      "text/html": [
       "<div>\n",
       "<style scoped>\n",
       "    .dataframe tbody tr th:only-of-type {\n",
       "        vertical-align: middle;\n",
       "    }\n",
       "\n",
       "    .dataframe tbody tr th {\n",
       "        vertical-align: top;\n",
       "    }\n",
       "\n",
       "    .dataframe thead th {\n",
       "        text-align: right;\n",
       "    }\n",
       "</style>\n",
       "<table border=\"1\" class=\"dataframe\">\n",
       "  <thead>\n",
       "    <tr style=\"text-align: right;\">\n",
       "      <th></th>\n",
       "      <th>id</th>\n",
       "      <th>f0</th>\n",
       "      <th>f1</th>\n",
       "      <th>f2</th>\n",
       "      <th>product</th>\n",
       "    </tr>\n",
       "  </thead>\n",
       "  <tbody>\n",
       "    <tr>\n",
       "      <td>0</td>\n",
       "      <td>txEyH</td>\n",
       "      <td>0.705745</td>\n",
       "      <td>-0.497823</td>\n",
       "      <td>1.221170</td>\n",
       "      <td>105.280062</td>\n",
       "    </tr>\n",
       "    <tr>\n",
       "      <td>1</td>\n",
       "      <td>2acmU</td>\n",
       "      <td>1.334711</td>\n",
       "      <td>-0.340164</td>\n",
       "      <td>4.365080</td>\n",
       "      <td>73.037750</td>\n",
       "    </tr>\n",
       "    <tr>\n",
       "      <td>2</td>\n",
       "      <td>409Wp</td>\n",
       "      <td>1.022732</td>\n",
       "      <td>0.151990</td>\n",
       "      <td>1.419926</td>\n",
       "      <td>85.265647</td>\n",
       "    </tr>\n",
       "    <tr>\n",
       "      <td>3</td>\n",
       "      <td>iJLyR</td>\n",
       "      <td>-0.032172</td>\n",
       "      <td>0.139033</td>\n",
       "      <td>2.978566</td>\n",
       "      <td>168.620776</td>\n",
       "    </tr>\n",
       "    <tr>\n",
       "      <td>4</td>\n",
       "      <td>Xdl7t</td>\n",
       "      <td>1.988431</td>\n",
       "      <td>0.155413</td>\n",
       "      <td>4.751769</td>\n",
       "      <td>154.036647</td>\n",
       "    </tr>\n",
       "  </tbody>\n",
       "</table>\n",
       "</div>"
      ],
      "text/plain": [
       "      id        f0        f1        f2     product\n",
       "0  txEyH  0.705745 -0.497823  1.221170  105.280062\n",
       "1  2acmU  1.334711 -0.340164  4.365080   73.037750\n",
       "2  409Wp  1.022732  0.151990  1.419926   85.265647\n",
       "3  iJLyR -0.032172  0.139033  2.978566  168.620776\n",
       "4  Xdl7t  1.988431  0.155413  4.751769  154.036647"
      ]
     },
     "metadata": {},
     "output_type": "display_data"
    },
    {
     "name": "stdout",
     "output_type": "stream",
     "text": [
      "_____________________________\n",
      "<class 'pandas.core.frame.DataFrame'>\n",
      "RangeIndex: 100000 entries, 0 to 99999\n",
      "Data columns (total 5 columns):\n",
      "id         100000 non-null object\n",
      "f0         100000 non-null float64\n",
      "f1         100000 non-null float64\n",
      "f2         100000 non-null float64\n",
      "product    100000 non-null float64\n",
      "dtypes: float64(4), object(1)\n",
      "memory usage: 3.8+ MB\n"
     ]
    },
    {
     "data": {
      "text/html": [
       "<div>\n",
       "<style scoped>\n",
       "    .dataframe tbody tr th:only-of-type {\n",
       "        vertical-align: middle;\n",
       "    }\n",
       "\n",
       "    .dataframe tbody tr th {\n",
       "        vertical-align: top;\n",
       "    }\n",
       "\n",
       "    .dataframe thead th {\n",
       "        text-align: right;\n",
       "    }\n",
       "</style>\n",
       "<table border=\"1\" class=\"dataframe\">\n",
       "  <thead>\n",
       "    <tr style=\"text-align: right;\">\n",
       "      <th></th>\n",
       "      <th>id</th>\n",
       "      <th>f0</th>\n",
       "      <th>f1</th>\n",
       "      <th>f2</th>\n",
       "      <th>product</th>\n",
       "    </tr>\n",
       "  </thead>\n",
       "  <tbody>\n",
       "    <tr>\n",
       "      <td>0</td>\n",
       "      <td>kBEdx</td>\n",
       "      <td>-15.001348</td>\n",
       "      <td>-8.276000</td>\n",
       "      <td>-0.005876</td>\n",
       "      <td>3.179103</td>\n",
       "    </tr>\n",
       "    <tr>\n",
       "      <td>1</td>\n",
       "      <td>62mP7</td>\n",
       "      <td>14.272088</td>\n",
       "      <td>-3.475083</td>\n",
       "      <td>0.999183</td>\n",
       "      <td>26.953261</td>\n",
       "    </tr>\n",
       "    <tr>\n",
       "      <td>2</td>\n",
       "      <td>vyE1P</td>\n",
       "      <td>6.263187</td>\n",
       "      <td>-5.948386</td>\n",
       "      <td>5.001160</td>\n",
       "      <td>134.766305</td>\n",
       "    </tr>\n",
       "    <tr>\n",
       "      <td>3</td>\n",
       "      <td>KcrkZ</td>\n",
       "      <td>-13.081196</td>\n",
       "      <td>-11.506057</td>\n",
       "      <td>4.999415</td>\n",
       "      <td>137.945408</td>\n",
       "    </tr>\n",
       "    <tr>\n",
       "      <td>4</td>\n",
       "      <td>AHL4O</td>\n",
       "      <td>12.702195</td>\n",
       "      <td>-8.147433</td>\n",
       "      <td>5.004363</td>\n",
       "      <td>134.766305</td>\n",
       "    </tr>\n",
       "  </tbody>\n",
       "</table>\n",
       "</div>"
      ],
      "text/plain": [
       "      id         f0         f1        f2     product\n",
       "0  kBEdx -15.001348  -8.276000 -0.005876    3.179103\n",
       "1  62mP7  14.272088  -3.475083  0.999183   26.953261\n",
       "2  vyE1P   6.263187  -5.948386  5.001160  134.766305\n",
       "3  KcrkZ -13.081196 -11.506057  4.999415  137.945408\n",
       "4  AHL4O  12.702195  -8.147433  5.004363  134.766305"
      ]
     },
     "metadata": {},
     "output_type": "display_data"
    },
    {
     "name": "stdout",
     "output_type": "stream",
     "text": [
      "_____________________________\n",
      "<class 'pandas.core.frame.DataFrame'>\n",
      "RangeIndex: 100000 entries, 0 to 99999\n",
      "Data columns (total 5 columns):\n",
      "id         100000 non-null object\n",
      "f0         100000 non-null float64\n",
      "f1         100000 non-null float64\n",
      "f2         100000 non-null float64\n",
      "product    100000 non-null float64\n",
      "dtypes: float64(4), object(1)\n",
      "memory usage: 3.8+ MB\n"
     ]
    },
    {
     "data": {
      "text/html": [
       "<div>\n",
       "<style scoped>\n",
       "    .dataframe tbody tr th:only-of-type {\n",
       "        vertical-align: middle;\n",
       "    }\n",
       "\n",
       "    .dataframe tbody tr th {\n",
       "        vertical-align: top;\n",
       "    }\n",
       "\n",
       "    .dataframe thead th {\n",
       "        text-align: right;\n",
       "    }\n",
       "</style>\n",
       "<table border=\"1\" class=\"dataframe\">\n",
       "  <thead>\n",
       "    <tr style=\"text-align: right;\">\n",
       "      <th></th>\n",
       "      <th>id</th>\n",
       "      <th>f0</th>\n",
       "      <th>f1</th>\n",
       "      <th>f2</th>\n",
       "      <th>product</th>\n",
       "    </tr>\n",
       "  </thead>\n",
       "  <tbody>\n",
       "    <tr>\n",
       "      <td>0</td>\n",
       "      <td>fwXo0</td>\n",
       "      <td>-1.146987</td>\n",
       "      <td>0.963328</td>\n",
       "      <td>-0.828965</td>\n",
       "      <td>27.758673</td>\n",
       "    </tr>\n",
       "    <tr>\n",
       "      <td>1</td>\n",
       "      <td>WJtFt</td>\n",
       "      <td>0.262778</td>\n",
       "      <td>0.269839</td>\n",
       "      <td>-2.530187</td>\n",
       "      <td>56.069697</td>\n",
       "    </tr>\n",
       "    <tr>\n",
       "      <td>2</td>\n",
       "      <td>ovLUW</td>\n",
       "      <td>0.194587</td>\n",
       "      <td>0.289035</td>\n",
       "      <td>-5.586433</td>\n",
       "      <td>62.871910</td>\n",
       "    </tr>\n",
       "    <tr>\n",
       "      <td>3</td>\n",
       "      <td>q6cA6</td>\n",
       "      <td>2.236060</td>\n",
       "      <td>-0.553760</td>\n",
       "      <td>0.930038</td>\n",
       "      <td>114.572842</td>\n",
       "    </tr>\n",
       "    <tr>\n",
       "      <td>4</td>\n",
       "      <td>WPMUX</td>\n",
       "      <td>-0.515993</td>\n",
       "      <td>1.716266</td>\n",
       "      <td>5.899011</td>\n",
       "      <td>149.600746</td>\n",
       "    </tr>\n",
       "  </tbody>\n",
       "</table>\n",
       "</div>"
      ],
      "text/plain": [
       "      id        f0        f1        f2     product\n",
       "0  fwXo0 -1.146987  0.963328 -0.828965   27.758673\n",
       "1  WJtFt  0.262778  0.269839 -2.530187   56.069697\n",
       "2  ovLUW  0.194587  0.289035 -5.586433   62.871910\n",
       "3  q6cA6  2.236060 -0.553760  0.930038  114.572842\n",
       "4  WPMUX -0.515993  1.716266  5.899011  149.600746"
      ]
     },
     "metadata": {},
     "output_type": "display_data"
    }
   ],
   "source": [
    "import pandas as pd #Импрортирую библиотеку Pandas\n",
    "%matplotlib inline\n",
    "import matplotlib.pyplot as plt #Импортирую библиотеку matplotlib\n",
    "import seaborn as sns #Импортирую библиотеку seaborn\n",
    "import numpy as np #Импортирую библиотеку numpy\n",
    "#Читаю csv файлы\n",
    "df0 = pd.read_csv('/datasets/geo_data_0.csv')\n",
    "df1 = pd.read_csv('/datasets/geo_data_1.csv')\n",
    "df2 = pd.read_csv('/datasets/geo_data_2.csv')\n",
    "#Получаю информацию о датасетах и печатаю первые пять строк из каждого\n",
    "print('_____________________________')\n",
    "df0.info()\n",
    "display(df0.head())\n",
    "print('_____________________________')\n",
    "df1.info()\n",
    "display(df1.head())\n",
    "print('_____________________________')\n",
    "df2.info()\n",
    "display(df2.head())"
   ]
  },
  {
   "cell_type": "code",
   "execution_count": 36,
   "metadata": {},
   "outputs": [
    {
     "name": "stdout",
     "output_type": "stream",
     "text": [
      "<class 'pandas.core.frame.DataFrame'>\n",
      "RangeIndex: 100000 entries, 0 to 99999\n",
      "Data columns (total 4 columns):\n",
      "f0         100000 non-null float64\n",
      "f1         100000 non-null float64\n",
      "f2         100000 non-null float64\n",
      "product    100000 non-null float64\n",
      "dtypes: float64(4)\n",
      "memory usage: 3.1 MB\n",
      "_____________________________\n",
      "<class 'pandas.core.frame.DataFrame'>\n",
      "RangeIndex: 100000 entries, 0 to 99999\n",
      "Data columns (total 4 columns):\n",
      "f0         100000 non-null float64\n",
      "f1         100000 non-null float64\n",
      "f2         100000 non-null float64\n",
      "product    100000 non-null float64\n",
      "dtypes: float64(4)\n",
      "memory usage: 3.1 MB\n",
      "_____________________________\n",
      "<class 'pandas.core.frame.DataFrame'>\n",
      "RangeIndex: 100000 entries, 0 to 99999\n",
      "Data columns (total 4 columns):\n",
      "f0         100000 non-null float64\n",
      "f1         100000 non-null float64\n",
      "f2         100000 non-null float64\n",
      "product    100000 non-null float64\n",
      "dtypes: float64(4)\n",
      "memory usage: 3.1 MB\n"
     ]
    }
   ],
   "source": [
    "#Удаляю столбцы id из каждого датасета, поскольку они не являются признаками для модели\n",
    "df0.drop(['id'], axis='columns', inplace=True)\n",
    "df1.drop(['id'], axis='columns', inplace=True)\n",
    "df2.drop(['id'], axis='columns', inplace=True)\n",
    "#Получаю информацию о датасетах\n",
    "df0.info()\n",
    "print('_____________________________')\n",
    "df1.info()\n",
    "\n",
    "print('_____________________________')\n",
    "df2.info()"
   ]
  },
  {
   "cell_type": "code",
   "execution_count": 37,
   "metadata": {},
   "outputs": [
    {
     "data": {
      "image/png": "[encoded data removed]",
      "text/plain": [
       "<Figure size 1080x1440 with 3 Axes>"
      ]
     },
     "metadata": {
      "needs_background": "light"
     },
     "output_type": "display_data"
    }
   ],
   "source": [
    "#Строю гистограммы распределения по объёмам запасов в скважинах\n",
    "fig, (ax1, ax2, ax3) = plt.subplots(\n",
    "    nrows=3, ncols=1,\n",
    "    figsize=(15, 20)\n",
    ")\n",
    "\n",
    "sns.distplot(df0['product'], kde=False, ax=ax1)\n",
    "ax1.set_title(\"Запасы в скважинах - Регион 0\")\n",
    "\n",
    "sns.distplot(df1['product'], kde=False, ax=ax2)\n",
    "ax2.set_title(\"Запасы в скважинах - Регион 1\")\n",
    "\n",
    "sns.distplot(df2['product'], kde=False, ax=ax3)\n",
    "ax3.set_title(\"Запасы в скважинах - Регион 2\")\n",
    "\n",
    "plt.show()\n"
   ]
  },
  {
   "cell_type": "code",
   "execution_count": 38,
   "metadata": {},
   "outputs": [
    {
     "data": {
      "image/png": "[encoded data removed]",
      "text/plain": [
       "<Figure size 1080x1440 with 3 Axes>"
      ]
     },
     "metadata": {
      "needs_background": "light"
     },
     "output_type": "display_data"
    }
   ],
   "source": [
    "#Строю диаграммы размаха\n",
    "fig, (ax1, ax2, ax3) = plt.subplots(\n",
    "    nrows=3, ncols=1,\n",
    "    figsize=(15, 20)\n",
    ")\n",
    "\n",
    "sns.boxplot(y=\"product\", data=df0, hue=\"product\", orient=\"h\", ax=ax1)\n",
    "ax1.set_title(\"Запасы в скважинах - Регион 0\")\n",
    "\n",
    "sns.boxplot(y=\"product\", data=df1, hue=\"product\", orient=\"h\", ax=ax2)\n",
    "ax2.set_title(\"Запасы в скважинах - Регион 1\")\n",
    "\n",
    "sns.boxplot(y=\"product\", data=df2, hue=\"product\", orient=\"h\", ax=ax3)\n",
    "ax3.set_title(\"Запасы в скважинах - Регион 2\")\n",
    "\n",
    "plt.show()"
   ]
  },
  {
   "cell_type": "markdown",
   "metadata": {},
   "source": [
    "## Вывод к Шагу 1"
   ]
  },
  {
   "cell_type": "markdown",
   "metadata": {},
   "source": [
    "Для построения модели для определения региона, где добыча принесёт наибольшую прибыль предоставлены 3 датасета, состоящий из 5 столбцов с данными и 100 000 строк каждый. \n",
    "\n",
    "<br>Каждый объект в наборе данных — это информация об одной скважине. Известно:\n",
    "<br>• id — уникальный идентификатор скважины;\n",
    "<br>• f0, f1, f2 — три признака точек (значимые признаки);\n",
    "<br>• product — объём запасов в скважине (тыс. баррелей).\n",
    "\n",
    "Целевым признаком является столбец *'product'*, именно с ним будет работать наша модель.\n",
    "Пропуски данных в датасетах отсутствуют, однако имеется столбец *'id'*, который не будет использован при обучени модели и дальныейшем анализе, поэтому принято решение удалить его.\n",
    "<br>Данные в столбцах *'f0', 'f1', 'f2'* стандартизированы, их подготовка не требуется.\n",
    "\n",
    "<br>Построенные гистограммы по распределению запасов нефти в регионах указывают на то, что в **Регионе 1** распределение оказалось далеким от нормального, в **Регионах 0 и 2** распределение близкое к нормальному.\n",
    "<br>Судя по Диаграммам размаха, запасы нефти в скважинах укладываются в 1,5 межквартильных интервала, явные \"выбросы\" отсутствуют.\n",
    "<br>Можно приступать к обучению модели."
   ]
  },
  {
   "cell_type": "markdown",
   "metadata": {},
   "source": [
    "# 2. Обучение и проверка модели"
   ]
  },
  {
   "cell_type": "code",
   "execution_count": 39,
   "metadata": {},
   "outputs": [],
   "source": [
    "#Из библиотеки sklearn импортирую Линейную регрессию, метрику MSE и train_test_split для разделения датасетов на выборки\n",
    "from sklearn.linear_model import LinearRegression\n",
    "from sklearn.metrics import mean_squared_error\n",
    "from sklearn.model_selection import train_test_split"
   ]
  },
  {
   "cell_type": "code",
   "execution_count": 40,
   "metadata": {},
   "outputs": [],
   "source": [
    "#Объявляю функцию, для обучения модели\n",
    "def regression(df):\n",
    "    target = df['product'] #Выделяю целевой признак\n",
    "    features = df.drop(['product'], axis=1) #Выделяю признаки\n",
    "    \n",
    "    features_train, features_valid, target_train, target_valid = train_test_split(\n",
    "    features, target, test_size=0.25, random_state=12345)\n",
    "\n",
    "    linear_model = LinearRegression()\n",
    "    linear_model.fit(features_train, target_train)\n",
    "    linear_predictions = linear_model.predict(features_valid)\n",
    "    linear_mse = mean_squared_error(target_valid, linear_predictions)\n",
    "    linear_rmse = linear_mse**0.5\n",
    "    mean_predicted_reserve = pd.Series(linear_predictions).mean()\n",
    "    return linear_predictions, linear_mse, linear_rmse, mean_predicted_reserve, target_valid    "
   ]
  },
  {
   "cell_type": "markdown",
   "metadata": {},
   "source": [
    "Обучим модель для **Региона 0** и найдем среднюю ошибку (RMSE). Все выборки и переменные для этого региона будут с **индексом 0**."
   ]
  },
  {
   "cell_type": "code",
   "execution_count": 41,
   "metadata": {},
   "outputs": [
    {
     "name": "stdout",
     "output_type": "stream",
     "text": [
      "Средний запас предсказанного сырья для Региона 0: 92.59256778438038 тыс. баррелей\n",
      "Для \"Региона 0\" RMSE = 37.5794217150813 тыс. баррелей\n"
     ]
    }
   ],
   "source": [
    "linear_predictions_0, linear_mse_0, linear_rmse_0, mean_predicted_reserve_0, target_valid_0 = regression(df0)\n",
    "print('Средний запас предсказанного сырья для Региона 0:', mean_predicted_reserve_0, 'тыс. баррелей')\n",
    "print('Для \"Региона 0\" RMSE =', linear_rmse_0, 'тыс. баррелей')"
   ]
  },
  {
   "cell_type": "markdown",
   "metadata": {},
   "source": [
    "Обучим модель для **Региона 1** и найдем среднюю ошибку (RMSE). Все выборки и переменные для этого региона будут с **индексом 1**."
   ]
  },
  {
   "cell_type": "code",
   "execution_count": 42,
   "metadata": {},
   "outputs": [
    {
     "name": "stdout",
     "output_type": "stream",
     "text": [
      "Средний запас предсказанного сырья для Региона 1: 68.728546895446 тыс. баррелей\n",
      "Для \"Региона 1\" RMSE = 0.893099286775616 тыс. баррелей\n"
     ]
    }
   ],
   "source": [
    "linear_predictions_1, linear_mse_1, linear_rmse_1, mean_predicted_reserve_1, target_valid_1 = regression(df1)\n",
    "print('Средний запас предсказанного сырья для Региона 1:', mean_predicted_reserve_1, 'тыс. баррелей')\n",
    "print('Для \"Региона 1\" RMSE =', linear_rmse_1, 'тыс. баррелей')"
   ]
  },
  {
   "cell_type": "markdown",
   "metadata": {},
   "source": [
    "Обучим модель для **Региона 2** и найдем среднюю ошибку (RMSE). Все выборки и переменные для этого региона будут с **индексом 2**."
   ]
  },
  {
   "cell_type": "code",
   "execution_count": 43,
   "metadata": {},
   "outputs": [
    {
     "name": "stdout",
     "output_type": "stream",
     "text": [
      "Средний запас предсказанного сырья для Региона 2: 94.96504596800489 тыс. баррелей\n",
      "Для \"Региона 2\" RMSE = 40.02970873393434 тыс. баррелей\n"
     ]
    }
   ],
   "source": [
    "linear_predictions_2, linear_mse_2, linear_rmse_2, mean_predicted_reserve_2, target_valid_2 = regression(df2)\n",
    "print('Средний запас предсказанного сырья для Региона 2:', mean_predicted_reserve_2, 'тыс. баррелей')\n",
    "print('Для \"Региона 2\" RMSE =', linear_rmse_2, 'тыс. баррелей')"
   ]
  },
  {
   "cell_type": "code",
   "execution_count": 44,
   "metadata": {},
   "outputs": [
    {
     "data": {
      "text/html": [
       "<div>\n",
       "<style scoped>\n",
       "    .dataframe tbody tr th:only-of-type {\n",
       "        vertical-align: middle;\n",
       "    }\n",
       "\n",
       "    .dataframe tbody tr th {\n",
       "        vertical-align: top;\n",
       "    }\n",
       "\n",
       "    .dataframe thead th {\n",
       "        text-align: right;\n",
       "    }\n",
       "</style>\n",
       "<table border=\"1\" class=\"dataframe\">\n",
       "  <thead>\n",
       "    <tr style=\"text-align: right;\">\n",
       "      <th></th>\n",
       "      <th>region</th>\n",
       "      <th>mse</th>\n",
       "      <th>rmse</th>\n",
       "      <th>mean_predicted_oil_reserve</th>\n",
       "    </tr>\n",
       "  </thead>\n",
       "  <tbody>\n",
       "    <tr>\n",
       "      <td>0</td>\n",
       "      <td>Region 0</td>\n",
       "      <td>1412.212936</td>\n",
       "      <td>37.579422</td>\n",
       "      <td>92.592568</td>\n",
       "    </tr>\n",
       "    <tr>\n",
       "      <td>1</td>\n",
       "      <td>Region 1</td>\n",
       "      <td>0.797626</td>\n",
       "      <td>0.893099</td>\n",
       "      <td>68.728547</td>\n",
       "    </tr>\n",
       "    <tr>\n",
       "      <td>2</td>\n",
       "      <td>Region 2</td>\n",
       "      <td>1602.377581</td>\n",
       "      <td>40.029709</td>\n",
       "      <td>94.965046</td>\n",
       "    </tr>\n",
       "  </tbody>\n",
       "</table>\n",
       "</div>"
      ],
      "text/plain": [
       "     region          mse       rmse  mean_predicted_oil_reserve\n",
       "0  Region 0  1412.212936  37.579422                   92.592568\n",
       "1  Region 1     0.797626   0.893099                   68.728547\n",
       "2  Region 2  1602.377581  40.029709                   94.965046"
      ]
     },
     "metadata": {},
     "output_type": "display_data"
    }
   ],
   "source": [
    "columns = ['region', 'mse', 'rmse', 'mean_predicted_oil_reserve']\n",
    "region_0 = ['Region 0', linear_mse_0, linear_rmse_0, mean_predicted_reserve_0]\n",
    "region_1 = ['Region 1', linear_mse_1, linear_rmse_1, mean_predicted_reserve_1]\n",
    "region_2 = ['Region 2', linear_mse_2, linear_rmse_2, mean_predicted_reserve_2] \n",
    "\n",
    "regions_pivot = pd.DataFrame([region_0, region_1, region_2], columns = columns)\n",
    "display(regions_pivot)"
   ]
  },
  {
   "cell_type": "markdown",
   "metadata": {},
   "source": [
    "## Вывод к Шагу 2"
   ]
  },
  {
   "cell_type": "markdown",
   "metadata": {},
   "source": [
    "По результатам Шага 2 мы обучили 3 модели *Линейной регрессии* для предсказания вероятных запасов нефти по скважинам в регионе. Согласно сводной табице, наименьшая **RMSE = 0.893099** характерна для модели, обученной на данных **Региона 1**. При этом максимальный **Средний запас предсказанного сырья = 94.965046** характерен для **Региона 2**, однако для предсказаний по этому региону **RMSE = 40.029709**, что в свою очередь является максимальным показателем ошибки.\n",
    "\n",
    "Стоит также обратить внимание на то, что в **Регионе 2** около 1600 скважен с запасом 0."
   ]
  },
  {
   "cell_type": "markdown",
   "metadata": {},
   "source": [
    "# 3. Подготовка к расчёту прибыли"
   ]
  },
  {
   "cell_type": "markdown",
   "metadata": {},
   "source": [
    "По условиям задачи при разведке региона исследуют 500 точек, из которых выбирают 200 лучших для расчёта прибыли.\n",
    "Бюджет на разработку скважин в регионе — 10 млрд рублей. Один баррель сырья приносит 450 рублей дохода. Доход с каждой единицы продукта составляет 450 тыс. рублей, поскольку объём указан в тысячах баррелей.\n",
    "<br>Рассчитаем достаточный объём сырья для безубыточной разработки новой скважины."
   ]
  },
  {
   "cell_type": "code",
   "execution_count": 45,
   "metadata": {},
   "outputs": [
    {
     "name": "stdout",
     "output_type": "stream",
     "text": [
      "50000000.0\n",
      "\n",
      "Достаточный объём сырья для безубыточной разработки новой скважины 111.11 тыс. баррелей\n"
     ]
    }
   ],
   "source": [
    "#Объявляю переменные для расчетов\n",
    "#Количество скважин в регионе для разработки\n",
    "hole_quantity = 200\n",
    "#Бюджет на разработку скважин в регионе\n",
    "bore_budget = 10000000000\n",
    "#Бюджет на разработку одной скважины\n",
    "one_hole_budget = bore_budget / hole_quantity\n",
    "#Прибыль от продажи 1000 баррелей\n",
    "profit = 450000\n",
    "#Минимальный запас для безубыточной работы скважины\n",
    "min_reserve = one_hole_budget/profit\n",
    "print(one_hole_budget)\n",
    "print()\n",
    "print('Достаточный объём сырья для безубыточной разработки новой скважины', round(min_reserve, 2), 'тыс. баррелей')"
   ]
  },
  {
   "cell_type": "code",
   "execution_count": 46,
   "metadata": {},
   "outputs": [
    {
     "data": {
      "text/html": [
       "<div>\n",
       "<style scoped>\n",
       "    .dataframe tbody tr th:only-of-type {\n",
       "        vertical-align: middle;\n",
       "    }\n",
       "\n",
       "    .dataframe tbody tr th {\n",
       "        vertical-align: top;\n",
       "    }\n",
       "\n",
       "    .dataframe thead th {\n",
       "        text-align: right;\n",
       "    }\n",
       "</style>\n",
       "<table border=\"1\" class=\"dataframe\">\n",
       "  <thead>\n",
       "    <tr style=\"text-align: right;\">\n",
       "      <th></th>\n",
       "      <th>region</th>\n",
       "      <th>mse</th>\n",
       "      <th>rmse</th>\n",
       "      <th>mean_predicted_oil_reserve</th>\n",
       "      <th>region_is_profitable</th>\n",
       "    </tr>\n",
       "  </thead>\n",
       "  <tbody>\n",
       "    <tr>\n",
       "      <td>0</td>\n",
       "      <td>Region 0</td>\n",
       "      <td>1412.212936</td>\n",
       "      <td>37.579422</td>\n",
       "      <td>92.592568</td>\n",
       "      <td>0</td>\n",
       "    </tr>\n",
       "    <tr>\n",
       "      <td>1</td>\n",
       "      <td>Region 1</td>\n",
       "      <td>0.797626</td>\n",
       "      <td>0.893099</td>\n",
       "      <td>68.728547</td>\n",
       "      <td>0</td>\n",
       "    </tr>\n",
       "    <tr>\n",
       "      <td>2</td>\n",
       "      <td>Region 2</td>\n",
       "      <td>1602.377581</td>\n",
       "      <td>40.029709</td>\n",
       "      <td>94.965046</td>\n",
       "      <td>0</td>\n",
       "    </tr>\n",
       "  </tbody>\n",
       "</table>\n",
       "</div>"
      ],
      "text/plain": [
       "     region          mse       rmse  mean_predicted_oil_reserve  \\\n",
       "0  Region 0  1412.212936  37.579422                   92.592568   \n",
       "1  Region 1     0.797626   0.893099                   68.728547   \n",
       "2  Region 2  1602.377581  40.029709                   94.965046   \n",
       "\n",
       "   region_is_profitable  \n",
       "0                     0  \n",
       "1                     0  \n",
       "2                     0  "
      ]
     },
     "metadata": {},
     "output_type": "display_data"
    }
   ],
   "source": [
    "#Для сравнения объёма сырья для безубыточной разработки скважины со средним запасом в каждом регионе объявляю функцию\n",
    "def profit_region(reserve):\n",
    "    if reserve >= min_reserve:\n",
    "        return 1\n",
    "    else:\n",
    "        return 0\n",
    "#Применяю функцию для определения прибыльных регионов\n",
    "regions_pivot['region_is_profitable'] = regions_pivot['mean_predicted_oil_reserve'].apply(profit_region)\n",
    "display(regions_pivot)"
   ]
  },
  {
   "cell_type": "markdown",
   "metadata": {},
   "source": [
    "## Вывод к Шагу 3"
   ]
  },
  {
   "cell_type": "markdown",
   "metadata": {},
   "source": [
    "На Шаге 3 определено значение минимального запаса для безубыточной работы скважины, оно равно 111.11 тыс. баррелей. Ключевые значения для расчётов сохранены в отдельных переменных.\n",
    "<br>Исходя из результатов, нельзя судить о прибыльности региона в общем, следовательно, переходим к расчёту прибыли и рисков."
   ]
  },
  {
   "cell_type": "markdown",
   "metadata": {},
   "source": [
    "# 4. Функция расчёта прибыли"
   ]
  },
  {
   "cell_type": "code",
   "execution_count": 47,
   "metadata": {},
   "outputs": [],
   "source": [
    "#Объявляю функцию для расчета прибыли\n",
    "def revenue(target_valid, linear_predictions, quantity):\n",
    "    predictions_sorted = pd.Series(linear_predictions).sort_values(ascending=False)\n",
    "    target = target_valid.reset_index().drop(['index'], axis=1)\n",
    "    target = pd.Series(target['product'])\n",
    "    selected = target[predictions_sorted.index][:quantity]\n",
    "    sum_profit = (selected.sum()*profit) - bore_budget\n",
    "    return round(sum_profit, 2)"
   ]
  },
  {
   "cell_type": "code",
   "execution_count": 48,
   "metadata": {},
   "outputs": [
    {
     "name": "stdout",
     "output_type": "stream",
     "text": [
      "Прибыль по 200 скважинам с максимальными значениями предсказаний по Региону 0 равна 3320826043.14\n",
      "Прибыль по 200 скважинам с максимальными значениями предсказаний по Региону 1 равна 2415086696.68\n",
      "Прибыль по 200 скважинам с максимальными значениями предсказаний по Региону 2 равна 2710349963.6\n"
     ]
    }
   ],
   "source": [
    "print('Прибыль по 200 скважинам с максимальными значениями предсказаний по Региону 0 равна', revenue(target_valid_0, linear_predictions_0, 200))\n",
    "print('Прибыль по 200 скважинам с максимальными значениями предсказаний по Региону 1 равна', revenue(target_valid_1, linear_predictions_1, 200))\n",
    "print('Прибыль по 200 скважинам с максимальными значениями предсказаний по Региону 2 равна', revenue(target_valid_2, linear_predictions_2, 200))"
   ]
  },
  {
   "cell_type": "markdown",
   "metadata": {},
   "source": [
    "## Вывод к Шагу 4"
   ]
  },
  {
   "cell_type": "markdown",
   "metadata": {},
   "source": [
    "Функция для расчета прибыли составлена. Прибыли по регионам рассчитаны. Переходим к расчету прибыли и рисков."
   ]
  },
  {
   "cell_type": "markdown",
   "metadata": {},
   "source": [
    "# 5. Расчёт прибыли и рисков для каждого региона "
   ]
  },
  {
   "cell_type": "markdown",
   "metadata": {},
   "source": [
    "Как можно было увидеть из гистограмм в Шаге 1, распределение запасов нефти в скважинах далеко от нормального, особенно в **Регионе 1**. Следовательно для нахождения средней прибыли, 95%-й доверительного интервала и риска убытков воспользуемся техникой *бутстреп*."
   ]
  },
  {
   "cell_type": "code",
   "execution_count": 49,
   "metadata": {},
   "outputs": [],
   "source": [
    "#Объявляю переменную state, которая определит выборки\n",
    "state = np.random.RandomState(12345)\n",
    "\n",
    "#Объявляю функцию для сбора показателей прибыли техникой бутстреп\n",
    "def bootstrap_revenue(target_valid, linear_predictions, dots, quantity):\n",
    "    values = []\n",
    "    predicted_values = []\n",
    "    for i in range(1000):\n",
    "        target_subsample = (target_valid\n",
    "                            .reset_index()\n",
    "                            .drop(['index'], axis=1)\n",
    "                            .sample(frac=dots/len(target_valid), replace=True, random_state = state)\n",
    "                           )\n",
    "        predictions_subsample = pd.Series(linear_predictions)[target_subsample.index]\n",
    "        sorted_predictions_subsample = predictions_subsample.sort_values(ascending=False)\n",
    "        target_subsample = pd.Series(target_subsample['product'])\n",
    "        selected_target_subsample = target_subsample[sorted_predictions_subsample.index][:quantity]\n",
    "        selected_sum_profit = (selected_target_subsample.sum()*profit) - quantity*one_hole_budget\n",
    "        values.append(selected_sum_profit)\n",
    "    return values"
   ]
  },
  {
   "cell_type": "code",
   "execution_count": 50,
   "metadata": {},
   "outputs": [],
   "source": [
    "def risks(values):\n",
    "    negative = []\n",
    "    for i in values:\n",
    "        if i <= 0:\n",
    "            negative.append(i)\n",
    "    return len(negative)/len(values)*100        "
   ]
  },
  {
   "cell_type": "code",
   "execution_count": 51,
   "metadata": {},
   "outputs": [
    {
     "name": "stdout",
     "output_type": "stream",
     "text": [
      "(-102090094.83793654, 947976353.358369)\n",
      "Средняя выручка: 425938526.9105923\n",
      "Доверительный интервал для Региона 0: (-102090094.83793654, 947976353.358369)\n",
      "Риск убытков в регионе 6.0 %\n"
     ]
    }
   ],
   "source": [
    "values_0 = bootstrap_revenue(target_valid_0, linear_predictions_0, 500, 200)\n",
    "risks_0 =  risks(values_0)\n",
    "\n",
    "\n",
    "values_0 = pd.Series(values_0)\n",
    "\n",
    "confidence_interval_0 = (values_0.quantile(0.025), values_0.quantile(0.975))\n",
    "print(confidence_interval)\n",
    "\n",
    "mean_0 = values_0.mean()\n",
    "print(\"Средняя выручка:\", mean_0)\n",
    "print(\"Доверительный интервал для Региона 0:\", confidence_interval_0)\n",
    "print('Риск убытков в регионе', risks_0,'%')"
   ]
  },
  {
   "cell_type": "code",
   "execution_count": 52,
   "metadata": {},
   "outputs": [
    {
     "name": "stdout",
     "output_type": "stream",
     "text": [
      "Средняя выручка: 518259493.69732493\n",
      "Доверительный интервал для Региона 1: (128123231.43308629, 953612982.0669085)\n",
      "Риск убытков в регионе 0.3 %\n"
     ]
    }
   ],
   "source": [
    "values_1 = bootstrap_revenue(target_valid_1, linear_predictions_1, 500, 200)\n",
    "risks_1 =  risks(values_1)\n",
    "\n",
    "values_1 = pd.Series(values_1)\n",
    "confidence_interval_1 = (values_1.quantile(0.025), values_1.quantile(0.975))\n",
    "\n",
    "mean_1 = values_1.mean()\n",
    "print(\"Средняя выручка:\", mean_1)\n",
    "print(\"Доверительный интервал для Региона 1:\", confidence_interval_1)\n",
    "print('Риск убытков в регионе', risks_1,'%')"
   ]
  },
  {
   "cell_type": "code",
   "execution_count": 53,
   "metadata": {},
   "outputs": [
    {
     "name": "stdout",
     "output_type": "stream",
     "text": [
      "Средняя выручка: 420194005.34405005\n",
      "Доверительный интервал для Региона 2: (-115852609.16001143, 989629939.844574)\n",
      "Риск убытков в регионе 6.2 %\n"
     ]
    }
   ],
   "source": [
    "values_2 = bootstrap_revenue(target_valid_2, linear_predictions_2, 500, 200)\n",
    "risks_2 =  risks(values_2)\n",
    "\n",
    "values_2 = pd.Series(values_2)\n",
    "confidence_interval_2 = (values_2.quantile(0.025), values_2.quantile(0.975))\n",
    "\n",
    "mean_2= values_2.mean()\n",
    "print(\"Средняя выручка:\", mean_2)\n",
    "print(\"Доверительный интервал для Региона 2:\", confidence_interval_2)\n",
    "print('Риск убытков в регионе', risks_2,'%')"
   ]
  },
  {
   "cell_type": "code",
   "execution_count": 54,
   "metadata": {},
   "outputs": [],
   "source": [
    "#Объявляю функцию для определения прибыли по регионам исходя из предсказанных моделью значений\n",
    "#в основе данной функции применена техника bootstrap\n",
    "def predict_bootstrap_revenue(linear_predictions, dots, quantity):\n",
    "    predicted_values = []\n",
    "    for i in range(1000):\n",
    "        predicted_subsample = (pd.Series(linear_predictions)\n",
    "                               .sample(frac=dots/len(linear_predictions), replace=True, random_state = state)\n",
    "                               .sort_values(ascending=False)\n",
    "                               )\n",
    "        predicted_subsample = predicted_subsample[:quantity]\n",
    "        predicted_subsample_sum_profit = (predicted_subsample.sum()*profit) - quantity*one_hole_budget\n",
    "        predicted_values.append(predicted_subsample_sum_profit)\n",
    "    return predicted_values"
   ]
  },
  {
   "cell_type": "code",
   "execution_count": 55,
   "metadata": {},
   "outputs": [
    {
     "name": "stdout",
     "output_type": "stream",
     "text": [
      "Средняя выручка для Региона 0: 357596128.21251184\n",
      "Доверительный интервал прибыли для Региона 0: (135463963.2766859, 565546143.8525171)\n",
      "Риск убытков в Регионе 0 0.1 %\n"
     ]
    }
   ],
   "source": [
    "predicted_values_0 = pd.Series(predict_bootstrap_revenue(linear_predictions_0, 500, 200))\n",
    "predicted_risks_0 =  risks(predicted_values_0)\n",
    "\n",
    "predicted_confidence_interval_0 = (predicted_values_0.quantile(0.025), predicted_values_0.quantile(0.975))\n",
    "predicted_mean_0 = predicted_values_0.mean()\n",
    "\n",
    "print(\"Средняя выручка для Региона 0:\", predicted_mean_0)\n",
    "print(\"Доверительный интервал прибыли для Региона 0:\", predicted_confidence_interval_0)\n",
    "print('Риск убытков в Регионе 0', predicted_risks_0,'%')"
   ]
  },
  {
   "cell_type": "code",
   "execution_count": 56,
   "metadata": {},
   "outputs": [
    {
     "name": "stdout",
     "output_type": "stream",
     "text": [
      "Средняя выручка для Региона 1: 446241474.94939965\n",
      "Доверительный интервал прибыли для Региона 1: (47302691.56006905, 841425874.3577042)\n",
      "Риск убытков в Регионе 1 1.4000000000000001 %\n"
     ]
    }
   ],
   "source": [
    "predicted_values_1 = pd.Series(predict_bootstrap_revenue(linear_predictions_1, 500, 200))\n",
    "predicted_risks_1 =  risks(predicted_values_1)\n",
    "\n",
    "predicted_confidence_interval_1 = (predicted_values_1.quantile(0.025), predicted_values_1.quantile(0.975))\n",
    "predicted_mean_1 = predicted_values_1.mean()\n",
    "\n",
    "print(\"Средняя выручка для Региона 1:\", predicted_mean_1)\n",
    "print(\"Доверительный интервал прибыли для Региона 1:\", predicted_confidence_interval_1)\n",
    "print('Риск убытков в Регионе 1', predicted_risks_1,'%')"
   ]
  },
  {
   "cell_type": "code",
   "execution_count": 57,
   "metadata": {},
   "outputs": [
    {
     "name": "stdout",
     "output_type": "stream",
     "text": [
      "Средняя выручка для Региона 2: 275539442.72628367\n",
      "Доверительный интервал прибыли для Региона 2: (85476110.04429904, 471662709.83956754)\n",
      "Риск убытков в Регионе 2 0.5 %\n"
     ]
    }
   ],
   "source": [
    "predicted_values_2 = pd.Series(predict_bootstrap_revenue(linear_predictions_2, 500, 200))\n",
    "predicted_risks_2 =  risks(predicted_values_2)\n",
    "\n",
    "predicted_confidence_interval_2 = (predicted_values_2.quantile(0.025), predicted_values_2.quantile(0.975))\n",
    "predicted_mean_2 = predicted_values_2.mean()\n",
    "\n",
    "print(\"Средняя выручка для Региона 2:\", predicted_mean_2)\n",
    "print(\"Доверительный интервал прибыли для Региона 2:\", predicted_confidence_interval_2)\n",
    "print('Риск убытков в Регионе 2', predicted_risks_2,'%')"
   ]
  },
  {
   "cell_type": "markdown",
   "metadata": {},
   "source": [
    "## Вывод к Шагу 5"
   ]
  },
  {
   "cell_type": "markdown",
   "metadata": {},
   "source": [
    "Техникой *бутстреп* определены средняя прибыль, 95%-й доверительный интервал и риск убытков в каждом из трех регионов. Несложно видеть, что единственным подходящим для организации добычи нефти является **Регион 1**. Именно в этом регионе 95% доверительный интервал оказался положительным и риск убытков не превышает 2,5%.\n",
    "\n",
    "Анализ данных, полученных по предсказаниям модели линейной регрессии также выделили **Регион 1** как наиболее перспективный для разработки, поскольку средняя выручка составила 453269774.56, что является наиболее высоким показателем среди всех трех регионов. А доля риска для **Региона 1** составлет 1.5% что не попадает в границы доверительного интервала."
   ]
  },
  {
   "cell_type": "markdown",
   "metadata": {},
   "source": [
    "# Общий вывод"
   ]
  },
  {
   "cell_type": "markdown",
   "metadata": {},
   "source": [
    "Для построения модели для определения региона, где добыча принесёт наибольшую прибыль предоставлены 3 датасета, состоящий из 5 столбцов с данными и 100 000 строк каждый. \n",
    "<br>Пропуски данных в датасетах отсутствуют, данные в столбцах *'f0', 'f1', 'f2'* стандартизированы, их подготовка не требуется. Столбец *'id'* был удален, поскольку не представлял важности как признак для обучения модели.\n",
    "<br>Целевым признаком является столбец *'product'*, на нем было обучены три модели *Линейной регрессии* для кажого региона.\n",
    "\n",
    "Согласно сводной табице, составленной по результатам предсказания моделей, наименьшая **RMSE = 0.893099** характерна для модели, обученной на данных **Региона 1**. При этом максимальный **Средний запас предсказанного сырья = 94.965046** характерен для **Региона 2**, однако для предсказаний по этому региону **RMSE = 40.029709**, что в свою очередь является максимальным показателем ошибки.\n",
    "\n",
    "По результатам работы видно, что единственным подходящим для организации добычи нефти является **регион 2**. Именно в этом регионе 95% доверительный интервал оказался положительным и риск убытков не превышает 2,5%. Анализ данных, полученных по предсказаниям модели линейной регрессии также выделили **Регион 1** как наиболее перспективный для разработки, поскольку средняя выручка составила 453269774.56, что является наиболее высоким показателем среди всех трех регионов. А доля риска для **Региона 1** составлет 1.5% что не попадает в границы доверительного интервала."
   ]
  }
 ],
 "metadata": {
  "kernelspec": {
   "display_name": "Python 3",
   "language": "python",
   "name": "python3"
  },
  "language_info": {
   "codemirror_mode": {
    "name": "ipython",
    "version": 3
   },
   "file_extension": ".py",
   "mimetype": "text/x-python",
   "name": "python",
   "nbconvert_exporter": "python",
   "pygments_lexer": "ipython3",
   "version": "3.7.6"
  }
 },
 "nbformat": 4,
 "nbformat_minor": 2
}
