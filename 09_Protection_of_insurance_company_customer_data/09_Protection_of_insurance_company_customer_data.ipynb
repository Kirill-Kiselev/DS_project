{
 "cells": [
  {
   "cell_type": "markdown",
   "metadata": {},
   "source": [
    "# Защита данных клиентов страховой компании"
   ]
  },
  {
   "cell_type": "markdown",
   "metadata": {},
   "source": [
    "**Задача:** Разработать такой метод преобразования данных, чтобы по ним было сложно восстановить персональную информацию.\n",
    "\n",
    "**Цель:** Защитить данные, чтобы при преобразовании качество моделей машинного обучения не ухудшилось."
   ]
  },
  {
   "cell_type": "markdown",
   "metadata": {},
   "source": [
    "### План проекта\n",
    "\n",
    "<br>[1. Загрузка данных](#step1)\n",
    "    <br>[1.1 Вывод к этапу 1](#step2)\n",
    "<br>[2. Умножение матриц](#step3)\n",
    "<br>[3. Алгоритм преобразования](#step4)\n",
    "<br>[4. Проверка алгоритма](#step5)\n",
    "<br>[5. Общий вывод](#step6)"
   ]
  },
  {
   "cell_type": "markdown",
   "metadata": {},
   "source": [
    "## 1. Загрузка данных<a id='step1'></a>"
   ]
  },
  {
   "cell_type": "code",
   "execution_count": 1,
   "metadata": {},
   "outputs": [
    {
     "data": {
      "text/html": [
       "<div>\n",
       "<style scoped>\n",
       "    .dataframe tbody tr th:only-of-type {\n",
       "        vertical-align: middle;\n",
       "    }\n",
       "\n",
       "    .dataframe tbody tr th {\n",
       "        vertical-align: top;\n",
       "    }\n",
       "\n",
       "    .dataframe thead th {\n",
       "        text-align: right;\n",
       "    }\n",
       "</style>\n",
       "<table border=\"1\" class=\"dataframe\">\n",
       "  <thead>\n",
       "    <tr style=\"text-align: right;\">\n",
       "      <th></th>\n",
       "      <th>Пол</th>\n",
       "      <th>Возраст</th>\n",
       "      <th>Зарплата</th>\n",
       "      <th>Члены семьи</th>\n",
       "      <th>Страховые выплаты</th>\n",
       "    </tr>\n",
       "  </thead>\n",
       "  <tbody>\n",
       "    <tr>\n",
       "      <td>0</td>\n",
       "      <td>1</td>\n",
       "      <td>41.0</td>\n",
       "      <td>49600.0</td>\n",
       "      <td>1</td>\n",
       "      <td>0</td>\n",
       "    </tr>\n",
       "    <tr>\n",
       "      <td>1</td>\n",
       "      <td>0</td>\n",
       "      <td>46.0</td>\n",
       "      <td>38000.0</td>\n",
       "      <td>1</td>\n",
       "      <td>1</td>\n",
       "    </tr>\n",
       "    <tr>\n",
       "      <td>2</td>\n",
       "      <td>0</td>\n",
       "      <td>29.0</td>\n",
       "      <td>21000.0</td>\n",
       "      <td>0</td>\n",
       "      <td>0</td>\n",
       "    </tr>\n",
       "    <tr>\n",
       "      <td>3</td>\n",
       "      <td>0</td>\n",
       "      <td>21.0</td>\n",
       "      <td>41700.0</td>\n",
       "      <td>2</td>\n",
       "      <td>0</td>\n",
       "    </tr>\n",
       "    <tr>\n",
       "      <td>4</td>\n",
       "      <td>1</td>\n",
       "      <td>28.0</td>\n",
       "      <td>26100.0</td>\n",
       "      <td>0</td>\n",
       "      <td>0</td>\n",
       "    </tr>\n",
       "    <tr>\n",
       "      <td>5</td>\n",
       "      <td>1</td>\n",
       "      <td>43.0</td>\n",
       "      <td>41000.0</td>\n",
       "      <td>2</td>\n",
       "      <td>1</td>\n",
       "    </tr>\n",
       "    <tr>\n",
       "      <td>6</td>\n",
       "      <td>1</td>\n",
       "      <td>39.0</td>\n",
       "      <td>39700.0</td>\n",
       "      <td>2</td>\n",
       "      <td>0</td>\n",
       "    </tr>\n",
       "    <tr>\n",
       "      <td>7</td>\n",
       "      <td>1</td>\n",
       "      <td>25.0</td>\n",
       "      <td>38600.0</td>\n",
       "      <td>4</td>\n",
       "      <td>0</td>\n",
       "    </tr>\n",
       "    <tr>\n",
       "      <td>8</td>\n",
       "      <td>1</td>\n",
       "      <td>36.0</td>\n",
       "      <td>49700.0</td>\n",
       "      <td>1</td>\n",
       "      <td>0</td>\n",
       "    </tr>\n",
       "    <tr>\n",
       "      <td>9</td>\n",
       "      <td>1</td>\n",
       "      <td>32.0</td>\n",
       "      <td>51700.0</td>\n",
       "      <td>1</td>\n",
       "      <td>0</td>\n",
       "    </tr>\n",
       "  </tbody>\n",
       "</table>\n",
       "</div>"
      ],
      "text/plain": [
       "   Пол  Возраст  Зарплата  Члены семьи  Страховые выплаты\n",
       "0    1     41.0   49600.0            1                  0\n",
       "1    0     46.0   38000.0            1                  1\n",
       "2    0     29.0   21000.0            0                  0\n",
       "3    0     21.0   41700.0            2                  0\n",
       "4    1     28.0   26100.0            0                  0\n",
       "5    1     43.0   41000.0            2                  1\n",
       "6    1     39.0   39700.0            2                  0\n",
       "7    1     25.0   38600.0            4                  0\n",
       "8    1     36.0   49700.0            1                  0\n",
       "9    1     32.0   51700.0            1                  0"
      ]
     },
     "metadata": {},
     "output_type": "display_data"
    },
    {
     "name": "stdout",
     "output_type": "stream",
     "text": [
      "<class 'pandas.core.frame.DataFrame'>\n",
      "RangeIndex: 5000 entries, 0 to 4999\n",
      "Data columns (total 5 columns):\n",
      "Пол                  5000 non-null int64\n",
      "Возраст              5000 non-null float64\n",
      "Зарплата             5000 non-null float64\n",
      "Члены семьи          5000 non-null int64\n",
      "Страховые выплаты    5000 non-null int64\n",
      "dtypes: float64(2), int64(3)\n",
      "memory usage: 195.4 KB\n"
     ]
    }
   ],
   "source": [
    "import pandas as pd #Импортирую библиотеку Pandas\n",
    "\n",
    "data = pd.read_csv('/datasets/insurance.csv') #Читаю датасет\n",
    "display(data.head(10)) #Вывожу первые 10 строк\n",
    "data.info() #Получаю информацию по датасету"
   ]
  },
  {
   "cell_type": "markdown",
   "metadata": {},
   "source": [
    "### 1.1 Вывод к этапу 1<a id='step2'></a>\n",
    "На этом этапе проедена загрузка данных и изучение общей информации.\n",
    "<br>Для анализа данных и построения модели предоставлен датасет, содержащий информацию о клиентах страховой компании «Хоть потоп». Датасет состоит из 5 столбцов с данными и 5000 строк. Пропуски в данных отсутствуют, подготовка данных не требуется.\n",
    "\n",
    "<br>**Датафрейм состоит из следующих столбцов:**\n",
    "<br>•\tПол — пол клиента\n",
    "<br>•\tВозраст — возраст клиента (годы)\n",
    "<br>•\tЗарплата — зарплата клиента (руб./месяц)\n",
    "<br>•\tЧлены семьи — количество членов семьи клиента\n",
    "<br>•\tСтраховые выплаты — количество страховых выплат клиенту за последние 5 лет\n",
    "\n",
    "**Для обучения модели выделим - **\n",
    "<br>**Признаки:** пол, возраст и зарплата застрахованного, количество членов его семьи.\n",
    "<br>**Целевой признак:** количество страховых выплат клиенту за последние 5 лет.\n",
    "\n",
    "Датасет изучен и готов к преобразованию и проверки моделей машинного обучения."
   ]
  },
  {
   "cell_type": "markdown",
   "metadata": {},
   "source": [
    "## 2. Умножение матриц<a id='step3'></a>"
   ]
  },
  {
   "cell_type": "markdown",
   "metadata": {},
   "source": [
    "**Ответ:**\n",
    "<br>При умножении признаков на обратимую матрицу. Качество линейной регрессии не изменится."
   ]
  },
  {
   "cell_type": "markdown",
   "metadata": {},
   "source": [
    "**Обоснование:**\n",
    "\n",
    "Для обоснования ответа применим следующие бозначения:\n",
    "\n",
    "- $X$ — матрица признаков (нулевой столбец состоит из единиц)\n",
    "\n",
    "- $y$ — вектор целевого признака\n",
    "\n",
    "- $P$ — матрица, на которую умножаются признаки\n",
    "\n",
    "- $w$ — вектор весов линейной регрессии (нулевой элемент равен сдвигу)"
   ]
  },
  {
   "cell_type": "markdown",
   "metadata": {},
   "source": [
    "Известно, что для линейной регрессии верны следующие выражения:\n",
    "\n",
    "Предсказания:\n",
    "\n",
    "$$\n",
    "a = Xw\n",
    "$$\n",
    "\n",
    "Задача обучения:\n",
    "\n",
    "$$\n",
    "w = \\arg\\min_w MSE(Xw, y)\n",
    "$$\n",
    "\n",
    "Формула обучения:\n",
    "\n",
    "$$\n",
    "w = (X^T X)^{-1} X^T y\n",
    "$$\n",
    "\n",
    "Умножим матрицу признаков X на обратимую матрицу P:\n",
    "\n",
    "$$\n",
    "a' = (XP)w'\n",
    "$$\n",
    "\n",
    "\n",
    "$$\n",
    "w' = ((XP)^T XP)^{-1} (XP)^T y\n",
    "$$\n",
    "\n",
    "Одно из войств транспонированных матриц: Транспонированное произведение матриц равно произведению транспонированных матриц, взятых в обратном порядке.\n",
    "\n",
    "$$\n",
    "(AB)^T = B^T A^T \n",
    "$$\n",
    "\n",
    "Одно из войств обратимых квадратных матриц: Матрица обратная произведению обратимых квадратных матриц равна произведению обратных матриц, взятых в обратном порядке.\n",
    "$$\n",
    "(AB)^{-1} = B^{-1} A^{-1} \n",
    "$$\n",
    "\n",
    "Следовательно:\n",
    "\n",
    "$$\n",
    "w' = (P^T X^T XP)^{-1} (XP)^T y\n",
    "$$\n",
    "$$\n",
    "w' = P^{-1} (P^T)^{-1} (X^T X)^{-1} P^T X^T y\n",
    "$$\n",
    "Поскольку:\n",
    "$$\n",
    "(P^T)^{-1} P^T = E \n",
    "$$\n",
    "Получаем:\n",
    "$$\n",
    "w' = P^{-1} (X^T X)^{-1} X^T y\n",
    "$$\n",
    "$$\n",
    "w' = P^{-1} w\n",
    "$$\n",
    "\n",
    "$$\n",
    "a' = (XP)P^{-1} w\n",
    "$$\n",
    "$$\n",
    "a' = Xw = a\n",
    "$$\n",
    "**Вывод:** Качество модели не изменится."
   ]
  },
  {
   "cell_type": "markdown",
   "metadata": {},
   "source": [
    "## 3. Алгоритм преобразования<a id='step4'></a>"
   ]
  },
  {
   "cell_type": "markdown",
   "metadata": {},
   "source": [
    "**Алгоритм**\n",
    "\n",
    "1. Выделяю признаки и целевой признак;\n",
    "2. Генерируем квадратную матрицу по количеству признаков, в нашем случае (4, 4);\n",
    "3. Генерируем обратную матрицу, если код не падает, следовательно исходная матрица обратимая;\n",
    "4. Выделяем матрицу из признаков;\n",
    "5. Умножаем матрицу признаков на обратимую матрицу;\n",
    "6. Создаем датафрейм из преобразованной матрицы;\n",
    "7. Разделяем исходный и преобразованный датасеты на обучающую и тестовую выборки;\n",
    "8. Обучаем модель линейной регресии для исходного датасета, вычисляем метрку R2;\n",
    "9. Обучаем модель линейной регресии для преобразованного датасета, вычисляем метрку R2;\n",
    "10. Проверяем равенство метрик R2 для двух моделей."
   ]
  },
  {
   "cell_type": "markdown",
   "metadata": {},
   "source": [
    "**Обоснование**\n",
    "\n",
    "Как видно из пункта 2, качество модели до преобразования датасета не изменится, если преобразовать исходный датасет умножив его на обратимую квадратную матрицу. Следовательно можно переходить к проверке алгоритма."
   ]
  },
  {
   "cell_type": "markdown",
   "metadata": {},
   "source": [
    "## Комментарий ревьюера\n",
    "<span style=\"color:green\">Всё так, приступим к проверке.</span>"
   ]
  },
  {
   "cell_type": "markdown",
   "metadata": {},
   "source": [
    "## 4. Проверка алгоритма<a id='step5'></a>"
   ]
  },
  {
   "cell_type": "code",
   "execution_count": 2,
   "metadata": {},
   "outputs": [
    {
     "name": "stdout",
     "output_type": "stream",
     "text": [
      "[[ 0.1374159  -0.02151494 -0.14175259 -0.14367747]\n",
      " [ 0.12313001 -0.06276677  0.01033458 -0.00608893]\n",
      " [-0.07257655  0.04997843 -0.00300037 -0.00813605]\n",
      " [ 0.06089089  0.10723576 -0.07167397  0.11813678]]\n"
     ]
    },
    {
     "data": {
      "text/html": [
       "<div>\n",
       "<style scoped>\n",
       "    .dataframe tbody tr th:only-of-type {\n",
       "        vertical-align: middle;\n",
       "    }\n",
       "\n",
       "    .dataframe tbody tr th {\n",
       "        vertical-align: top;\n",
       "    }\n",
       "\n",
       "    .dataframe thead th {\n",
       "        text-align: right;\n",
       "    }\n",
       "</style>\n",
       "<table border=\"1\" class=\"dataframe\">\n",
       "  <thead>\n",
       "    <tr style=\"text-align: right;\">\n",
       "      <th></th>\n",
       "      <th>Пол</th>\n",
       "      <th>Возраст</th>\n",
       "      <th>Зарплата</th>\n",
       "      <th>Члены семьи</th>\n",
       "    </tr>\n",
       "  </thead>\n",
       "  <tbody>\n",
       "    <tr>\n",
       "      <td>0</td>\n",
       "      <td>1</td>\n",
       "      <td>41.0</td>\n",
       "      <td>49600.0</td>\n",
       "      <td>1</td>\n",
       "    </tr>\n",
       "    <tr>\n",
       "      <td>1</td>\n",
       "      <td>0</td>\n",
       "      <td>46.0</td>\n",
       "      <td>38000.0</td>\n",
       "      <td>1</td>\n",
       "    </tr>\n",
       "    <tr>\n",
       "      <td>2</td>\n",
       "      <td>0</td>\n",
       "      <td>29.0</td>\n",
       "      <td>21000.0</td>\n",
       "      <td>0</td>\n",
       "    </tr>\n",
       "    <tr>\n",
       "      <td>3</td>\n",
       "      <td>0</td>\n",
       "      <td>21.0</td>\n",
       "      <td>41700.0</td>\n",
       "      <td>2</td>\n",
       "    </tr>\n",
       "    <tr>\n",
       "      <td>4</td>\n",
       "      <td>1</td>\n",
       "      <td>28.0</td>\n",
       "      <td>26100.0</td>\n",
       "      <td>0</td>\n",
       "    </tr>\n",
       "  </tbody>\n",
       "</table>\n",
       "</div>"
      ],
      "text/plain": [
       "   Пол  Возраст  Зарплата  Члены семьи\n",
       "0    1     41.0   49600.0            1\n",
       "1    0     46.0   38000.0            1\n",
       "2    0     29.0   21000.0            0\n",
       "3    0     21.0   41700.0            2\n",
       "4    1     28.0   26100.0            0"
      ]
     },
     "metadata": {},
     "output_type": "display_data"
    },
    {
     "name": "stdout",
     "output_type": "stream",
     "text": [
      "0       0\n",
      "1       1\n",
      "2       0\n",
      "3       0\n",
      "4       0\n",
      "       ..\n",
      "4995    0\n",
      "4996    0\n",
      "4997    0\n",
      "4998    0\n",
      "4999    0\n",
      "Name: Страховые выплаты, Length: 5000, dtype: int64\n"
     ]
    }
   ],
   "source": [
    "import numpy as np #Импортирую библиотеку Numpy\n",
    "\n",
    "features = data.drop('Страховые выплаты', axis=1) #Выделяю признаки\n",
    "target = data['Страховые выплаты'] #Выделяю целевой признак\n",
    "\n",
    " #Генерирую квадратную матрицу размером по количеству признаков\n",
    "neo = np.random.normal(0, 0.1, size=(features.shape[1], features.shape[1]))\n",
    "print(neo) #Печатаю матрицу\n",
    "\n",
    "trinity = np.linalg.inv(neo) #Генерирую обратную матрицу, если код не падает, следовательно исходная матрица обратимая\n",
    "\n",
    "display(features.head()) #Печатаю признаки\n",
    "print(target) #Печатаю целевой признак"
   ]
  },
  {
   "cell_type": "code",
   "execution_count": 3,
   "metadata": {},
   "outputs": [
    {
     "name": "stdout",
     "output_type": "stream",
     "text": [
      "(5000, 4)\n"
     ]
    }
   ],
   "source": [
    "morpheus = features.values #Выделяю матрицу из признаков\n",
    "matrix = morpheus.dot(neo) #Умножаю матрицу признаков на обратимую матрицу\n",
    "\n",
    "print(matrix.shape) #Проверяю размер преобразованной матрицы"
   ]
  },
  {
   "cell_type": "code",
   "execution_count": 4,
   "metadata": {},
   "outputs": [
    {
     "data": {
      "text/html": [
       "<div>\n",
       "<style scoped>\n",
       "    .dataframe tbody tr th:only-of-type {\n",
       "        vertical-align: middle;\n",
       "    }\n",
       "\n",
       "    .dataframe tbody tr th {\n",
       "        vertical-align: top;\n",
       "    }\n",
       "\n",
       "    .dataframe thead th {\n",
       "        text-align: right;\n",
       "    }\n",
       "</style>\n",
       "<table border=\"1\" class=\"dataframe\">\n",
       "  <thead>\n",
       "    <tr style=\"text-align: right;\">\n",
       "      <th></th>\n",
       "      <th>Пол</th>\n",
       "      <th>Возраст</th>\n",
       "      <th>Зарплата</th>\n",
       "      <th>Члены семьи</th>\n",
       "    </tr>\n",
       "  </thead>\n",
       "  <tbody>\n",
       "    <tr>\n",
       "      <td>0</td>\n",
       "      <td>-3594.550347</td>\n",
       "      <td>2476.442214</td>\n",
       "      <td>-148.607900</td>\n",
       "      <td>-403.823027</td>\n",
       "    </tr>\n",
       "    <tr>\n",
       "      <td>1</td>\n",
       "      <td>-2752.184109</td>\n",
       "      <td>1896.400153</td>\n",
       "      <td>-113.610220</td>\n",
       "      <td>-309.331670</td>\n",
       "    </tr>\n",
       "    <tr>\n",
       "      <td>2</td>\n",
       "      <td>-1520.536824</td>\n",
       "      <td>1047.726710</td>\n",
       "      <td>-62.707999</td>\n",
       "      <td>-171.033527</td>\n",
       "    </tr>\n",
       "    <tr>\n",
       "      <td>3</td>\n",
       "      <td>-3023.734711</td>\n",
       "      <td>2082.996735</td>\n",
       "      <td>-125.041615</td>\n",
       "      <td>-339.164677</td>\n",
       "    </tr>\n",
       "    <tr>\n",
       "      <td>4</td>\n",
       "      <td>-1890.662954</td>\n",
       "      <td>1302.657935</td>\n",
       "      <td>-78.161957</td>\n",
       "      <td>-212.664946</td>\n",
       "    </tr>\n",
       "  </tbody>\n",
       "</table>\n",
       "</div>"
      ],
      "text/plain": [
       "           Пол      Возраст    Зарплата  Члены семьи\n",
       "0 -3594.550347  2476.442214 -148.607900  -403.823027\n",
       "1 -2752.184109  1896.400153 -113.610220  -309.331670\n",
       "2 -1520.536824  1047.726710  -62.707999  -171.033527\n",
       "3 -3023.734711  2082.996735 -125.041615  -339.164677\n",
       "4 -1890.662954  1302.657935  -78.161957  -212.664946"
      ]
     },
     "metadata": {},
     "output_type": "display_data"
    },
    {
     "name": "stdout",
     "output_type": "stream",
     "text": [
      "<class 'pandas.core.frame.DataFrame'>\n",
      "RangeIndex: 5000 entries, 0 to 4999\n",
      "Data columns (total 4 columns):\n",
      "Пол            5000 non-null float64\n",
      "Возраст        5000 non-null float64\n",
      "Зарплата       5000 non-null float64\n",
      "Члены семьи    5000 non-null float64\n",
      "dtypes: float64(4)\n",
      "memory usage: 156.4 KB\n"
     ]
    }
   ],
   "source": [
    "matrix_features = pd.DataFrame(matrix, columns = features.columns) #Создаю датафрейм из преобразованной матрицы\n",
    "display(matrix_features.head()) #Печатаю первые 5 строк преобразованных признаков\n",
    "matrix_features.info() #Получаю информацию о преобразованном датасете"
   ]
  },
  {
   "cell_type": "code",
   "execution_count": 5,
   "metadata": {},
   "outputs": [],
   "source": [
    "from sklearn.linear_model import LinearRegression #Импортирую модель LinearRegression из библиотеки sklearn\n",
    "from sklearn.metrics import r2_score #Импортирую метрику r2_score из библиотеки sklearn\n",
    "from sklearn.model_selection import train_test_split #Импортирую функцию train_test_split из библиотеки sklearn\n",
    "\n",
    "#Разделяю исходный и преобразованный датасеты на обучающую и тестовую выборки\n",
    "features_train, features_test, target_train, target_test = train_test_split(features, target, test_size=0.35, random_state=42)\n",
    "matrix_features_train, matrix_features_test, target_train, target_test = train_test_split(matrix_features, target, test_size=0.35, random_state=42)"
   ]
  },
  {
   "cell_type": "code",
   "execution_count": 6,
   "metadata": {},
   "outputs": [
    {
     "name": "stdout",
     "output_type": "stream",
     "text": [
      "0.41501051\n"
     ]
    }
   ],
   "source": [
    "#Обучаю модель линейной регресии для исходного датасета, вычисляю метрку R2\n",
    "model = LinearRegression()\n",
    "model.fit(features_train, target_train)\n",
    "predictions = model.predict(features_test)\n",
    "r2 = round(r2_score(target_test, predictions), 8)\n",
    "print(r2)"
   ]
  },
  {
   "cell_type": "code",
   "execution_count": 7,
   "metadata": {},
   "outputs": [
    {
     "name": "stdout",
     "output_type": "stream",
     "text": [
      "0.41501051\n"
     ]
    }
   ],
   "source": [
    "#Обучаю модель линейной регресии для преобразованного датасета, вычисляю метрку R2\n",
    "matrix_model = LinearRegression()\n",
    "matrix_model.fit(matrix_features_train, target_train)\n",
    "matrix_predictions = matrix_model.predict(matrix_features_test)\n",
    "matrix_r2 =  round(r2_score(target_test, matrix_predictions), 8)\n",
    "print(matrix_r2)"
   ]
  },
  {
   "cell_type": "code",
   "execution_count": 8,
   "metadata": {},
   "outputs": [
    {
     "name": "stdout",
     "output_type": "stream",
     "text": [
      "Качество модели после преобразования не изменилось!\n"
     ]
    }
   ],
   "source": [
    "#Вишенка на торте\n",
    "if r2 == matrix_r2:\n",
    "    print('Качество модели после преобразования не изменилось!')\n",
    "else:\n",
    "    print('Что-то пошло не так! Поработай-ка еще.')"
   ]
  },
  {
   "cell_type": "markdown",
   "metadata": {},
   "source": [
    "## 5. Общий вывод <a id='step6'></a>"
   ]
  },
  {
   "cell_type": "markdown",
   "metadata": {},
   "source": [
    "Для анализа данных и построения модели предоставлен датасет, содержащий информацию о клиентах страховой компании «Хоть потоп». Датасет состоит из 5 столбцов с данными и 5000 строк. Пропуски в данных отсутствуют, подготовка данных не требуется.\n",
    "\n",
    "**Задача проекта:** Разработать такой метод преобразования данных, чтобы по ним было сложно восстановить персональную информацию.\n",
    "\n",
    "**Цель проекта:** Защитить данные, чтобы при преобразовании качество моделей машинного обучения не ухудшилось.\n",
    "\n",
    "Поскольку качество модели не уменьшится при умножении признаков на квадратную обратимую матрицу, был составлен алгоритм преобразования.\n",
    "<br>Для защиты данных клиентов исходный датасет был преобразован путем умножения признаков на квадратную обратимую матрицу.\n",
    "<br>Далее проведены стандартные шаги по разделению датасетов на обучающие и тестовые выборкт, обучение моделей и сравнение метрик R2 для обеих.\n",
    "<br>Поскольку эесперимент показал равенство метрик для обоеих моделей, следовательно качество предсказаний не изменится, а личные данные клиентов теперь более надежно защищены."
   ]
  }
 ],
 "metadata": {
  "kernelspec": {
   "display_name": "Python 3",
   "language": "python",
   "name": "python3"
  },
  "language_info": {
   "codemirror_mode": {
    "name": "ipython",
    "version": 3
   },
   "file_extension": ".py",
   "mimetype": "text/x-python",
   "name": "python",
   "nbconvert_exporter": "python",
   "pygments_lexer": "ipython3",
   "version": "3.7.6"
  }
 },
 "nbformat": 4,
 "nbformat_minor": 2
}
