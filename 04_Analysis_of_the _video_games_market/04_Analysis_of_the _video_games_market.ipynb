{
 "cells": [
  {
   "cell_type": "markdown",
   "metadata": {},
   "source": [
    "# Анализ рынка компьютерных игр\n",
    "<br>Интернет-магазин «Стримчик», продающий по всему миру компьютерные игры, руководствуясь информацией из открытых источников подготовил данные о продажах игр, оценок пользователей и экспертов, жанров и платформ (например, Xbox или PlayStation). \n",
    "<br>Для анализа переданы данные до 2016 года. Нужно отработать принцип работы с данными так, чтобы можно было составить прогноз по продажам на любой последующий год, руководствуюясь данными прошлого года.\n",
    "\n",
    "<br>**Задача - выявить определяющие успешность игры закономерности. Это позволит сделать ставку на потенциально популярный продукт и спланировать рекламные кампании.**\n",
    "\n",
    "<br> *Примечание: В наборе данных попадается аббревиатура ESRB (Entertainment Software Rating Board) — это ассоциация, определяющая возрастной рейтинг компьютерных игр. ESRB оценивает игровой контент и присваивает ему подходящую возрастную категорию, например, «Для взрослых», «Для детей младшего возраста» или «Для подростков».*"
   ]
  },
  {
   "cell_type": "markdown",
   "metadata": {},
   "source": [
    "### План проекта\n",
    "1. Открытие файла с данными и изучение общей информации;\n",
    "2. Подготовка данных;\n",
    "<br>- замена названий столбцов\n",
    "<br>- преобразование данных в нужные типы\n",
    "<br>- обработка пропусков\n",
    "3. Исследовательский анализ данных;\n",
    "4. Составление портрета пользователя каждого региона;\n",
    "5. Проверка гипотез;\n",
    "6. Общий вывод."
   ]
  },
  {
   "cell_type": "markdown",
   "metadata": {},
   "source": [
    "### Шаг 1. Открытие файлов с данными и изучение общей информации. "
   ]
  },
  {
   "cell_type": "code",
   "execution_count": 84,
   "metadata": {},
   "outputs": [
    {
     "data": {
      "text/html": [
       "<div>\n",
       "<style scoped>\n",
       "    .dataframe tbody tr th:only-of-type {\n",
       "        vertical-align: middle;\n",
       "    }\n",
       "\n",
       "    .dataframe tbody tr th {\n",
       "        vertical-align: top;\n",
       "    }\n",
       "\n",
       "    .dataframe thead th {\n",
       "        text-align: right;\n",
       "    }\n",
       "</style>\n",
       "<table border=\"1\" class=\"dataframe\">\n",
       "  <thead>\n",
       "    <tr style=\"text-align: right;\">\n",
       "      <th></th>\n",
       "      <th>Name</th>\n",
       "      <th>Platform</th>\n",
       "      <th>Year_of_Release</th>\n",
       "      <th>Genre</th>\n",
       "      <th>NA_sales</th>\n",
       "      <th>EU_sales</th>\n",
       "      <th>JP_sales</th>\n",
       "      <th>Other_sales</th>\n",
       "      <th>Critic_Score</th>\n",
       "      <th>User_Score</th>\n",
       "      <th>Rating</th>\n",
       "    </tr>\n",
       "  </thead>\n",
       "  <tbody>\n",
       "    <tr>\n",
       "      <td>0</td>\n",
       "      <td>Wii Sports</td>\n",
       "      <td>Wii</td>\n",
       "      <td>2006.0</td>\n",
       "      <td>Sports</td>\n",
       "      <td>41.36</td>\n",
       "      <td>28.96</td>\n",
       "      <td>3.77</td>\n",
       "      <td>8.45</td>\n",
       "      <td>76.0</td>\n",
       "      <td>8</td>\n",
       "      <td>E</td>\n",
       "    </tr>\n",
       "    <tr>\n",
       "      <td>1</td>\n",
       "      <td>Super Mario Bros.</td>\n",
       "      <td>NES</td>\n",
       "      <td>1985.0</td>\n",
       "      <td>Platform</td>\n",
       "      <td>29.08</td>\n",
       "      <td>3.58</td>\n",
       "      <td>6.81</td>\n",
       "      <td>0.77</td>\n",
       "      <td>NaN</td>\n",
       "      <td>NaN</td>\n",
       "      <td>NaN</td>\n",
       "    </tr>\n",
       "    <tr>\n",
       "      <td>2</td>\n",
       "      <td>Mario Kart Wii</td>\n",
       "      <td>Wii</td>\n",
       "      <td>2008.0</td>\n",
       "      <td>Racing</td>\n",
       "      <td>15.68</td>\n",
       "      <td>12.76</td>\n",
       "      <td>3.79</td>\n",
       "      <td>3.29</td>\n",
       "      <td>82.0</td>\n",
       "      <td>8.3</td>\n",
       "      <td>E</td>\n",
       "    </tr>\n",
       "    <tr>\n",
       "      <td>3</td>\n",
       "      <td>Wii Sports Resort</td>\n",
       "      <td>Wii</td>\n",
       "      <td>2009.0</td>\n",
       "      <td>Sports</td>\n",
       "      <td>15.61</td>\n",
       "      <td>10.93</td>\n",
       "      <td>3.28</td>\n",
       "      <td>2.95</td>\n",
       "      <td>80.0</td>\n",
       "      <td>8</td>\n",
       "      <td>E</td>\n",
       "    </tr>\n",
       "    <tr>\n",
       "      <td>4</td>\n",
       "      <td>Pokemon Red/Pokemon Blue</td>\n",
       "      <td>GB</td>\n",
       "      <td>1996.0</td>\n",
       "      <td>Role-Playing</td>\n",
       "      <td>11.27</td>\n",
       "      <td>8.89</td>\n",
       "      <td>10.22</td>\n",
       "      <td>1.00</td>\n",
       "      <td>NaN</td>\n",
       "      <td>NaN</td>\n",
       "      <td>NaN</td>\n",
       "    </tr>\n",
       "  </tbody>\n",
       "</table>\n",
       "</div>"
      ],
      "text/plain": [
       "                       Name Platform  Year_of_Release         Genre  NA_sales  \\\n",
       "0                Wii Sports      Wii           2006.0        Sports     41.36   \n",
       "1         Super Mario Bros.      NES           1985.0      Platform     29.08   \n",
       "2            Mario Kart Wii      Wii           2008.0        Racing     15.68   \n",
       "3         Wii Sports Resort      Wii           2009.0        Sports     15.61   \n",
       "4  Pokemon Red/Pokemon Blue       GB           1996.0  Role-Playing     11.27   \n",
       "\n",
       "   EU_sales  JP_sales  Other_sales  Critic_Score User_Score Rating  \n",
       "0     28.96      3.77         8.45          76.0          8      E  \n",
       "1      3.58      6.81         0.77           NaN        NaN    NaN  \n",
       "2     12.76      3.79         3.29          82.0        8.3      E  \n",
       "3     10.93      3.28         2.95          80.0          8      E  \n",
       "4      8.89     10.22         1.00           NaN        NaN    NaN  "
      ]
     },
     "metadata": {},
     "output_type": "display_data"
    }
   ],
   "source": [
    "#Прежде всего импортирую нужные библиотеки\n",
    "import pandas as pd #Импортирую библиотеку pandas\n",
    "%matplotlib inline\n",
    "import matplotlib.pyplot as plt #Импортирую библиотеку matplotlib\n",
    "import seaborn as sns #Импортирую библиотеку seaborn\n",
    "import numpy as np #Импортирую библиотеку высокоуровневых математических функций numpy\n",
    "from scipy import stats as st # Из библиотеки scipy импортирую медод stats\n",
    "import math #Импортирую модуль math\n",
    "\n",
    "#Читаю файл с данными\n",
    "games_df = pd.read_csv('/datasets/games.csv') \n",
    "#Печатаю первые 5 строк таблицы для ознакомления с данными\n",
    "display(games_df.head())"
   ]
  },
  {
   "cell_type": "markdown",
   "metadata": {},
   "source": [
    "### Описание  полученных данных\n",
    "Для обработки и анализа получен датасет, ныне гордо именуемый *games_df*. Он состоит из следующих столбцов:\n",
    "\n",
    "<br>•\tName — название игры\n",
    "<br>•\tPlatform — платформа\n",
    "<br>•\tYear_of_Release — год выпуска\n",
    "<br>•\tGenre — жанр игры\n",
    "<br>•\tNA_sales — продажи в Северной Америке (миллионы проданных копий)\n",
    "<br>•\tEU_sales — продажи в Европе (миллионы проданных копий)\n",
    "<br>•\tJP_sales — продажи в Японии (миллионы проданных копий)\n",
    "<br>•\tOther_sales — продажи в других странах (миллионы проданных копий)\n",
    "<br>•\tCritic_Score — оценка критиков (максимум 100)\n",
    "<br>•\tUser_Score — оценка пользователей (максимум 10)\n",
    "<br>•\tRating — рейтинг от организации ESRB (определяет возрастную категорию игр)"
   ]
  },
  {
   "cell_type": "code",
   "execution_count": 85,
   "metadata": {},
   "outputs": [
    {
     "name": "stdout",
     "output_type": "stream",
     "text": [
      "<class 'pandas.core.frame.DataFrame'>\n",
      "RangeIndex: 16715 entries, 0 to 16714\n",
      "Data columns (total 11 columns):\n",
      "Name               16713 non-null object\n",
      "Platform           16715 non-null object\n",
      "Year_of_Release    16446 non-null float64\n",
      "Genre              16713 non-null object\n",
      "NA_sales           16715 non-null float64\n",
      "EU_sales           16715 non-null float64\n",
      "JP_sales           16715 non-null float64\n",
      "Other_sales        16715 non-null float64\n",
      "Critic_Score       8137 non-null float64\n",
      "User_Score         10014 non-null object\n",
      "Rating             9949 non-null object\n",
      "dtypes: float64(6), object(5)\n",
      "memory usage: 1.4+ MB\n"
     ]
    }
   ],
   "source": [
    "#Получаю информацию по датасету\n",
    "games_df.info()"
   ]
  },
  {
   "cell_type": "markdown",
   "metadata": {},
   "source": [
    "### Индивидуальное рассмотрение  полученных данных\n",
    "Индивидуально рассмотрю некоторые столбцы в датасете, а именно: 'Platform', 'Year_of_Release', 'Genre', 'Critic_Score', 'User_Score', 'Rating'"
   ]
  },
  {
   "cell_type": "code",
   "execution_count": 86,
   "metadata": {},
   "outputs": [
    {
     "name": "stdout",
     "output_type": "stream",
     "text": [
      "Список игровых платформ\n",
      "['Wii' 'NES' 'GB' 'DS' 'X360' 'PS3' 'PS2' 'SNES' 'GBA' 'PS4' '3DS' 'N64'\n",
      " 'PS' 'XB' 'PC' '2600' 'PSP' 'XOne' 'WiiU' 'GC' 'GEN' 'DC' 'PSV' 'SAT'\n",
      " 'SCD' 'WS' 'NG' 'TG16' '3DO' 'GG' 'PCFX']\n",
      "_____________________________________________________________________\n",
      "Годы релизов игр\n",
      "[1980.0, 1981.0, 1982.0, 1983.0, 1984.0, 1985.0, 1986.0, 1987.0, 1988.0, 1989.0, 1990.0, 1991.0, 1992.0, 1993.0, 1994.0, 1995.0, 1996.0, 1997.0, 1998.0, 1999.0, 2000.0, 2001.0, 2002.0, 2003.0, 2004.0, 2005.0, 2006.0, 2007.0, 2008.0, 2009.0, 2010.0, 2011.0, 2012.0, 2013.0, 2014.0, 2015.0, 2016.0, nan]\n",
      "_____________________________________________________________________\n",
      "Игровые жанры\n",
      "['Sports' 'Platform' 'Racing' 'Role-Playing' 'Puzzle' 'Misc' 'Shooter'\n",
      " 'Simulation' 'Action' 'Fighting' 'Adventure' 'Strategy' nan]\n",
      "_____________________________________________________________________\n",
      "Оценки критиков\n",
      "[76. nan 82. 80. 89. 58. 87. 91. 61. 97. 95. 77. 88. 83. 94. 93. 85. 86.\n",
      " 98. 96. 90. 84. 73. 74. 78. 92. 71. 72. 68. 62. 49. 67. 81. 66. 56. 79.\n",
      " 70. 59. 64. 75. 60. 63. 69. 50. 25. 42. 44. 55. 48. 57. 29. 47. 65. 54.\n",
      " 20. 53. 37. 38. 33. 52. 30. 32. 43. 45. 51. 40. 46. 39. 34. 35. 41. 36.\n",
      " 28. 31. 27. 26. 19. 23. 24. 21. 17. 22. 13.]\n",
      "_____________________________________________________________________\n",
      "Оценки пользователей\n",
      "['8' nan '8.3' '8.5' '6.6' '8.4' '8.6' '7.7' '6.3' '7.4' '8.2' '9' '7.9'\n",
      " '8.1' '8.7' '7.1' '3.4' '5.3' '4.8' '3.2' '8.9' '6.4' '7.8' '7.5' '2.6'\n",
      " '7.2' '9.2' '7' '7.3' '4.3' '7.6' '5.7' '5' '9.1' '6.5' 'tbd' '8.8' '6.9'\n",
      " '9.4' '6.8' '6.1' '6.7' '5.4' '4' '4.9' '4.5' '9.3' '6.2' '4.2' '6' '3.7'\n",
      " '4.1' '5.8' '5.6' '5.5' '4.4' '4.6' '5.9' '3.9' '3.1' '2.9' '5.2' '3.3'\n",
      " '4.7' '5.1' '3.5' '2.5' '1.9' '3' '2.7' '2.2' '2' '9.5' '2.1' '3.6' '2.8'\n",
      " '1.8' '3.8' '0' '1.6' '9.6' '2.4' '1.7' '1.1' '0.3' '1.5' '0.7' '1.2'\n",
      " '2.3' '0.5' '1.3' '0.2' '0.6' '1.4' '0.9' '1' '9.7']\n",
      "_____________________________________________________________________\n",
      "Рейтинг игр\n",
      "['E' nan 'M' 'T' 'E10+' 'K-A' 'AO' 'EC' 'RP']\n"
     ]
    }
   ],
   "source": [
    "print('Список игровых платформ')\n",
    "print(games_df['Platform'].unique()) #Определяю уникальные значения столбца\n",
    "print('_____________________________________________________________________')\n",
    "print('Годы релизов игр')\n",
    "print(sorted(games_df['Year_of_Release'].unique())) #Определяю уникальные значения столбца\n",
    "print('_____________________________________________________________________')\n",
    "print('Игровые жанры')\n",
    "print(games_df['Genre'].unique()) #Определяю уникальные значения столбца\n",
    "print('_____________________________________________________________________')\n",
    "print('Оценки критиков')\n",
    "print(games_df['Critic_Score'].unique()) #Определяю уникальные значения столбца\n",
    "print('_____________________________________________________________________')\n",
    "print('Оценки пользователей')\n",
    "print(games_df['User_Score'].unique()) #Определяю уникальные значения столбца\n",
    "print('_____________________________________________________________________')\n",
    "print('Рейтинг игр')\n",
    "print(games_df['Rating'].unique()) #Определяю уникальные значения столбца"
   ]
  },
  {
   "cell_type": "markdown",
   "metadata": {},
   "source": [
    "### Вывод к Шагу 1"
   ]
  },
  {
   "cell_type": "markdown",
   "metadata": {},
   "source": [
    "Для проведения исследовательсвокго и статистического анализа предоставлена генеральная совокупностьданных по рынку компьютерных игр выходивших с 1980 по 2016 годы на различных платформах. В датасете 16715 строк с данными, и следующие столбцы:\n",
    "\n",
    "<br>**Столбец 'Name'**<br>\n",
    "Содержит названия игр. Тип данных *object*. Содержит 2 пропущенных значения, что составляет 0,012%. Отсутствие этих данных можно смело считать ошибкой возникшей либо в процессе конвертирования, либо по причине других факторов, например: достоверное название игры не сохранилось, название игры было на **другом языке** (предоложем на русском, почему нет... в России тоже был бум разработки компьютерных игр, вспомните хотябы знаменитые квесты про Чапаева или про Братьев Пилотов, а еще были Аллоды, Вагнеры, Космические рейнджеры, Демиурги, Дальнобойщики, Тетрис(!!!) и множество других, некторые из них, издавались за рубежом). Пропущенные значения в этом столбце подлежат удалению.  \n",
    "\n",
    "<br>**Столбец 'Platform'**<br>\n",
    "Содержит названия игровых платформ, существовавших в стародавние времена и существующие до сих пор. Тип данных *object*. Пропущенные значения в столбце отсутствуют. Подготовка данных не требуется.\n",
    "\n",
    "<br>**Столбец 'Year_of_Release'**<br>\n",
    "Содержит данные по годам выхода игр. Тип данных *float64*. Содержит 269 пропущенных значений, что составляет 1,6%. Отсутствие этих данных также можно считать ошибкой, возникшей либо в процессе конвертирования данных, либо просто потому, то достоверно неизвестен год выхода игры, это может быть характерно для старых игр. Тип данных следует перевести в *datetime*. Пропущенные значения в этом столбце подлежат удалению. \n",
    "\n",
    "<br>**Столбец 'Genre'**<br>\n",
    "Содержит название жанров игр. Тип данных *object*. Также как и столбец 'Name' содержит 2 пропущенных значения, что составляет 0,012%. Отсутствие этих данных можно считать ошибкой возникшей либо в процессе конвертирования, либо по причине других факторов, например: достоверно не известен жанр игры, или жанр игры не определен разработчиком (такое возможно в случае сочетания нескольких жанров в одной игре). Пропущенные значения в этом столбце подлежат удалению. \n",
    "\n",
    "<br>**Столбцы 'NA_sales', 'EU_sales', 'JP_sales', 'other_sales'**<br>\n",
    "Содержат информацию о продаже компьютерных игр, выраженную в миллионах проданных копий для Северной Америки, Европы, Японии и других стран соответственно. Тип данных *float64*. Пропущенные значения в столбце отсутствуют. Подготовка данных не требуется.\n",
    "\n",
    "<br>**Столбец 'Critic_Score'**<br>\n",
    "Содержит данные об оценке игр со стороны критиков. Тип данных *float64*. Содержит 8 578 пропущенных значений, что составляет немного, немало 51,3%. Отсутствие этих данных можно считать ошибкой возникшей в процессе конвертирования данных. Хотя с другой стороны, наличите пропущеных значений может быть обусловлено тем, что составление рейтигов компьютерных игр началось с серидины лихих 90-х годов прошлого века. Пропущенные значения в этом столбце не подлежат обработке.\n",
    "\n",
    "<br>**Столбец 'User_Score'**<br>\n",
    "Содержит данные об оценке игр со стороны пользователей. Тип данных *object*. Содержит 6 701 пропущенных значений, что составляет 40,1% от общего числа строк. Отсутствие этих данных описывается аналогично столбцу 'Critic_Score'. Тип данных следует заменить на *float64*. Пропущенные значения в этом столбце не подлежат обработке. Дополнительно отмечу, что в этом столбце присутствуют значения 'tbd', что означает *to be determined* и переводится как \"будет уточнено\". Скорее всего эти данные характерны для недавно вышедших игр, рейтинг среди пользователей которых еще не определен. Действие с этими данным будут понятны в ходе Шага 2, поскольку сперва необходмо определить их количество и уровень значимости.\n",
    "\n",
    "<br>**Столбец 'Rating'**<br>\n",
    "Содержит данные о рейтинге игр по возрастам от организации ESRB. Тип данных *object*. Содержит 6 766 пропущенных значений, что составляет 40,4% от общего числа строк. Отсутствие этих данных описывается аналогично столбцам 'Critic_Score' и 'User_Score'. Однако стоит подробнее разобраться с наименованиями рейтингов, поскольку среди них могут оказаться ошибочные или неверные. Пропущенные значения в этом столбце также не подлежат обработке.\n",
    "\n",
    "<br>**Обобщение**<br>\n",
    "Рынок компьютерных игр - стремительно развивающийся, подверженный новым трендам и изменениям коньюнктуры. Даже относительно небольшой временной промежуток может кардинально изменить отрасль. Эта идея ляжет в основу текущего проекта. Есть предположение, что для анализа данных нам потребуется лишь небольшой отрезок времени наиболее приближенный к настоящему."
   ]
  },
  {
   "cell_type": "markdown",
   "metadata": {},
   "source": [
    "### Шаг 2. Подготовка данных. "
   ]
  },
  {
   "cell_type": "markdown",
   "metadata": {},
   "source": [
    "Руководствуясь выводами из Шага 1 провожу подготовку данных."
   ]
  },
  {
   "cell_type": "code",
   "execution_count": 87,
   "metadata": {},
   "outputs": [
    {
     "name": "stdout",
     "output_type": "stream",
     "text": [
      "<class 'pandas.core.frame.DataFrame'>\n",
      "RangeIndex: 16715 entries, 0 to 16714\n",
      "Data columns (total 11 columns):\n",
      "name               16713 non-null object\n",
      "platform           16715 non-null object\n",
      "year_of_release    16446 non-null float64\n",
      "genre              16713 non-null object\n",
      "na_sales           16715 non-null float64\n",
      "eu_sales           16715 non-null float64\n",
      "jp_sales           16715 non-null float64\n",
      "other_sales        16715 non-null float64\n",
      "critic_score       8137 non-null float64\n",
      "user_score         10014 non-null object\n",
      "rating             9949 non-null object\n",
      "dtypes: float64(6), object(5)\n",
      "memory usage: 1.4+ MB\n"
     ]
    }
   ],
   "source": [
    "#Привожу названия столбцов к нижнему регистру\n",
    "games_df.columns = games_df.columns.str.lower()\n",
    "games_df.info() #Проверяю результат"
   ]
  },
  {
   "cell_type": "code",
   "execution_count": 88,
   "metadata": {},
   "outputs": [
    {
     "name": "stdout",
     "output_type": "stream",
     "text": [
      "Пропуски в столбце \"name\"\n"
     ]
    },
    {
     "data": {
      "text/html": [
       "<div>\n",
       "<style scoped>\n",
       "    .dataframe tbody tr th:only-of-type {\n",
       "        vertical-align: middle;\n",
       "    }\n",
       "\n",
       "    .dataframe tbody tr th {\n",
       "        vertical-align: top;\n",
       "    }\n",
       "\n",
       "    .dataframe thead th {\n",
       "        text-align: right;\n",
       "    }\n",
       "</style>\n",
       "<table border=\"1\" class=\"dataframe\">\n",
       "  <thead>\n",
       "    <tr style=\"text-align: right;\">\n",
       "      <th></th>\n",
       "      <th>name</th>\n",
       "      <th>platform</th>\n",
       "      <th>year_of_release</th>\n",
       "      <th>genre</th>\n",
       "      <th>na_sales</th>\n",
       "      <th>eu_sales</th>\n",
       "      <th>jp_sales</th>\n",
       "      <th>other_sales</th>\n",
       "      <th>critic_score</th>\n",
       "      <th>user_score</th>\n",
       "      <th>rating</th>\n",
       "    </tr>\n",
       "  </thead>\n",
       "  <tbody>\n",
       "    <tr>\n",
       "      <td>659</td>\n",
       "      <td>NaN</td>\n",
       "      <td>GEN</td>\n",
       "      <td>1993.0</td>\n",
       "      <td>NaN</td>\n",
       "      <td>1.78</td>\n",
       "      <td>0.53</td>\n",
       "      <td>0.00</td>\n",
       "      <td>0.08</td>\n",
       "      <td>NaN</td>\n",
       "      <td>NaN</td>\n",
       "      <td>NaN</td>\n",
       "    </tr>\n",
       "    <tr>\n",
       "      <td>14244</td>\n",
       "      <td>NaN</td>\n",
       "      <td>GEN</td>\n",
       "      <td>1993.0</td>\n",
       "      <td>NaN</td>\n",
       "      <td>0.00</td>\n",
       "      <td>0.00</td>\n",
       "      <td>0.03</td>\n",
       "      <td>0.00</td>\n",
       "      <td>NaN</td>\n",
       "      <td>NaN</td>\n",
       "      <td>NaN</td>\n",
       "    </tr>\n",
       "  </tbody>\n",
       "</table>\n",
       "</div>"
      ],
      "text/plain": [
       "      name platform  year_of_release genre  na_sales  eu_sales  jp_sales  \\\n",
       "659    NaN      GEN           1993.0   NaN      1.78      0.53      0.00   \n",
       "14244  NaN      GEN           1993.0   NaN      0.00      0.00      0.03   \n",
       "\n",
       "       other_sales  critic_score user_score rating  \n",
       "659           0.08           NaN        NaN    NaN  \n",
       "14244         0.00           NaN        NaN    NaN  "
      ]
     },
     "metadata": {},
     "output_type": "display_data"
    },
    {
     "name": "stdout",
     "output_type": "stream",
     "text": [
      "Пропуски в столбце \"year_of_release\"\n"
     ]
    },
    {
     "data": {
      "text/html": [
       "<div>\n",
       "<style scoped>\n",
       "    .dataframe tbody tr th:only-of-type {\n",
       "        vertical-align: middle;\n",
       "    }\n",
       "\n",
       "    .dataframe tbody tr th {\n",
       "        vertical-align: top;\n",
       "    }\n",
       "\n",
       "    .dataframe thead th {\n",
       "        text-align: right;\n",
       "    }\n",
       "</style>\n",
       "<table border=\"1\" class=\"dataframe\">\n",
       "  <thead>\n",
       "    <tr style=\"text-align: right;\">\n",
       "      <th></th>\n",
       "      <th>name</th>\n",
       "      <th>platform</th>\n",
       "      <th>year_of_release</th>\n",
       "      <th>genre</th>\n",
       "      <th>na_sales</th>\n",
       "      <th>eu_sales</th>\n",
       "      <th>jp_sales</th>\n",
       "      <th>other_sales</th>\n",
       "      <th>critic_score</th>\n",
       "      <th>user_score</th>\n",
       "      <th>rating</th>\n",
       "    </tr>\n",
       "  </thead>\n",
       "  <tbody>\n",
       "    <tr>\n",
       "      <td>183</td>\n",
       "      <td>Madden NFL 2004</td>\n",
       "      <td>PS2</td>\n",
       "      <td>NaN</td>\n",
       "      <td>Sports</td>\n",
       "      <td>4.26</td>\n",
       "      <td>0.26</td>\n",
       "      <td>0.01</td>\n",
       "      <td>0.71</td>\n",
       "      <td>94.0</td>\n",
       "      <td>8.5</td>\n",
       "      <td>E</td>\n",
       "    </tr>\n",
       "    <tr>\n",
       "      <td>377</td>\n",
       "      <td>FIFA Soccer 2004</td>\n",
       "      <td>PS2</td>\n",
       "      <td>NaN</td>\n",
       "      <td>Sports</td>\n",
       "      <td>0.59</td>\n",
       "      <td>2.36</td>\n",
       "      <td>0.04</td>\n",
       "      <td>0.51</td>\n",
       "      <td>84.0</td>\n",
       "      <td>6.4</td>\n",
       "      <td>E</td>\n",
       "    </tr>\n",
       "    <tr>\n",
       "      <td>456</td>\n",
       "      <td>LEGO Batman: The Videogame</td>\n",
       "      <td>Wii</td>\n",
       "      <td>NaN</td>\n",
       "      <td>Action</td>\n",
       "      <td>1.80</td>\n",
       "      <td>0.97</td>\n",
       "      <td>0.00</td>\n",
       "      <td>0.29</td>\n",
       "      <td>74.0</td>\n",
       "      <td>7.9</td>\n",
       "      <td>E10+</td>\n",
       "    </tr>\n",
       "    <tr>\n",
       "      <td>475</td>\n",
       "      <td>wwe Smackdown vs. Raw 2006</td>\n",
       "      <td>PS2</td>\n",
       "      <td>NaN</td>\n",
       "      <td>Fighting</td>\n",
       "      <td>1.57</td>\n",
       "      <td>1.02</td>\n",
       "      <td>0.00</td>\n",
       "      <td>0.41</td>\n",
       "      <td>NaN</td>\n",
       "      <td>NaN</td>\n",
       "      <td>NaN</td>\n",
       "    </tr>\n",
       "    <tr>\n",
       "      <td>609</td>\n",
       "      <td>Space Invaders</td>\n",
       "      <td>2600</td>\n",
       "      <td>NaN</td>\n",
       "      <td>Shooter</td>\n",
       "      <td>2.36</td>\n",
       "      <td>0.14</td>\n",
       "      <td>0.00</td>\n",
       "      <td>0.03</td>\n",
       "      <td>NaN</td>\n",
       "      <td>NaN</td>\n",
       "      <td>NaN</td>\n",
       "    </tr>\n",
       "    <tr>\n",
       "      <td>...</td>\n",
       "      <td>...</td>\n",
       "      <td>...</td>\n",
       "      <td>...</td>\n",
       "      <td>...</td>\n",
       "      <td>...</td>\n",
       "      <td>...</td>\n",
       "      <td>...</td>\n",
       "      <td>...</td>\n",
       "      <td>...</td>\n",
       "      <td>...</td>\n",
       "      <td>...</td>\n",
       "    </tr>\n",
       "    <tr>\n",
       "      <td>16373</td>\n",
       "      <td>PDC World Championship Darts 2008</td>\n",
       "      <td>PSP</td>\n",
       "      <td>NaN</td>\n",
       "      <td>Sports</td>\n",
       "      <td>0.01</td>\n",
       "      <td>0.00</td>\n",
       "      <td>0.00</td>\n",
       "      <td>0.00</td>\n",
       "      <td>43.0</td>\n",
       "      <td>tbd</td>\n",
       "      <td>E10+</td>\n",
       "    </tr>\n",
       "    <tr>\n",
       "      <td>16405</td>\n",
       "      <td>Freaky Flyers</td>\n",
       "      <td>GC</td>\n",
       "      <td>NaN</td>\n",
       "      <td>Racing</td>\n",
       "      <td>0.01</td>\n",
       "      <td>0.00</td>\n",
       "      <td>0.00</td>\n",
       "      <td>0.00</td>\n",
       "      <td>69.0</td>\n",
       "      <td>6.5</td>\n",
       "      <td>T</td>\n",
       "    </tr>\n",
       "    <tr>\n",
       "      <td>16448</td>\n",
       "      <td>Inversion</td>\n",
       "      <td>PC</td>\n",
       "      <td>NaN</td>\n",
       "      <td>Shooter</td>\n",
       "      <td>0.01</td>\n",
       "      <td>0.00</td>\n",
       "      <td>0.00</td>\n",
       "      <td>0.00</td>\n",
       "      <td>59.0</td>\n",
       "      <td>6.7</td>\n",
       "      <td>M</td>\n",
       "    </tr>\n",
       "    <tr>\n",
       "      <td>16458</td>\n",
       "      <td>Hakuouki: Shinsengumi Kitan</td>\n",
       "      <td>PS3</td>\n",
       "      <td>NaN</td>\n",
       "      <td>Adventure</td>\n",
       "      <td>0.01</td>\n",
       "      <td>0.00</td>\n",
       "      <td>0.00</td>\n",
       "      <td>0.00</td>\n",
       "      <td>NaN</td>\n",
       "      <td>NaN</td>\n",
       "      <td>NaN</td>\n",
       "    </tr>\n",
       "    <tr>\n",
       "      <td>16522</td>\n",
       "      <td>Virtua Quest</td>\n",
       "      <td>GC</td>\n",
       "      <td>NaN</td>\n",
       "      <td>Role-Playing</td>\n",
       "      <td>0.01</td>\n",
       "      <td>0.00</td>\n",
       "      <td>0.00</td>\n",
       "      <td>0.00</td>\n",
       "      <td>55.0</td>\n",
       "      <td>5.5</td>\n",
       "      <td>T</td>\n",
       "    </tr>\n",
       "  </tbody>\n",
       "</table>\n",
       "<p>269 rows × 11 columns</p>\n",
       "</div>"
      ],
      "text/plain": [
       "                                    name platform  year_of_release  \\\n",
       "183                      Madden NFL 2004      PS2              NaN   \n",
       "377                     FIFA Soccer 2004      PS2              NaN   \n",
       "456           LEGO Batman: The Videogame      Wii              NaN   \n",
       "475           wwe Smackdown vs. Raw 2006      PS2              NaN   \n",
       "609                       Space Invaders     2600              NaN   \n",
       "...                                  ...      ...              ...   \n",
       "16373  PDC World Championship Darts 2008      PSP              NaN   \n",
       "16405                      Freaky Flyers       GC              NaN   \n",
       "16448                          Inversion       PC              NaN   \n",
       "16458        Hakuouki: Shinsengumi Kitan      PS3              NaN   \n",
       "16522                       Virtua Quest       GC              NaN   \n",
       "\n",
       "              genre  na_sales  eu_sales  jp_sales  other_sales  critic_score  \\\n",
       "183          Sports      4.26      0.26      0.01         0.71          94.0   \n",
       "377          Sports      0.59      2.36      0.04         0.51          84.0   \n",
       "456          Action      1.80      0.97      0.00         0.29          74.0   \n",
       "475        Fighting      1.57      1.02      0.00         0.41           NaN   \n",
       "609         Shooter      2.36      0.14      0.00         0.03           NaN   \n",
       "...             ...       ...       ...       ...          ...           ...   \n",
       "16373        Sports      0.01      0.00      0.00         0.00          43.0   \n",
       "16405        Racing      0.01      0.00      0.00         0.00          69.0   \n",
       "16448       Shooter      0.01      0.00      0.00         0.00          59.0   \n",
       "16458     Adventure      0.01      0.00      0.00         0.00           NaN   \n",
       "16522  Role-Playing      0.01      0.00      0.00         0.00          55.0   \n",
       "\n",
       "      user_score rating  \n",
       "183          8.5      E  \n",
       "377          6.4      E  \n",
       "456          7.9   E10+  \n",
       "475          NaN    NaN  \n",
       "609          NaN    NaN  \n",
       "...          ...    ...  \n",
       "16373        tbd   E10+  \n",
       "16405        6.5      T  \n",
       "16448        6.7      M  \n",
       "16458        NaN    NaN  \n",
       "16522        5.5      T  \n",
       "\n",
       "[269 rows x 11 columns]"
      ]
     },
     "metadata": {},
     "output_type": "display_data"
    },
    {
     "name": "stdout",
     "output_type": "stream",
     "text": [
      "Пропуски в столбце \"genre\"\n"
     ]
    },
    {
     "data": {
      "text/html": [
       "<div>\n",
       "<style scoped>\n",
       "    .dataframe tbody tr th:only-of-type {\n",
       "        vertical-align: middle;\n",
       "    }\n",
       "\n",
       "    .dataframe tbody tr th {\n",
       "        vertical-align: top;\n",
       "    }\n",
       "\n",
       "    .dataframe thead th {\n",
       "        text-align: right;\n",
       "    }\n",
       "</style>\n",
       "<table border=\"1\" class=\"dataframe\">\n",
       "  <thead>\n",
       "    <tr style=\"text-align: right;\">\n",
       "      <th></th>\n",
       "      <th>name</th>\n",
       "      <th>platform</th>\n",
       "      <th>year_of_release</th>\n",
       "      <th>genre</th>\n",
       "      <th>na_sales</th>\n",
       "      <th>eu_sales</th>\n",
       "      <th>jp_sales</th>\n",
       "      <th>other_sales</th>\n",
       "      <th>critic_score</th>\n",
       "      <th>user_score</th>\n",
       "      <th>rating</th>\n",
       "    </tr>\n",
       "  </thead>\n",
       "  <tbody>\n",
       "    <tr>\n",
       "      <td>659</td>\n",
       "      <td>NaN</td>\n",
       "      <td>GEN</td>\n",
       "      <td>1993.0</td>\n",
       "      <td>NaN</td>\n",
       "      <td>1.78</td>\n",
       "      <td>0.53</td>\n",
       "      <td>0.00</td>\n",
       "      <td>0.08</td>\n",
       "      <td>NaN</td>\n",
       "      <td>NaN</td>\n",
       "      <td>NaN</td>\n",
       "    </tr>\n",
       "    <tr>\n",
       "      <td>14244</td>\n",
       "      <td>NaN</td>\n",
       "      <td>GEN</td>\n",
       "      <td>1993.0</td>\n",
       "      <td>NaN</td>\n",
       "      <td>0.00</td>\n",
       "      <td>0.00</td>\n",
       "      <td>0.03</td>\n",
       "      <td>0.00</td>\n",
       "      <td>NaN</td>\n",
       "      <td>NaN</td>\n",
       "      <td>NaN</td>\n",
       "    </tr>\n",
       "  </tbody>\n",
       "</table>\n",
       "</div>"
      ],
      "text/plain": [
       "      name platform  year_of_release genre  na_sales  eu_sales  jp_sales  \\\n",
       "659    NaN      GEN           1993.0   NaN      1.78      0.53      0.00   \n",
       "14244  NaN      GEN           1993.0   NaN      0.00      0.00      0.03   \n",
       "\n",
       "       other_sales  critic_score user_score rating  \n",
       "659           0.08           NaN        NaN    NaN  \n",
       "14244         0.00           NaN        NaN    NaN  "
      ]
     },
     "metadata": {},
     "output_type": "display_data"
    }
   ],
   "source": [
    "#Анализирую пропуски в столбцах 'name', 'year_of_release' и 'genre'\n",
    "print('Пропуски в столбце \"name\"')\n",
    "display(games_df[games_df['name'].isnull()])\n",
    "\n",
    "print('Пропуски в столбце \"year_of_release\"')\n",
    "display(games_df[games_df['year_of_release'].isnull()])\n",
    "\n",
    "print('Пропуски в столбце \"genre\"')\n",
    "display(games_df[games_df['genre'].isnull()])"
   ]
  },
  {
   "cell_type": "markdown",
   "metadata": {},
   "source": [
    "Пропуски в столбцах name' и 'genre' оказались в одних и тех же 2 строках. Строк с пропусками в столбце 'year_of_release' - 269, что составляет 1,6% от всего датасета. Однако, в названиях некоторых игр имеется указание года - наприер FIFA Soccer 2004, поэтому пропущенный год выпуска для таких игр можно заполнить из их названия."
   ]
  },
  {
   "cell_type": "code",
   "execution_count": 89,
   "metadata": {},
   "outputs": [
    {
     "data": {
      "text/plain": [
       "name               Madden NFL 2004\n",
       "platform                       PS2\n",
       "year_of_release               2004\n",
       "genre                       Sports\n",
       "na_sales                      4.26\n",
       "eu_sales                      0.26\n",
       "jp_sales                      0.01\n",
       "other_sales                   0.71\n",
       "critic_score                    94\n",
       "user_score                     8.5\n",
       "rating                           E\n",
       "Name: 183, dtype: object"
      ]
     },
     "metadata": {},
     "output_type": "display_data"
    },
    {
     "data": {
      "text/plain": [
       "name               FIFA Soccer 2004\n",
       "platform                        PS2\n",
       "year_of_release                2004\n",
       "genre                        Sports\n",
       "na_sales                       0.59\n",
       "eu_sales                       2.36\n",
       "jp_sales                       0.04\n",
       "other_sales                    0.51\n",
       "critic_score                     84\n",
       "user_score                      6.4\n",
       "rating                            E\n",
       "Name: 377, dtype: object"
      ]
     },
     "metadata": {},
     "output_type": "display_data"
    },
    {
     "data": {
      "text/plain": [
       "name               wwe Smackdown vs. Raw 2006\n",
       "platform                                  PS2\n",
       "year_of_release                          2006\n",
       "genre                                Fighting\n",
       "na_sales                                 1.57\n",
       "eu_sales                                 1.02\n",
       "jp_sales                                    0\n",
       "other_sales                              0.41\n",
       "critic_score                              NaN\n",
       "user_score                                NaN\n",
       "rating                                    NaN\n",
       "Name: 475, dtype: object"
      ]
     },
     "metadata": {},
     "output_type": "display_data"
    },
    {
     "name": "stdout",
     "output_type": "stream",
     "text": [
      "<class 'pandas.core.frame.DataFrame'>\n",
      "RangeIndex: 16715 entries, 0 to 16714\n",
      "Data columns (total 11 columns):\n",
      "name               16713 non-null object\n",
      "platform           16715 non-null object\n",
      "year_of_release    16461 non-null float64\n",
      "genre              16713 non-null object\n",
      "na_sales           16715 non-null float64\n",
      "eu_sales           16715 non-null float64\n",
      "jp_sales           16715 non-null float64\n",
      "other_sales        16715 non-null float64\n",
      "critic_score       8137 non-null float64\n",
      "user_score         10014 non-null object\n",
      "rating             9949 non-null object\n",
      "dtypes: float64(6), object(5)\n",
      "memory usage: 1.4+ MB\n"
     ]
    }
   ],
   "source": [
    "year_list = [str(i) for i in range(1980, 2017, 1)] #Создаю строковый список годов выпуска игр\n",
    "int_year_list = [float(i) for i in range(1980, 2017, 1)] #Создаю список годов выпуска игр с типом float\n",
    "\n",
    "#Объявляю функцию\n",
    "def find_year(row):\n",
    "    row['name'] = str(row['name'])\n",
    "    for year in row['name'].split():\n",
    "        if row['year_of_release'] not in int_year_list:\n",
    "            if year in year_list:\n",
    "                return int(year)\n",
    "        else:\n",
    "            return row['year_of_release']\n",
    "        \n",
    "games_df['year_of_release'] = games_df.apply(find_year,axis=1) #Применяю функцию\n",
    "\n",
    "#Проверяю результат работы функции на 183, 377 и 475 строках\n",
    "display(games_df.loc[183], games_df.loc[377], games_df.loc[475])\n",
    "#Проверяю получившийся датасет\n",
    "games_df.info()"
   ]
  },
  {
   "cell_type": "markdown",
   "metadata": {},
   "source": [
    "Тким образом получилось заполнить 15 пропусков в столбце 'year_of_release'. Оставшиеся пропуски в столбцах 'name', 'year_of_release' и 'genre' удаляю."
   ]
  },
  {
   "cell_type": "code",
   "execution_count": 90,
   "metadata": {},
   "outputs": [],
   "source": [
    "#Удаляю строки с пропущенными значениями в столбцах 'name', 'year_of_release', 'genre'\n",
    "#для оптимизации меющихся данных. Количество удаленных строк не превысит 1,5% от общего количества\n",
    "games_df.dropna(subset = ['name', 'year_of_release', 'genre'], inplace = True)\n",
    "games_df = games_df.reset_index(drop=True) #Сбрасываю индексы"
   ]
  },
  {
   "cell_type": "markdown",
   "metadata": {},
   "source": [
    "Привожу данные к нужным типам."
   ]
  },
  {
   "cell_type": "code",
   "execution_count": 91,
   "metadata": {},
   "outputs": [],
   "source": [
    "#Сперва приведу столбец 'year_of_release' к типу int  \n",
    "games_df['year_of_release'] = games_df['year_of_release'].astype('int')"
   ]
  },
  {
   "cell_type": "markdown",
   "metadata": {},
   "source": [
    "Отдельно остановлюсь на значениях \"tbd\" в столбце 'user_score'.\n",
    "<br>Как было сказано ранее, аббревиатура tbd расшифровывается как \"to be determined\" и переводится - \"будет уточнено\". Скорее всего эти данные характерны для недавно вышедших игр, рейтинг которых среди пользователей еще не определен. Заменить эти значения на хоть сколько-нибудь близкие и достоверные достаточно сложно. Начнем с уточнения их количества. "
   ]
  },
  {
   "cell_type": "code",
   "execution_count": 92,
   "metadata": {},
   "outputs": [
    {
     "name": "stdout",
     "output_type": "stream",
     "text": [
      "Количество значений \"tbd\" в столбце user_score: 2378\n",
      "Что составляет 14 % от всего датасета\n"
     ]
    }
   ],
   "source": [
    "print('Количество значений \"tbd\" в столбце user_score:', len(games_df.query('user_score == \"tbd\"')))\n",
    "print('Что составляет', round(len(games_df.query('user_score == \"tbd\"'))/len(games_df)*100),'% от всего датасета')"
   ]
  },
  {
   "cell_type": "markdown",
   "metadata": {},
   "source": [
    "Удалить такое количество данных неправильно, посокльку велик риск потерять информацию по наиболее свежим играм. Следовательно просто заменю их на **NaN**, а затем приведу данные в стобце к типу *float*."
   ]
  },
  {
   "cell_type": "code",
   "execution_count": 93,
   "metadata": {},
   "outputs": [],
   "source": [
    "games_df['user_score'] = games_df['user_score'].replace('tbd', np.nan) #Заменяю 'tbd' на NaN\n",
    "games_df['user_score'] = games_df['user_score'].astype('float') #Привожу к типу float"
   ]
  },
  {
   "cell_type": "markdown",
   "metadata": {},
   "source": [
    "Плюс ко всему штудирование Википедии показало любопытный факт про возрастные рейтинги игр, а именно, рейтинг **\"K-A\" (\"Kids to Adults\")** в настоящее время называется **«E» («Everyone»)**. Следовательно необходимо произвести замену данных в столбце 'rating'."
   ]
  },
  {
   "cell_type": "code",
   "execution_count": 94,
   "metadata": {},
   "outputs": [
    {
     "name": "stdout",
     "output_type": "stream",
     "text": [
      "Значения в столбце \"Рейтинг игр\"\n",
      "['E' nan 'M' 'T' 'E10+' 'AO' 'EC' 'RP']\n",
      "E       3933\n",
      "T       2905\n",
      "M       1536\n",
      "E10+    1394\n",
      "EC         8\n",
      "AO         1\n",
      "RP         1\n",
      "Name: rating, dtype: int64\n"
     ]
    }
   ],
   "source": [
    "games_df['rating'] = games_df['rating'].replace('K-A', 'E') #Заменяю данные\n",
    "print('Значения в столбце \"Рейтинг игр\"')\n",
    "print(games_df['rating'].unique()) #Проверяю результат\n",
    "print(games_df['rating'].value_counts())"
   ]
  },
  {
   "cell_type": "markdown",
   "metadata": {},
   "source": [
    "Замечу, что в столбце 'rating' есть пропущенные значения, скорее всего они вызваны тем, что рейтинги играм начали присваиваться с середины 1990-х, к тому же ESRB американская ассоциация, а в нашем датасете есть игры японских производителей, что также может быть причиной пропусков.\n",
    "<br>Тем не менее есть возможность заполнить пропуске в столбце 'rating' модальным значением исходя из жанра игры."
   ]
  },
  {
   "cell_type": "code",
   "execution_count": 95,
   "metadata": {},
   "outputs": [
    {
     "name": "stdout",
     "output_type": "stream",
     "text": [
      "{'Sports': 'E', 'Platform': 'E', 'Racing': 'E', 'Role-Playing': 'T', 'Puzzle': 'E', 'Misc': 'E', 'Shooter': 'M', 'Simulation': 'E', 'Action': 'T', 'Fighting': 'T', 'Adventure': 'E', 'Strategy': 'T'}\n",
      "<class 'pandas.core.frame.DataFrame'>\n",
      "RangeIndex: 16459 entries, 0 to 16458\n",
      "Data columns (total 11 columns):\n",
      "name               16459 non-null object\n",
      "platform           16459 non-null object\n",
      "year_of_release    16459 non-null int64\n",
      "genre              16459 non-null object\n",
      "na_sales           16459 non-null float64\n",
      "eu_sales           16459 non-null float64\n",
      "jp_sales           16459 non-null float64\n",
      "other_sales        16459 non-null float64\n",
      "critic_score       7994 non-null float64\n",
      "user_score         7472 non-null float64\n",
      "rating             16459 non-null object\n",
      "dtypes: float64(6), int64(1), object(4)\n",
      "memory usage: 1.4+ MB\n",
      "E       7695\n",
      "T       5524\n",
      "M       1836\n",
      "E10+    1394\n",
      "EC         8\n",
      "AO         1\n",
      "RP         1\n",
      "Name: rating, dtype: int64\n"
     ]
    }
   ],
   "source": [
    "genre_list = games_df['genre'].unique() #Объявлю список жанров игр\n",
    "\n",
    "genre_rating_dict = {} #Объявлю словрь для сбора данных, ключ - жанр игры, значение - мода по рейтингу\n",
    "for i in genre_list: #Заполняю словарь циклом\n",
    "    df = games_df[games_df['genre'] == i]\n",
    "    mode = df['rating'].mode()\n",
    "    genre_rating_dict[i]=mode[0]\n",
    "\n",
    "print(genre_rating_dict) #Взгляд на результат\n",
    "\n",
    "for i in genre_list: #Циклом заполняю пропуски в столбце 'genre'\n",
    "    games_df.loc[games_df['genre'] == i, 'rating'] = games_df.loc[games_df['genre'] == i, 'rating'].fillna(genre_rating_dict[i])\n",
    "\n",
    "games_df.info() #Получаю информацию по датасету\n",
    "print(games_df['rating'].value_counts()) #И информацию по столбцу 'rating' после заполнения"
   ]
  },
  {
   "cell_type": "markdown",
   "metadata": {},
   "source": [
    "Добавляю столбец с важной метрикой - суммарные продажи игр по регионам."
   ]
  },
  {
   "cell_type": "code",
   "execution_count": 96,
   "metadata": {},
   "outputs": [],
   "source": [
    "games_df['total_sales'] = games_df['na_sales'] + games_df['eu_sales'] + games_df['jp_sales'] + games_df['other_sales']\n",
    "#Для удобства меняю порядок столбцов\n",
    "games_df = games_df[['name', 'platform', 'year_of_release', 'genre', 'na_sales', 'eu_sales', 'jp_sales', 'other_sales', 'total_sales', 'critic_score','user_score','rating']]"
   ]
  },
  {
   "cell_type": "code",
   "execution_count": 97,
   "metadata": {},
   "outputs": [
    {
     "name": "stdout",
     "output_type": "stream",
     "text": [
      "<class 'pandas.core.frame.DataFrame'>\n",
      "RangeIndex: 16459 entries, 0 to 16458\n",
      "Data columns (total 12 columns):\n",
      "name               16459 non-null object\n",
      "platform           16459 non-null object\n",
      "year_of_release    16459 non-null int64\n",
      "genre              16459 non-null object\n",
      "na_sales           16459 non-null float64\n",
      "eu_sales           16459 non-null float64\n",
      "jp_sales           16459 non-null float64\n",
      "other_sales        16459 non-null float64\n",
      "total_sales        16459 non-null float64\n",
      "critic_score       7994 non-null float64\n",
      "user_score         7472 non-null float64\n",
      "rating             16459 non-null object\n",
      "dtypes: float64(7), int64(1), object(4)\n",
      "memory usage: 1.5+ MB\n"
     ]
    },
    {
     "data": {
      "text/html": [
       "<div>\n",
       "<style scoped>\n",
       "    .dataframe tbody tr th:only-of-type {\n",
       "        vertical-align: middle;\n",
       "    }\n",
       "\n",
       "    .dataframe tbody tr th {\n",
       "        vertical-align: top;\n",
       "    }\n",
       "\n",
       "    .dataframe thead th {\n",
       "        text-align: right;\n",
       "    }\n",
       "</style>\n",
       "<table border=\"1\" class=\"dataframe\">\n",
       "  <thead>\n",
       "    <tr style=\"text-align: right;\">\n",
       "      <th></th>\n",
       "      <th>name</th>\n",
       "      <th>platform</th>\n",
       "      <th>year_of_release</th>\n",
       "      <th>genre</th>\n",
       "      <th>na_sales</th>\n",
       "      <th>eu_sales</th>\n",
       "      <th>jp_sales</th>\n",
       "      <th>other_sales</th>\n",
       "      <th>total_sales</th>\n",
       "      <th>critic_score</th>\n",
       "      <th>user_score</th>\n",
       "      <th>rating</th>\n",
       "    </tr>\n",
       "  </thead>\n",
       "  <tbody>\n",
       "    <tr>\n",
       "      <td>0</td>\n",
       "      <td>Wii Sports</td>\n",
       "      <td>Wii</td>\n",
       "      <td>2006</td>\n",
       "      <td>Sports</td>\n",
       "      <td>41.36</td>\n",
       "      <td>28.96</td>\n",
       "      <td>3.77</td>\n",
       "      <td>8.45</td>\n",
       "      <td>82.54</td>\n",
       "      <td>76.0</td>\n",
       "      <td>8.0</td>\n",
       "      <td>E</td>\n",
       "    </tr>\n",
       "    <tr>\n",
       "      <td>1</td>\n",
       "      <td>Super Mario Bros.</td>\n",
       "      <td>NES</td>\n",
       "      <td>1985</td>\n",
       "      <td>Platform</td>\n",
       "      <td>29.08</td>\n",
       "      <td>3.58</td>\n",
       "      <td>6.81</td>\n",
       "      <td>0.77</td>\n",
       "      <td>40.24</td>\n",
       "      <td>NaN</td>\n",
       "      <td>NaN</td>\n",
       "      <td>E</td>\n",
       "    </tr>\n",
       "    <tr>\n",
       "      <td>2</td>\n",
       "      <td>Mario Kart Wii</td>\n",
       "      <td>Wii</td>\n",
       "      <td>2008</td>\n",
       "      <td>Racing</td>\n",
       "      <td>15.68</td>\n",
       "      <td>12.76</td>\n",
       "      <td>3.79</td>\n",
       "      <td>3.29</td>\n",
       "      <td>35.52</td>\n",
       "      <td>82.0</td>\n",
       "      <td>8.3</td>\n",
       "      <td>E</td>\n",
       "    </tr>\n",
       "    <tr>\n",
       "      <td>3</td>\n",
       "      <td>Wii Sports Resort</td>\n",
       "      <td>Wii</td>\n",
       "      <td>2009</td>\n",
       "      <td>Sports</td>\n",
       "      <td>15.61</td>\n",
       "      <td>10.93</td>\n",
       "      <td>3.28</td>\n",
       "      <td>2.95</td>\n",
       "      <td>32.77</td>\n",
       "      <td>80.0</td>\n",
       "      <td>8.0</td>\n",
       "      <td>E</td>\n",
       "    </tr>\n",
       "    <tr>\n",
       "      <td>4</td>\n",
       "      <td>Pokemon Red/Pokemon Blue</td>\n",
       "      <td>GB</td>\n",
       "      <td>1996</td>\n",
       "      <td>Role-Playing</td>\n",
       "      <td>11.27</td>\n",
       "      <td>8.89</td>\n",
       "      <td>10.22</td>\n",
       "      <td>1.00</td>\n",
       "      <td>31.38</td>\n",
       "      <td>NaN</td>\n",
       "      <td>NaN</td>\n",
       "      <td>T</td>\n",
       "    </tr>\n",
       "    <tr>\n",
       "      <td>5</td>\n",
       "      <td>Tetris</td>\n",
       "      <td>GB</td>\n",
       "      <td>1989</td>\n",
       "      <td>Puzzle</td>\n",
       "      <td>23.20</td>\n",
       "      <td>2.26</td>\n",
       "      <td>4.22</td>\n",
       "      <td>0.58</td>\n",
       "      <td>30.26</td>\n",
       "      <td>NaN</td>\n",
       "      <td>NaN</td>\n",
       "      <td>E</td>\n",
       "    </tr>\n",
       "    <tr>\n",
       "      <td>6</td>\n",
       "      <td>New Super Mario Bros.</td>\n",
       "      <td>DS</td>\n",
       "      <td>2006</td>\n",
       "      <td>Platform</td>\n",
       "      <td>11.28</td>\n",
       "      <td>9.14</td>\n",
       "      <td>6.50</td>\n",
       "      <td>2.88</td>\n",
       "      <td>29.80</td>\n",
       "      <td>89.0</td>\n",
       "      <td>8.5</td>\n",
       "      <td>E</td>\n",
       "    </tr>\n",
       "    <tr>\n",
       "      <td>7</td>\n",
       "      <td>Wii Play</td>\n",
       "      <td>Wii</td>\n",
       "      <td>2006</td>\n",
       "      <td>Misc</td>\n",
       "      <td>13.96</td>\n",
       "      <td>9.18</td>\n",
       "      <td>2.93</td>\n",
       "      <td>2.84</td>\n",
       "      <td>28.91</td>\n",
       "      <td>58.0</td>\n",
       "      <td>6.6</td>\n",
       "      <td>E</td>\n",
       "    </tr>\n",
       "    <tr>\n",
       "      <td>8</td>\n",
       "      <td>New Super Mario Bros. Wii</td>\n",
       "      <td>Wii</td>\n",
       "      <td>2009</td>\n",
       "      <td>Platform</td>\n",
       "      <td>14.44</td>\n",
       "      <td>6.94</td>\n",
       "      <td>4.70</td>\n",
       "      <td>2.24</td>\n",
       "      <td>28.32</td>\n",
       "      <td>87.0</td>\n",
       "      <td>8.4</td>\n",
       "      <td>E</td>\n",
       "    </tr>\n",
       "    <tr>\n",
       "      <td>9</td>\n",
       "      <td>Duck Hunt</td>\n",
       "      <td>NES</td>\n",
       "      <td>1984</td>\n",
       "      <td>Shooter</td>\n",
       "      <td>26.93</td>\n",
       "      <td>0.63</td>\n",
       "      <td>0.28</td>\n",
       "      <td>0.47</td>\n",
       "      <td>28.31</td>\n",
       "      <td>NaN</td>\n",
       "      <td>NaN</td>\n",
       "      <td>M</td>\n",
       "    </tr>\n",
       "  </tbody>\n",
       "</table>\n",
       "</div>"
      ],
      "text/plain": [
       "                        name platform  year_of_release         genre  \\\n",
       "0                 Wii Sports      Wii             2006        Sports   \n",
       "1          Super Mario Bros.      NES             1985      Platform   \n",
       "2             Mario Kart Wii      Wii             2008        Racing   \n",
       "3          Wii Sports Resort      Wii             2009        Sports   \n",
       "4   Pokemon Red/Pokemon Blue       GB             1996  Role-Playing   \n",
       "5                     Tetris       GB             1989        Puzzle   \n",
       "6      New Super Mario Bros.       DS             2006      Platform   \n",
       "7                   Wii Play      Wii             2006          Misc   \n",
       "8  New Super Mario Bros. Wii      Wii             2009      Platform   \n",
       "9                  Duck Hunt      NES             1984       Shooter   \n",
       "\n",
       "   na_sales  eu_sales  jp_sales  other_sales  total_sales  critic_score  \\\n",
       "0     41.36     28.96      3.77         8.45        82.54          76.0   \n",
       "1     29.08      3.58      6.81         0.77        40.24           NaN   \n",
       "2     15.68     12.76      3.79         3.29        35.52          82.0   \n",
       "3     15.61     10.93      3.28         2.95        32.77          80.0   \n",
       "4     11.27      8.89     10.22         1.00        31.38           NaN   \n",
       "5     23.20      2.26      4.22         0.58        30.26           NaN   \n",
       "6     11.28      9.14      6.50         2.88        29.80          89.0   \n",
       "7     13.96      9.18      2.93         2.84        28.91          58.0   \n",
       "8     14.44      6.94      4.70         2.24        28.32          87.0   \n",
       "9     26.93      0.63      0.28         0.47        28.31           NaN   \n",
       "\n",
       "   user_score rating  \n",
       "0         8.0      E  \n",
       "1         NaN      E  \n",
       "2         8.3      E  \n",
       "3         8.0      E  \n",
       "4         NaN      T  \n",
       "5         NaN      E  \n",
       "6         8.5      E  \n",
       "7         6.6      E  \n",
       "8         8.4      E  \n",
       "9         NaN      M  "
      ]
     },
     "metadata": {},
     "output_type": "display_data"
    }
   ],
   "source": [
    "#Проверяю результат работы\n",
    "games_df.info()\n",
    "display(games_df.head(10))"
   ]
  },
  {
   "cell_type": "markdown",
   "metadata": {},
   "source": [
    "### Вывод к Шагу 2"
   ]
  },
  {
   "cell_type": "markdown",
   "metadata": {},
   "source": [
    "На этом этапе проведена подготовка данных и дополнительно углубленное изучение датасета с изменением типов данных, их заменой и добавлением нужных метрик. Далее обо всем по порядку.\n",
    "\n",
    "В первую очередедь, названия столбцов приведены к нижнему регистру, это сделано для оптимизации дальнейшего процесса анализа и уменьшения количества ошибок.\n",
    "\n",
    "Пропуски в столбце 'year_of_release' частично заполнены данными, взятыми из названия игр, данные приведены к типу *int*, поскольу так в дальнейшем будет удобнее проводить анализ.\n",
    "\n",
    "Удалены строки с пропущенными значениями в столбцах 'name', 'year_of_release', 'genre'. Объем удаленных данных не превысил 1,5%, зато в результате мы получили датасет без пропущенных значений в этих столбах, что в дальнейшем также упростит анализ и визуализацию, плюс ко всему поможет избежать ошибок при выполнении кода. Пропущенные значения в этих столбцах могут возникнуть по следующим причинам:\n",
    "1. Ошибки возникшее в процессе конвертирования баз данных;\n",
    "2. Достоверное название игры не сохранилось из-за того, что игра вышла достаточно давно, или же название изначально было на другом языке;\n",
    "3. Достоверно неизвестен год выхода игры - это также может быть характерно для \"старых\" игр;\n",
    "4. Достоверно не известен жанр игры (игры вышедшие давно), или жанр игры не определен разработчиком (такое возможно в случае сочетания нескольких жанров в одной игре).\n",
    "Стоит отметить, что этот датасет можно было вернуть на доработку, чтобы составители смогли достоверно заполнить пропуски в этих столбцах.\n",
    "\n",
    "Далее были обработаны значения **\"tbd\"** в столбце 'user_score'. Аббревиатура tbd расшифровывается как \"to be determined\" и переводится - \"будет уточнено\". Скорее всего эти данные характерны для недавно вышедших игр, рейтинг которых среди пользователей еще не определен. Заменить эти значения на хоть сколько-нибудь близкие и достоверные достаточно сложно, а их удаление привело бы к потере 14% датасета, в связи с чем было принято решение о их замене на *NaN*. В последствии, оставшиеся в этом столбце данные были приведены к типу *float64*. Это было сделано для того, чтобы в дальнейшем можно было без проблем производить арифметические операции с данными из этого столбца.\n",
    "\n",
    "Дополнительно произведена замена значений **\"K-A\" (\"Kids to Adults\")** на  **«E» («Everyone»)** в столбце 'rating', посокльку фактически это одно и то же наименование, ктоторое было изменено в 1998 г.\n",
    "\n",
    "Отдельно отмечу, что пропуски в столбцах 'critic_score', 'user_score', 'rating' я решил оставить без заполнения, поскольку нет возможности сделать это достоверно, или же близко к истине. Есть предположение о том, что игры получают оценки независимо от рейтинга, жанра или любого другого показателя, более того, зачастую оценки критиков и пользователей могут быть диаметрально противоположными."
   ]
  },
  {
   "cell_type": "markdown",
   "metadata": {},
   "source": [
    "### Шаг 3. Исследовательский анализ данных."
   ]
  },
  {
   "cell_type": "markdown",
   "metadata": {},
   "source": [
    "Определю количество выпущенных игр по годам."
   ]
  },
  {
   "cell_type": "code",
   "execution_count": 98,
   "metadata": {
    "scrolled": true
   },
   "outputs": [
    {
     "name": "stdout",
     "output_type": "stream",
     "text": [
      "Количество игр выпущенных в период с 1980 по 2016 гг.\n",
      "2008    1429\n",
      "2009    1426\n",
      "2010    1255\n",
      "2007    1198\n",
      "2011    1137\n",
      "2006    1008\n",
      "2005     941\n",
      "2002     830\n",
      "2003     779\n",
      "2004     764\n",
      "2012     653\n",
      "2015     606\n",
      "2014     581\n",
      "2013     544\n",
      "2016     502\n",
      "2001     482\n",
      "1998     379\n",
      "2000     350\n",
      "1999     338\n",
      "1997     289\n",
      "1996     263\n",
      "1995     219\n",
      "1994     121\n",
      "1993      60\n",
      "1981      46\n",
      "1992      43\n",
      "1991      41\n",
      "1982      36\n",
      "1986      21\n",
      "1983      17\n",
      "1989      17\n",
      "1987      16\n",
      "1990      16\n",
      "1988      15\n",
      "1984      14\n",
      "1985      14\n",
      "1980       9\n",
      "Name: year_of_release, dtype: int64\n"
     ]
    },
    {
     "data": {
      "image/png": "[encoded data removed]",
      "text/plain": [
       "<Figure size 1224x360 with 1 Axes>"
      ]
     },
     "metadata": {
      "needs_background": "light"
     },
     "output_type": "display_data"
    }
   ],
   "source": [
    "print('Количество игр выпущенных в период с 1980 по 2016 гг.')\n",
    "print(games_df['year_of_release'].value_counts()) # применяю метод .value_counts() для посчета\n",
    "#для наглядности построю график\n",
    "fig, (ax1) = plt.subplots(\n",
    "    nrows=1, ncols=1,\n",
    "    figsize=(17, 5)\n",
    ")\n",
    " \n",
    "ax1.hist(\n",
    "    games_df['year_of_release'], bins=100,\n",
    ") \n",
    "\n",
    "ax1.set_title('Количество игр выпущенных в период с 1980 по 2016 гг')\n",
    "ax1.yaxis.tick_left()\n",
    "\n",
    "\n",
    "plt.show()"
   ]
  },
  {
   "cell_type": "markdown",
   "metadata": {},
   "source": [
    "### Промежуточный вывод 1\n",
    "Полученный график наглядно демонстрирует развитие рынка компьютерных игр. Опишу подробнее.\n",
    "<br>**1980 - 1993 гг.** период зарождения рынка. Разработчики пробуют себя в новом деле, появляются первые ПК и  консольные игры. Процесс идет медленно, в первую очередь в связи с неповсеместным распростронением ПК и консолей + низкая производительность \"железа\" + зарождающийся рынок сбыта.\n",
    "<br>**1994 - 2008 гг.** период бума компьютерных игр, вызванный экспоненциальным ростом производительонсти ПК и консолей, огромным спросом на игры, небывалым притоком инвестиций в отрасль. Для этого этапа характерны - небывалое число платформ, и жесточайшая конкуренция на рынке.\n",
    "<br>**2009 - 2012 гг.** период стабилизации рынка характерен сокращением числа издателей игр и консолей, не выдержавших конкуренции. Пользователи становятся более избирательными. Заканчивается передел рынка\n",
    "<br>**2012 - 2016 гг.** стагнация первоначального рынка. Темп технологического развития несколько снижен, рынок поделен среди крупных игроков. Окончательно канули в лету многие издатели и платформы. Развитие онлайн-игр уводит пользователей от разовой покупки в сторону микротранзакций.\n",
    "<br>**Для дальнейшего анализа наибольший интерес представляет период 2012 - 2016 гг.**"
   ]
  },
  {
   "cell_type": "code",
   "execution_count": 99,
   "metadata": {},
   "outputs": [
    {
     "data": {
      "text/html": [
       "<div>\n",
       "<style scoped>\n",
       "    .dataframe tbody tr th:only-of-type {\n",
       "        vertical-align: middle;\n",
       "    }\n",
       "\n",
       "    .dataframe tbody tr th {\n",
       "        vertical-align: top;\n",
       "    }\n",
       "\n",
       "    .dataframe thead th {\n",
       "        text-align: right;\n",
       "    }\n",
       "</style>\n",
       "<table border=\"1\" class=\"dataframe\">\n",
       "  <thead>\n",
       "    <tr style=\"text-align: right;\">\n",
       "      <th></th>\n",
       "      <th>platform</th>\n",
       "      <th>total_sales</th>\n",
       "    </tr>\n",
       "  </thead>\n",
       "  <tbody>\n",
       "    <tr>\n",
       "      <td>0</td>\n",
       "      <td>PS2</td>\n",
       "      <td>1247.28</td>\n",
       "    </tr>\n",
       "    <tr>\n",
       "      <td>1</td>\n",
       "      <td>X360</td>\n",
       "      <td>961.30</td>\n",
       "    </tr>\n",
       "    <tr>\n",
       "      <td>2</td>\n",
       "      <td>PS3</td>\n",
       "      <td>931.34</td>\n",
       "    </tr>\n",
       "    <tr>\n",
       "      <td>3</td>\n",
       "      <td>Wii</td>\n",
       "      <td>891.18</td>\n",
       "    </tr>\n",
       "    <tr>\n",
       "      <td>4</td>\n",
       "      <td>DS</td>\n",
       "      <td>802.79</td>\n",
       "    </tr>\n",
       "    <tr>\n",
       "      <td>5</td>\n",
       "      <td>PS</td>\n",
       "      <td>727.58</td>\n",
       "    </tr>\n",
       "    <tr>\n",
       "      <td>6</td>\n",
       "      <td>PS4</td>\n",
       "      <td>314.14</td>\n",
       "    </tr>\n",
       "    <tr>\n",
       "      <td>7</td>\n",
       "      <td>GBA</td>\n",
       "      <td>312.88</td>\n",
       "    </tr>\n",
       "    <tr>\n",
       "      <td>8</td>\n",
       "      <td>PSP</td>\n",
       "      <td>289.54</td>\n",
       "    </tr>\n",
       "    <tr>\n",
       "      <td>9</td>\n",
       "      <td>3DS</td>\n",
       "      <td>257.81</td>\n",
       "    </tr>\n",
       "  </tbody>\n",
       "</table>\n",
       "</div>"
      ],
      "text/plain": [
       "  platform  total_sales\n",
       "0      PS2      1247.28\n",
       "1     X360       961.30\n",
       "2      PS3       931.34\n",
       "3      Wii       891.18\n",
       "4       DS       802.79\n",
       "5       PS       727.58\n",
       "6      PS4       314.14\n",
       "7      GBA       312.88\n",
       "8      PSP       289.54\n",
       "9      3DS       257.81"
      ]
     },
     "metadata": {},
     "output_type": "display_data"
    },
    {
     "data": {
      "text/plain": [
       "<matplotlib.axes._subplots.AxesSubplot at 0x7f33c5874410>"
      ]
     },
     "execution_count": 99,
     "metadata": {},
     "output_type": "execute_result"
    },
    {
     "data": {
      "image/png": "[encoded data removed]",
      "text/plain": [
       "<Figure size 1080x432 with 1 Axes>"
      ]
     },
     "metadata": {
      "needs_background": "light"
     },
     "output_type": "display_data"
    },
    {
     "data": {
      "image/png": "[encoded data removed]",
      "text/plain": [
       "<Figure size 1080x432 with 1 Axes>"
      ]
     },
     "metadata": {
      "needs_background": "light"
     },
     "output_type": "display_data"
    }
   ],
   "source": [
    "#Создаю таблицу по суммарным продажам по платформам\n",
    "platform_df = games_df[['platform'] + ['total_sales']]\n",
    "platform_df = (platform_df\n",
    "    .groupby('platform')\n",
    "    .sum()\n",
    "    .sort_values(by = 'total_sales', ascending=False)\n",
    "    .reset_index(level='platform')\n",
    ")\n",
    "    \n",
    "display(platform_df.head(10))\n",
    "#Для наглядности строю график\n",
    "plt.figure(figsize=(15, 6))\n",
    "sns.stripplot(x=\"platform\", y=\"total_sales\", data=platform_df)\n",
    "plt.figure(figsize=(15, 6))\n",
    "sns.barplot(x='platform', y='total_sales', data=platform_df)"
   ]
  },
  {
   "cell_type": "markdown",
   "metadata": {},
   "source": [
    "Среди всего перечня платформ можно выделить ряд лидеров по продажам, а именно:\n",
    "1. PS2 - 1233.56 млн. проданых копий игр\n",
    "2. X360 - 961.24 млн. проданых копий игр\n",
    "3. PS3 - 931.34 млн. проданых копий игр\n",
    "4. Wii - 891.18 млн. проданых копий игр\n",
    "5. DS - 802.78 млн. проданых копий игр\n",
    "6. PS - 727.58 млн. проданых копий игр"
   ]
  },
  {
   "cell_type": "code",
   "execution_count": 100,
   "metadata": {},
   "outputs": [
    {
     "name": "stdout",
     "output_type": "stream",
     "text": [
      "Время жизни Wii равно 10 лет\n",
      "Время жизни NES равно 11 лет\n",
      "Время жизни GB равно 13 лет\n",
      "Время жизни DS равно 28 лет\n",
      "Время жизни X360 равно 11 лет\n",
      "Время жизни PS3 равно 10 лет\n",
      "Время жизни PS2 равно 11 лет\n",
      "Время жизни SNES равно 9 лет\n",
      "Время жизни GBA равно 7 лет\n",
      "Время жизни PS4 равно 3 года\n",
      "Время жизни 3DS равно 5 лет\n",
      "Время жизни N64 равно 6 лет\n",
      "Время жизни PS равно 9 лет\n",
      "Время жизни XB равно 8 лет\n",
      "Время жизни PC равно 31 лет\n",
      "Время жизни 2600 равно 9 лет\n",
      "Время жизни PSP равно 11 лет\n",
      "Время жизни XOne равно 3 года\n",
      "Время жизни WiiU равно 4 года\n",
      "Время жизни GC равно 6 лет\n",
      "Время жизни GEN равно 4 года\n",
      "Время жизни DC равно 10 лет\n",
      "Время жизни PSV равно 5 лет\n",
      "Время жизни SAT равно 5 лет\n",
      "Время жизни SCD равно 1 года\n",
      "Время жизни WS равно 2 года\n",
      "Время жизни NG равно 3 года\n",
      "Время жизни TG16 равно 0 лет\n",
      "Время жизни 3DO равно 1 года\n",
      "Время жизни GG равно 0 лет\n",
      "Время жизни PCFX равно 0 лет\n"
     ]
    }
   ],
   "source": [
    "#Рассчитываю время жизни каждой платформы\n",
    "platform_list = games_df['platform'].unique() #Получаю перечень платформ\n",
    "\n",
    "length = [] #Объявляю список, куда будут сложены сроки жизни\n",
    "for plat in platform_list: #расчет выполняю в цикле\n",
    "    df = games_df[games_df['platform'] == plat]\n",
    "    start = min(df['year_of_release'])\n",
    "    stop = max(df['year_of_release'])\n",
    "    live = stop - start\n",
    "    length.append(live)\n",
    "    if live > 4 or live == 0:\n",
    "        print('Время жизни', plat, 'равно', live, 'лет')\n",
    "    else:\n",
    "        print('Время жизни', plat, 'равно', live, 'года')"
   ]
  },
  {
   "cell_type": "code",
   "execution_count": 101,
   "metadata": {},
   "outputs": [
    {
     "data": {
      "text/plain": [
       "<matplotlib.axes._subplots.AxesSubplot at 0x7f33c5529c90>"
      ]
     },
     "execution_count": 101,
     "metadata": {},
     "output_type": "execute_result"
    },
    {
     "data": {
      "image/png": "[encoded data removed]",
      "text/plain": [
       "<Figure size 1080x432 with 1 Axes>"
      ]
     },
     "metadata": {
      "needs_background": "light"
     },
     "output_type": "display_data"
    }
   ],
   "source": [
    "#Строю график породолжительности жизни каждой платформы\n",
    "plt.figure(figsize=(15, 6))\n",
    "sns.stripplot(x=\"platform\", y=\"year_of_release\", data=games_df)"
   ]
  },
  {
   "cell_type": "markdown",
   "metadata": {},
   "source": [
    "Из расчета и графика видно, что подавляющее большинство платформ имеют значительный срок жизни. Однако, есть ряд платформ, срок жизни которых составляет менее 1 года, например TG16, GG, PCFX. Срок жизни таких платформ можно назвать выбросом и не брать во внимание для расчета среднего срока жизни платформы. "
   ]
  },
  {
   "cell_type": "code",
   "execution_count": 102,
   "metadata": {},
   "outputs": [
    {
     "name": "stdout",
     "output_type": "stream",
     "text": [
      "[10, 11, 13, 28, 11, 10, 11, 9, 7, 3, 5, 6, 9, 8, 31, 9, 11, 3, 4, 6, 4, 10, 5, 5, 1, 2, 3, 1]\n"
     ]
    }
   ],
   "source": [
    "#Удаляю из списка платформы со временем жизни меньшим 1 года\n",
    "length = [x for x in length if x > 0]\n",
    "print(length)"
   ]
  },
  {
   "cell_type": "code",
   "execution_count": 103,
   "metadata": {},
   "outputs": [
    {
     "name": "stdout",
     "output_type": "stream",
     "text": [
      "Средний срок жизни платформы составляет 8 лет\n"
     ]
    }
   ],
   "source": [
    "print('Средний срок жизни платформы составляет', round(sum(length)/len(length)), 'лет')"
   ]
  },
  {
   "cell_type": "markdown",
   "metadata": {},
   "source": [
    "### Промежуточный вывод 2\n",
    "Среди всего перечня платформ можно выявлен ряд лидеров по продажам, а именно: PS2, X360, PS3, Wii, DS, PS.\n",
    "<br> Получен график распределения продаж по годам, который наглядно демонстрирует срок жизни каждой игровой платформы. Исходя из графика, он составляет в среднем **8 лет**.\n",
    "<br>**Поправка к промежуточному выводу 1** - для дальнейшей работы примем актуальный период **2014 - 2016 гг.** поскольку тут явно видны действующие производители игр, а консоли прошлых поколений, такие как PS2 ушли с рынка."
   ]
  },
  {
   "cell_type": "code",
   "execution_count": 104,
   "metadata": {},
   "outputs": [
    {
     "name": "stdout",
     "output_type": "stream",
     "text": [
      "<class 'pandas.core.frame.DataFrame'>\n",
      "Int64Index: 1689 entries, 31 to 16458\n",
      "Data columns (total 12 columns):\n",
      "name               1689 non-null object\n",
      "platform           1689 non-null object\n",
      "year_of_release    1689 non-null int64\n",
      "genre              1689 non-null object\n",
      "na_sales           1689 non-null float64\n",
      "eu_sales           1689 non-null float64\n",
      "jp_sales           1689 non-null float64\n",
      "other_sales        1689 non-null float64\n",
      "total_sales        1689 non-null float64\n",
      "critic_score       718 non-null float64\n",
      "user_score         888 non-null float64\n",
      "rating             1689 non-null object\n",
      "dtypes: float64(7), int64(1), object(4)\n",
      "memory usage: 171.5+ KB\n"
     ]
    }
   ],
   "source": [
    "#Определяю новый датасет для дальнейшего анализа\n",
    "actual_df = games_df.query('year_of_release >= 2014')\n",
    "actual_df.info()"
   ]
  },
  {
   "cell_type": "code",
   "execution_count": 105,
   "metadata": {},
   "outputs": [
    {
     "data": {
      "text/html": [
       "<div>\n",
       "<style scoped>\n",
       "    .dataframe tbody tr th:only-of-type {\n",
       "        vertical-align: middle;\n",
       "    }\n",
       "\n",
       "    .dataframe tbody tr th {\n",
       "        vertical-align: top;\n",
       "    }\n",
       "\n",
       "    .dataframe thead th {\n",
       "        text-align: right;\n",
       "    }\n",
       "</style>\n",
       "<table border=\"1\" class=\"dataframe\">\n",
       "  <thead>\n",
       "    <tr style=\"text-align: right;\">\n",
       "      <th>platform</th>\n",
       "      <th>3DS</th>\n",
       "      <th>PC</th>\n",
       "      <th>PS3</th>\n",
       "      <th>PS4</th>\n",
       "      <th>PSP</th>\n",
       "      <th>PSV</th>\n",
       "      <th>Wii</th>\n",
       "      <th>WiiU</th>\n",
       "      <th>X360</th>\n",
       "      <th>XOne</th>\n",
       "    </tr>\n",
       "    <tr>\n",
       "      <th>year_of_release</th>\n",
       "      <th></th>\n",
       "      <th></th>\n",
       "      <th></th>\n",
       "      <th></th>\n",
       "      <th></th>\n",
       "      <th></th>\n",
       "      <th></th>\n",
       "      <th></th>\n",
       "      <th></th>\n",
       "      <th></th>\n",
       "    </tr>\n",
       "  </thead>\n",
       "  <tbody>\n",
       "    <tr>\n",
       "      <td>2014</td>\n",
       "      <td>43.76</td>\n",
       "      <td>13.28</td>\n",
       "      <td>47.76</td>\n",
       "      <td>100.00</td>\n",
       "      <td>0.24</td>\n",
       "      <td>11.90</td>\n",
       "      <td>3.75</td>\n",
       "      <td>22.03</td>\n",
       "      <td>34.74</td>\n",
       "      <td>54.07</td>\n",
       "    </tr>\n",
       "    <tr>\n",
       "      <td>2015</td>\n",
       "      <td>27.78</td>\n",
       "      <td>8.52</td>\n",
       "      <td>16.82</td>\n",
       "      <td>118.90</td>\n",
       "      <td>0.12</td>\n",
       "      <td>6.25</td>\n",
       "      <td>1.14</td>\n",
       "      <td>16.35</td>\n",
       "      <td>11.96</td>\n",
       "      <td>60.14</td>\n",
       "    </tr>\n",
       "    <tr>\n",
       "      <td>2016</td>\n",
       "      <td>15.14</td>\n",
       "      <td>5.25</td>\n",
       "      <td>3.60</td>\n",
       "      <td>69.25</td>\n",
       "      <td>NaN</td>\n",
       "      <td>4.25</td>\n",
       "      <td>0.18</td>\n",
       "      <td>4.60</td>\n",
       "      <td>1.52</td>\n",
       "      <td>26.15</td>\n",
       "    </tr>\n",
       "  </tbody>\n",
       "</table>\n",
       "</div>"
      ],
      "text/plain": [
       "platform           3DS     PC    PS3     PS4   PSP    PSV   Wii   WiiU   X360  \\\n",
       "year_of_release                                                                 \n",
       "2014             43.76  13.28  47.76  100.00  0.24  11.90  3.75  22.03  34.74   \n",
       "2015             27.78   8.52  16.82  118.90  0.12   6.25  1.14  16.35  11.96   \n",
       "2016             15.14   5.25   3.60   69.25   NaN   4.25  0.18   4.60   1.52   \n",
       "\n",
       "platform          XOne  \n",
       "year_of_release         \n",
       "2014             54.07  \n",
       "2015             60.14  \n",
       "2016             26.15  "
      ]
     },
     "metadata": {},
     "output_type": "display_data"
    },
    {
     "data": {
      "text/plain": [
       "<matplotlib.axes._subplots.AxesSubplot at 0x7f33c62c7450>"
      ]
     },
     "execution_count": 105,
     "metadata": {},
     "output_type": "execute_result"
    },
    {
     "data": {
      "image/png": "[encoded data removed]",
      "text/plain": [
       "<Figure size 1080x432 with 1 Axes>"
      ]
     },
     "metadata": {
      "needs_background": "light"
     },
     "output_type": "display_data"
    }
   ],
   "source": [
    "#Создаю промежуточный датасет\n",
    "sales_df = actual_df[['platform'] + ['year_of_release']  + ['total_sales']]\n",
    "#Строю сводную таблицу\n",
    "sales_df = actual_df.pivot_table(index = 'year_of_release', columns='platform', values = 'total_sales', aggfunc = 'sum')\n",
    "\n",
    "display(sales_df.head(30))\n",
    "#Печатаю график\n",
    "sales_df.plot(figsize=(15, 6))"
   ]
  },
  {
   "cell_type": "markdown",
   "metadata": {},
   "source": [
    "### Промежуточный вывод 3\n",
    "<br>На полученном срезе датасета представлены следующие игровые платформы: 3DS, PC, PS3, PS4, PSP, PSV, Wii, WiiU, X360, XOne.\n",
    "<br>Наиболее заметен факт того, что по итогам 2015 года с рынка ушла консоль **PSP**, показывающая минимальный уровень продаж.\n",
    "<br>Также на графике видно общее снижение продаж по всем платформам.\n",
    "<br>Среди лидеров рынка по продажам можно выделить **PS4**, **XboxOne**, **3DS**, **PC**."
   ]
  },
  {
   "cell_type": "code",
   "execution_count": 106,
   "metadata": {},
   "outputs": [
    {
     "data": {
      "text/plain": [
       "<matplotlib.axes._subplots.AxesSubplot at 0x7f33c58c0990>"
      ]
     },
     "execution_count": 106,
     "metadata": {},
     "output_type": "execute_result"
    },
    {
     "data": {
      "image/png": "[encoded data removed]",
      "text/plain": [
       "<Figure size 1080x432 with 1 Axes>"
      ]
     },
     "metadata": {
      "needs_background": "light"
     },
     "output_type": "display_data"
    }
   ],
   "source": [
    "#Строю диаграмму размаха (aka \"Ящик с усами\") по глобальным продажам игр в разбивке по платформам\n",
    "plt.figure(figsize=(15, 6))\n",
    "sns.boxplot(y=\"platform\", x=\"total_sales\", data=actual_df, orient=\"h\")"
   ]
  },
  {
   "cell_type": "markdown",
   "metadata": {},
   "source": [
    "### Промежуточный вывод 4\n",
    "<br>Построенные диаграммы размаха наглядно показывают то, какой уровень продаж характерен для игр на каждой из платформ. \n",
    "<br>Можно выделить характерные общие признаки для 6 из них, а именно **PS4, XOne, WiiU, PS3, X360, Wii** - подавляющее большинство игр (между первым и третьим квартилями) продаются в количестве до миллиона копий, медиана при этом находится на уровне близком к 200 тысячам. При этом у каждого из лидеров имеются отдельные игры проданные большими тиражами, например, на PS4 есть игра, глобальные продажи которой превысили 14 млн. копий (это наиболее высокий показатель). Такие значения количества продаж характерны в основном для ААА-игр с большими бюджетами на разработку и рекламу. Следовательно, перечисленные лидеры рынка явно имеют возможности для выделения большого объема инвестиций на развитие перспективных проктов.\n",
    "<br>В то же время явно видны аутсайдеры рынка, это две портативные консоли - PSP, и пришедшая ей на замену PSV. Здесь низкие объемы продаж вызваны тем, что это фактически одна и та же, причем очень нишевая платформа, рассчитанная на конкретного потребителя. Также напомню, что  2015 года прекращен выпуск игра для PSP."
   ]
  },
  {
   "cell_type": "code",
   "execution_count": 107,
   "metadata": {},
   "outputs": [
    {
     "name": "stdout",
     "output_type": "stream",
     "text": [
      "Кореляция между отзывами и продажами для игр на консоли PS4\n",
      "              total_sales  critic_score  user_score\n",
      "total_sales      1.000000      0.402661   -0.040132\n",
      "critic_score     0.402661      1.000000    0.546434\n",
      "user_score      -0.040132      0.546434    1.000000\n"
     ]
    },
    {
     "data": {
      "image/png": "[encoded data removed]",
      "text/plain": [
       "<Figure size 540x540 with 12 Axes>"
      ]
     },
     "metadata": {
      "needs_background": "light"
     },
     "output_type": "display_data"
    }
   ],
   "source": [
    "#Для определения кореляции между отзывами и продажами выбрана консоль PS4\n",
    "ps4_df = actual_df.query('platform == \"PS4\"')\n",
    "score = ['total_sales', 'critic_score', 'user_score']\n",
    "sns_plot = sns.pairplot(ps4_df[score]) #Строю матрицу с диаграммами рассеяния\n",
    "print('Кореляция между отзывами и продажами для игр на консоли PS4')\n",
    "print(ps4_df[score].corr())"
   ]
  },
  {
   "cell_type": "markdown",
   "metadata": {},
   "source": [
    "### Промежуточный вывод 5\n",
    "<br>Построенные диаграммы рассеяния и рассчитанная корреляция между отзывами и глобальными продажами дали очень любопытные результаты. \n",
    "<br>Оказалось, что для **PS4** характерно отсутствие корреляции между *отзывами пользователей* и *уровнем продаж*, и в то же время имеется средняя прямая корреляция между *отзывами критиков* и *уровнем продаж*. Следовательно покупатели прислушиваются к мнению критиков, а вот к отзывам пользователей абсолютно равнодушны. При этом отзывы пользователй и отзывы критиков имеют среднюю прямую корреляцию между собой."
   ]
  },
  {
   "cell_type": "code",
   "execution_count": 108,
   "metadata": {},
   "outputs": [
    {
     "name": "stdout",
     "output_type": "stream",
     "text": [
      "Кореляция между отзывами и продажами для игр на консоли PS4\n"
     ]
    },
    {
     "data": {
      "text/html": [
       "<div>\n",
       "<style scoped>\n",
       "    .dataframe tbody tr th:only-of-type {\n",
       "        vertical-align: middle;\n",
       "    }\n",
       "\n",
       "    .dataframe tbody tr th {\n",
       "        vertical-align: top;\n",
       "    }\n",
       "\n",
       "    .dataframe thead th {\n",
       "        text-align: right;\n",
       "    }\n",
       "</style>\n",
       "<table border=\"1\" class=\"dataframe\">\n",
       "  <thead>\n",
       "    <tr style=\"text-align: right;\">\n",
       "      <th></th>\n",
       "      <th>total_sales</th>\n",
       "      <th>critic_score</th>\n",
       "      <th>user_score</th>\n",
       "    </tr>\n",
       "  </thead>\n",
       "  <tbody>\n",
       "    <tr>\n",
       "      <td>total_sales</td>\n",
       "      <td>1.000000</td>\n",
       "      <td>0.406568</td>\n",
       "      <td>-0.031957</td>\n",
       "    </tr>\n",
       "    <tr>\n",
       "      <td>critic_score</td>\n",
       "      <td>0.406568</td>\n",
       "      <td>1.000000</td>\n",
       "      <td>0.557654</td>\n",
       "    </tr>\n",
       "    <tr>\n",
       "      <td>user_score</td>\n",
       "      <td>-0.031957</td>\n",
       "      <td>0.557654</td>\n",
       "      <td>1.000000</td>\n",
       "    </tr>\n",
       "  </tbody>\n",
       "</table>\n",
       "</div>"
      ],
      "text/plain": [
       "              total_sales  critic_score  user_score\n",
       "total_sales      1.000000      0.406568   -0.031957\n",
       "critic_score     0.406568      1.000000    0.557654\n",
       "user_score      -0.031957      0.557654    1.000000"
      ]
     },
     "metadata": {},
     "output_type": "display_data"
    },
    {
     "name": "stdout",
     "output_type": "stream",
     "text": [
      "Кореляция между отзывами и продажами для игр на консоли 3DS\n"
     ]
    },
    {
     "data": {
      "text/html": [
       "<div>\n",
       "<style scoped>\n",
       "    .dataframe tbody tr th:only-of-type {\n",
       "        vertical-align: middle;\n",
       "    }\n",
       "\n",
       "    .dataframe tbody tr th {\n",
       "        vertical-align: top;\n",
       "    }\n",
       "\n",
       "    .dataframe thead th {\n",
       "        text-align: right;\n",
       "    }\n",
       "</style>\n",
       "<table border=\"1\" class=\"dataframe\">\n",
       "  <thead>\n",
       "    <tr style=\"text-align: right;\">\n",
       "      <th></th>\n",
       "      <th>total_sales</th>\n",
       "      <th>critic_score</th>\n",
       "      <th>user_score</th>\n",
       "    </tr>\n",
       "  </thead>\n",
       "  <tbody>\n",
       "    <tr>\n",
       "      <td>total_sales</td>\n",
       "      <td>1.000000</td>\n",
       "      <td>0.348740</td>\n",
       "      <td>0.222078</td>\n",
       "    </tr>\n",
       "    <tr>\n",
       "      <td>critic_score</td>\n",
       "      <td>0.348740</td>\n",
       "      <td>1.000000</td>\n",
       "      <td>0.745222</td>\n",
       "    </tr>\n",
       "    <tr>\n",
       "      <td>user_score</td>\n",
       "      <td>0.222078</td>\n",
       "      <td>0.745222</td>\n",
       "      <td>1.000000</td>\n",
       "    </tr>\n",
       "  </tbody>\n",
       "</table>\n",
       "</div>"
      ],
      "text/plain": [
       "              total_sales  critic_score  user_score\n",
       "total_sales      1.000000      0.348740    0.222078\n",
       "critic_score     0.348740      1.000000    0.745222\n",
       "user_score       0.222078      0.745222    1.000000"
      ]
     },
     "metadata": {},
     "output_type": "display_data"
    },
    {
     "name": "stdout",
     "output_type": "stream",
     "text": [
      "Кореляция между отзывами и продажами для игр на консоли XOne\n"
     ]
    },
    {
     "data": {
      "text/html": [
       "<div>\n",
       "<style scoped>\n",
       "    .dataframe tbody tr th:only-of-type {\n",
       "        vertical-align: middle;\n",
       "    }\n",
       "\n",
       "    .dataframe tbody tr th {\n",
       "        vertical-align: top;\n",
       "    }\n",
       "\n",
       "    .dataframe thead th {\n",
       "        text-align: right;\n",
       "    }\n",
       "</style>\n",
       "<table border=\"1\" class=\"dataframe\">\n",
       "  <thead>\n",
       "    <tr style=\"text-align: right;\">\n",
       "      <th></th>\n",
       "      <th>total_sales</th>\n",
       "      <th>critic_score</th>\n",
       "      <th>user_score</th>\n",
       "    </tr>\n",
       "  </thead>\n",
       "  <tbody>\n",
       "    <tr>\n",
       "      <td>total_sales</td>\n",
       "      <td>1.000000</td>\n",
       "      <td>0.416998</td>\n",
       "      <td>-0.068925</td>\n",
       "    </tr>\n",
       "    <tr>\n",
       "      <td>critic_score</td>\n",
       "      <td>0.416998</td>\n",
       "      <td>1.000000</td>\n",
       "      <td>0.472462</td>\n",
       "    </tr>\n",
       "    <tr>\n",
       "      <td>user_score</td>\n",
       "      <td>-0.068925</td>\n",
       "      <td>0.472462</td>\n",
       "      <td>1.000000</td>\n",
       "    </tr>\n",
       "  </tbody>\n",
       "</table>\n",
       "</div>"
      ],
      "text/plain": [
       "              total_sales  critic_score  user_score\n",
       "total_sales      1.000000      0.416998   -0.068925\n",
       "critic_score     0.416998      1.000000    0.472462\n",
       "user_score      -0.068925      0.472462    1.000000"
      ]
     },
     "metadata": {},
     "output_type": "display_data"
    },
    {
     "name": "stdout",
     "output_type": "stream",
     "text": [
      "Кореляция между отзывами и продажами для игр на консоли WiiU\n"
     ]
    },
    {
     "data": {
      "text/html": [
       "<div>\n",
       "<style scoped>\n",
       "    .dataframe tbody tr th:only-of-type {\n",
       "        vertical-align: middle;\n",
       "    }\n",
       "\n",
       "    .dataframe tbody tr th {\n",
       "        vertical-align: top;\n",
       "    }\n",
       "\n",
       "    .dataframe thead th {\n",
       "        text-align: right;\n",
       "    }\n",
       "</style>\n",
       "<table border=\"1\" class=\"dataframe\">\n",
       "  <thead>\n",
       "    <tr style=\"text-align: right;\">\n",
       "      <th></th>\n",
       "      <th>total_sales</th>\n",
       "      <th>critic_score</th>\n",
       "      <th>user_score</th>\n",
       "    </tr>\n",
       "  </thead>\n",
       "  <tbody>\n",
       "    <tr>\n",
       "      <td>total_sales</td>\n",
       "      <td>1.000000</td>\n",
       "      <td>0.34838</td>\n",
       "      <td>0.400219</td>\n",
       "    </tr>\n",
       "    <tr>\n",
       "      <td>critic_score</td>\n",
       "      <td>0.348380</td>\n",
       "      <td>1.00000</td>\n",
       "      <td>0.770080</td>\n",
       "    </tr>\n",
       "    <tr>\n",
       "      <td>user_score</td>\n",
       "      <td>0.400219</td>\n",
       "      <td>0.77008</td>\n",
       "      <td>1.000000</td>\n",
       "    </tr>\n",
       "  </tbody>\n",
       "</table>\n",
       "</div>"
      ],
      "text/plain": [
       "              total_sales  critic_score  user_score\n",
       "total_sales      1.000000       0.34838    0.400219\n",
       "critic_score     0.348380       1.00000    0.770080\n",
       "user_score       0.400219       0.77008    1.000000"
      ]
     },
     "metadata": {},
     "output_type": "display_data"
    },
    {
     "name": "stdout",
     "output_type": "stream",
     "text": [
      "Кореляция между отзывами и продажами для игр на консоли PS3\n"
     ]
    },
    {
     "data": {
      "text/html": [
       "<div>\n",
       "<style scoped>\n",
       "    .dataframe tbody tr th:only-of-type {\n",
       "        vertical-align: middle;\n",
       "    }\n",
       "\n",
       "    .dataframe tbody tr th {\n",
       "        vertical-align: top;\n",
       "    }\n",
       "\n",
       "    .dataframe thead th {\n",
       "        text-align: right;\n",
       "    }\n",
       "</style>\n",
       "<table border=\"1\" class=\"dataframe\">\n",
       "  <thead>\n",
       "    <tr style=\"text-align: right;\">\n",
       "      <th></th>\n",
       "      <th>total_sales</th>\n",
       "      <th>critic_score</th>\n",
       "      <th>user_score</th>\n",
       "    </tr>\n",
       "  </thead>\n",
       "  <tbody>\n",
       "    <tr>\n",
       "      <td>total_sales</td>\n",
       "      <td>1.000000</td>\n",
       "      <td>0.432759</td>\n",
       "      <td>0.128416</td>\n",
       "    </tr>\n",
       "    <tr>\n",
       "      <td>critic_score</td>\n",
       "      <td>0.432759</td>\n",
       "      <td>1.000000</td>\n",
       "      <td>0.631154</td>\n",
       "    </tr>\n",
       "    <tr>\n",
       "      <td>user_score</td>\n",
       "      <td>0.128416</td>\n",
       "      <td>0.631154</td>\n",
       "      <td>1.000000</td>\n",
       "    </tr>\n",
       "  </tbody>\n",
       "</table>\n",
       "</div>"
      ],
      "text/plain": [
       "              total_sales  critic_score  user_score\n",
       "total_sales      1.000000      0.432759    0.128416\n",
       "critic_score     0.432759      1.000000    0.631154\n",
       "user_score       0.128416      0.631154    1.000000"
      ]
     },
     "metadata": {},
     "output_type": "display_data"
    },
    {
     "name": "stdout",
     "output_type": "stream",
     "text": [
      "Кореляция между отзывами и продажами для игр на консоли X360\n"
     ]
    },
    {
     "data": {
      "text/html": [
       "<div>\n",
       "<style scoped>\n",
       "    .dataframe tbody tr th:only-of-type {\n",
       "        vertical-align: middle;\n",
       "    }\n",
       "\n",
       "    .dataframe tbody tr th {\n",
       "        vertical-align: top;\n",
       "    }\n",
       "\n",
       "    .dataframe thead th {\n",
       "        text-align: right;\n",
       "    }\n",
       "</style>\n",
       "<table border=\"1\" class=\"dataframe\">\n",
       "  <thead>\n",
       "    <tr style=\"text-align: right;\">\n",
       "      <th></th>\n",
       "      <th>total_sales</th>\n",
       "      <th>critic_score</th>\n",
       "      <th>user_score</th>\n",
       "    </tr>\n",
       "  </thead>\n",
       "  <tbody>\n",
       "    <tr>\n",
       "      <td>total_sales</td>\n",
       "      <td>1.000000</td>\n",
       "      <td>0.393150</td>\n",
       "      <td>0.113813</td>\n",
       "    </tr>\n",
       "    <tr>\n",
       "      <td>critic_score</td>\n",
       "      <td>0.393150</td>\n",
       "      <td>1.000000</td>\n",
       "      <td>0.622999</td>\n",
       "    </tr>\n",
       "    <tr>\n",
       "      <td>user_score</td>\n",
       "      <td>0.113813</td>\n",
       "      <td>0.622999</td>\n",
       "      <td>1.000000</td>\n",
       "    </tr>\n",
       "  </tbody>\n",
       "</table>\n",
       "</div>"
      ],
      "text/plain": [
       "              total_sales  critic_score  user_score\n",
       "total_sales      1.000000      0.393150    0.113813\n",
       "critic_score     0.393150      1.000000    0.622999\n",
       "user_score       0.113813      0.622999    1.000000"
      ]
     },
     "metadata": {},
     "output_type": "display_data"
    },
    {
     "name": "stdout",
     "output_type": "stream",
     "text": [
      "Кореляция между отзывами и продажами для игр на консоли PC\n"
     ]
    },
    {
     "data": {
      "text/html": [
       "<div>\n",
       "<style scoped>\n",
       "    .dataframe tbody tr th:only-of-type {\n",
       "        vertical-align: middle;\n",
       "    }\n",
       "\n",
       "    .dataframe tbody tr th {\n",
       "        vertical-align: top;\n",
       "    }\n",
       "\n",
       "    .dataframe thead th {\n",
       "        text-align: right;\n",
       "    }\n",
       "</style>\n",
       "<table border=\"1\" class=\"dataframe\">\n",
       "  <thead>\n",
       "    <tr style=\"text-align: right;\">\n",
       "      <th></th>\n",
       "      <th>total_sales</th>\n",
       "      <th>critic_score</th>\n",
       "      <th>user_score</th>\n",
       "    </tr>\n",
       "  </thead>\n",
       "  <tbody>\n",
       "    <tr>\n",
       "      <td>total_sales</td>\n",
       "      <td>1.000000</td>\n",
       "      <td>0.257395</td>\n",
       "      <td>0.012905</td>\n",
       "    </tr>\n",
       "    <tr>\n",
       "      <td>critic_score</td>\n",
       "      <td>0.257395</td>\n",
       "      <td>1.000000</td>\n",
       "      <td>0.555199</td>\n",
       "    </tr>\n",
       "    <tr>\n",
       "      <td>user_score</td>\n",
       "      <td>0.012905</td>\n",
       "      <td>0.555199</td>\n",
       "      <td>1.000000</td>\n",
       "    </tr>\n",
       "  </tbody>\n",
       "</table>\n",
       "</div>"
      ],
      "text/plain": [
       "              total_sales  critic_score  user_score\n",
       "total_sales      1.000000      0.257395    0.012905\n",
       "critic_score     0.257395      1.000000    0.555199\n",
       "user_score       0.012905      0.555199    1.000000"
      ]
     },
     "metadata": {},
     "output_type": "display_data"
    },
    {
     "name": "stdout",
     "output_type": "stream",
     "text": [
      "Кореляция между отзывами и продажами для игр на консоли Wii\n"
     ]
    },
    {
     "data": {
      "text/html": [
       "<div>\n",
       "<style scoped>\n",
       "    .dataframe tbody tr th:only-of-type {\n",
       "        vertical-align: middle;\n",
       "    }\n",
       "\n",
       "    .dataframe tbody tr th {\n",
       "        vertical-align: top;\n",
       "    }\n",
       "\n",
       "    .dataframe thead th {\n",
       "        text-align: right;\n",
       "    }\n",
       "</style>\n",
       "<table border=\"1\" class=\"dataframe\">\n",
       "  <thead>\n",
       "    <tr style=\"text-align: right;\">\n",
       "      <th></th>\n",
       "      <th>total_sales</th>\n",
       "      <th>critic_score</th>\n",
       "      <th>user_score</th>\n",
       "    </tr>\n",
       "  </thead>\n",
       "  <tbody>\n",
       "    <tr>\n",
       "      <td>total_sales</td>\n",
       "      <td>1.000000</td>\n",
       "      <td>0.177907</td>\n",
       "      <td>0.112831</td>\n",
       "    </tr>\n",
       "    <tr>\n",
       "      <td>critic_score</td>\n",
       "      <td>0.177907</td>\n",
       "      <td>1.000000</td>\n",
       "      <td>0.688285</td>\n",
       "    </tr>\n",
       "    <tr>\n",
       "      <td>user_score</td>\n",
       "      <td>0.112831</td>\n",
       "      <td>0.688285</td>\n",
       "      <td>1.000000</td>\n",
       "    </tr>\n",
       "  </tbody>\n",
       "</table>\n",
       "</div>"
      ],
      "text/plain": [
       "              total_sales  critic_score  user_score\n",
       "total_sales      1.000000      0.177907    0.112831\n",
       "critic_score     0.177907      1.000000    0.688285\n",
       "user_score       0.112831      0.688285    1.000000"
      ]
     },
     "metadata": {},
     "output_type": "display_data"
    },
    {
     "name": "stdout",
     "output_type": "stream",
     "text": [
      "Кореляция между отзывами и продажами для игр на консоли PSV\n"
     ]
    },
    {
     "data": {
      "text/html": [
       "<div>\n",
       "<style scoped>\n",
       "    .dataframe tbody tr th:only-of-type {\n",
       "        vertical-align: middle;\n",
       "    }\n",
       "\n",
       "    .dataframe tbody tr th {\n",
       "        vertical-align: top;\n",
       "    }\n",
       "\n",
       "    .dataframe thead th {\n",
       "        text-align: right;\n",
       "    }\n",
       "</style>\n",
       "<table border=\"1\" class=\"dataframe\">\n",
       "  <thead>\n",
       "    <tr style=\"text-align: right;\">\n",
       "      <th></th>\n",
       "      <th>total_sales</th>\n",
       "      <th>critic_score</th>\n",
       "      <th>user_score</th>\n",
       "    </tr>\n",
       "  </thead>\n",
       "  <tbody>\n",
       "    <tr>\n",
       "      <td>total_sales</td>\n",
       "      <td>1.000000</td>\n",
       "      <td>0.131763</td>\n",
       "      <td>0.013489</td>\n",
       "    </tr>\n",
       "    <tr>\n",
       "      <td>critic_score</td>\n",
       "      <td>0.131763</td>\n",
       "      <td>1.000000</td>\n",
       "      <td>0.734300</td>\n",
       "    </tr>\n",
       "    <tr>\n",
       "      <td>user_score</td>\n",
       "      <td>0.013489</td>\n",
       "      <td>0.734300</td>\n",
       "      <td>1.000000</td>\n",
       "    </tr>\n",
       "  </tbody>\n",
       "</table>\n",
       "</div>"
      ],
      "text/plain": [
       "              total_sales  critic_score  user_score\n",
       "total_sales      1.000000      0.131763    0.013489\n",
       "critic_score     0.131763      1.000000    0.734300\n",
       "user_score       0.013489      0.734300    1.000000"
      ]
     },
     "metadata": {},
     "output_type": "display_data"
    },
    {
     "name": "stdout",
     "output_type": "stream",
     "text": [
      "Кореляция между отзывами и продажами для игр на консоли PSP\n"
     ]
    },
    {
     "data": {
      "text/html": [
       "<div>\n",
       "<style scoped>\n",
       "    .dataframe tbody tr th:only-of-type {\n",
       "        vertical-align: middle;\n",
       "    }\n",
       "\n",
       "    .dataframe tbody tr th {\n",
       "        vertical-align: top;\n",
       "    }\n",
       "\n",
       "    .dataframe thead th {\n",
       "        text-align: right;\n",
       "    }\n",
       "</style>\n",
       "<table border=\"1\" class=\"dataframe\">\n",
       "  <thead>\n",
       "    <tr style=\"text-align: right;\">\n",
       "      <th></th>\n",
       "      <th>total_sales</th>\n",
       "      <th>critic_score</th>\n",
       "      <th>user_score</th>\n",
       "    </tr>\n",
       "  </thead>\n",
       "  <tbody>\n",
       "    <tr>\n",
       "      <td>total_sales</td>\n",
       "      <td>1.000000</td>\n",
       "      <td>0.318593</td>\n",
       "      <td>0.220890</td>\n",
       "    </tr>\n",
       "    <tr>\n",
       "      <td>critic_score</td>\n",
       "      <td>0.318593</td>\n",
       "      <td>1.000000</td>\n",
       "      <td>0.526694</td>\n",
       "    </tr>\n",
       "    <tr>\n",
       "      <td>user_score</td>\n",
       "      <td>0.220890</td>\n",
       "      <td>0.526694</td>\n",
       "      <td>1.000000</td>\n",
       "    </tr>\n",
       "  </tbody>\n",
       "</table>\n",
       "</div>"
      ],
      "text/plain": [
       "              total_sales  critic_score  user_score\n",
       "total_sales      1.000000      0.318593    0.220890\n",
       "critic_score     0.318593      1.000000    0.526694\n",
       "user_score       0.220890      0.526694    1.000000"
      ]
     },
     "metadata": {},
     "output_type": "display_data"
    }
   ],
   "source": [
    "#Соотношу выводы о зависимости между отзывами и продажами на консоли PS4 с выводами по другим платформам\n",
    "actual_platform_list = actual_df['platform'].unique() #Список актуальных платформ\n",
    "\n",
    "#Циклом считаю корреляцию\n",
    "for i in actual_platform_list:\n",
    "    df = games_df[games_df['platform'] == i]\n",
    "    print('Кореляция между отзывами и продажами для игр на консоли', i)\n",
    "    display(df[score].corr())"
   ]
  },
  {
   "cell_type": "markdown",
   "metadata": {},
   "source": [
    "### Промежуточный вывод 6\n",
    "<br>Данные по корреляции между отзывами и продажами, полученные для платфоы **PS4** релевантны с аналогичными результатами для платфом **PS3, X360, XOne**. \n",
    "<br>Для платформы **PC** корреляция между отзывами критиков и продажами низкая, между отзывами пользователей и продажами отсутствует.\n",
    "<br>Для платформ **PSP**, **3DS** и **Wii** характерна низкая прямая корреляция как между отзывами пользователей и продажами так и между отзывами критиков и продажами.\n",
    "<br>**На данном этапе можно сделать следующий вывод:**\n",
    "<br>Однозначно нельзя сказать, что отзывы критиков или пользователей сильно влияют на уровень продаж, но в то же время тенденция к корреляции наблюдается у явных лидеров рынка, таких как **PS4** и **XOne**. Этот факт можно связать с тем, что данные платформы активно рекламируют свои продукты в силу бюджетных возможностей, а это в свою очередь влечет повышенный инетерес со стороны пользователей и критиков, следовательно повышается возможность сбора большего количества отзывов, по сравнению с конкурентами. А факт того, что продажи игр не зависят от пользовтельских оценок, интерпретируется следующим образом - публика привыкла доверять авторитетным мнениям."
   ]
  },
  {
   "cell_type": "code",
   "execution_count": 109,
   "metadata": {},
   "outputs": [
    {
     "name": "stdout",
     "output_type": "stream",
     "text": [
      "Количество игр по жанрам\n",
      "Action          619\n",
      "Role-Playing    221\n",
      "Adventure       185\n",
      "Sports          161\n",
      "Shooter         128\n",
      "Misc            113\n",
      "Racing           69\n",
      "Fighting         60\n",
      "Simulation       44\n",
      "Platform         38\n",
      "Strategy         37\n",
      "Puzzle           14\n",
      "Name: genre, dtype: int64\n"
     ]
    },
    {
     "data": {
      "text/plain": [
       "<matplotlib.axes._subplots.AxesSubplot at 0x7f33c6222790>"
      ]
     },
     "execution_count": 109,
     "metadata": {},
     "output_type": "execute_result"
    },
    {
     "data": {
      "image/png": "[encoded data removed]",
      "text/plain": [
       "<Figure size 1080x432 with 1 Axes>"
      ]
     },
     "metadata": {
      "needs_background": "light"
     },
     "output_type": "display_data"
    },
    {
     "data": {
      "image/png": "[encoded data removed]",
      "text/plain": [
       "<Figure size 1080x432 with 1 Axes>"
      ]
     },
     "metadata": {
      "needs_background": "light"
     },
     "output_type": "display_data"
    }
   ],
   "source": [
    "#Нахожу распределение игр по жанрам\n",
    "print('Количество игр по жанрам')\n",
    "actual_genre = actual_df['genre'].value_counts()\n",
    "print(actual_genre.head(12)) #Применяю метод .value_counts() для посчета\n",
    "\n",
    "\n",
    "#Для наглядности строю график по количеству проданных игр\n",
    "plt.figure(figsize=(15, 6))\n",
    "sns.countplot(x='genre', data=actual_df)\n",
    "\n",
    "#...и график по распределению продаж\n",
    "plt.figure(figsize=(15, 6))\n",
    "sns.stripplot(x=\"genre\", y=\"total_sales\", data=actual_df)"
   ]
  },
  {
   "cell_type": "markdown",
   "metadata": {},
   "source": [
    "Теперь определим уровни продаж по каждому жанру"
   ]
  },
  {
   "cell_type": "code",
   "execution_count": 110,
   "metadata": {},
   "outputs": [
    {
     "data": {
      "text/html": [
       "<div>\n",
       "<style scoped>\n",
       "    .dataframe tbody tr th:only-of-type {\n",
       "        vertical-align: middle;\n",
       "    }\n",
       "\n",
       "    .dataframe tbody tr th {\n",
       "        vertical-align: top;\n",
       "    }\n",
       "\n",
       "    .dataframe thead th {\n",
       "        text-align: right;\n",
       "    }\n",
       "</style>\n",
       "<table border=\"1\" class=\"dataframe\">\n",
       "  <thead>\n",
       "    <tr style=\"text-align: right;\">\n",
       "      <th></th>\n",
       "      <th>genre</th>\n",
       "      <th>total_sales</th>\n",
       "    </tr>\n",
       "  </thead>\n",
       "  <tbody>\n",
       "    <tr>\n",
       "      <td>0</td>\n",
       "      <td>Action</td>\n",
       "      <td>199.36</td>\n",
       "    </tr>\n",
       "    <tr>\n",
       "      <td>1</td>\n",
       "      <td>Shooter</td>\n",
       "      <td>170.94</td>\n",
       "    </tr>\n",
       "    <tr>\n",
       "      <td>2</td>\n",
       "      <td>Sports</td>\n",
       "      <td>109.48</td>\n",
       "    </tr>\n",
       "    <tr>\n",
       "      <td>3</td>\n",
       "      <td>Role-Playing</td>\n",
       "      <td>101.44</td>\n",
       "    </tr>\n",
       "    <tr>\n",
       "      <td>4</td>\n",
       "      <td>Misc</td>\n",
       "      <td>37.55</td>\n",
       "    </tr>\n",
       "    <tr>\n",
       "      <td>5</td>\n",
       "      <td>Fighting</td>\n",
       "      <td>28.22</td>\n",
       "    </tr>\n",
       "    <tr>\n",
       "      <td>6</td>\n",
       "      <td>Racing</td>\n",
       "      <td>27.52</td>\n",
       "    </tr>\n",
       "    <tr>\n",
       "      <td>7</td>\n",
       "      <td>Platform</td>\n",
       "      <td>18.09</td>\n",
       "    </tr>\n",
       "    <tr>\n",
       "      <td>8</td>\n",
       "      <td>Adventure</td>\n",
       "      <td>17.55</td>\n",
       "    </tr>\n",
       "    <tr>\n",
       "      <td>9</td>\n",
       "      <td>Simulation</td>\n",
       "      <td>13.13</td>\n",
       "    </tr>\n",
       "    <tr>\n",
       "      <td>10</td>\n",
       "      <td>Strategy</td>\n",
       "      <td>3.96</td>\n",
       "    </tr>\n",
       "    <tr>\n",
       "      <td>11</td>\n",
       "      <td>Puzzle</td>\n",
       "      <td>2.21</td>\n",
       "    </tr>\n",
       "  </tbody>\n",
       "</table>\n",
       "</div>"
      ],
      "text/plain": [
       "           genre  total_sales\n",
       "0         Action       199.36\n",
       "1        Shooter       170.94\n",
       "2         Sports       109.48\n",
       "3   Role-Playing       101.44\n",
       "4           Misc        37.55\n",
       "5       Fighting        28.22\n",
       "6         Racing        27.52\n",
       "7       Platform        18.09\n",
       "8      Adventure        17.55\n",
       "9     Simulation        13.13\n",
       "10      Strategy         3.96\n",
       "11        Puzzle         2.21"
      ]
     },
     "metadata": {},
     "output_type": "display_data"
    },
    {
     "data": {
      "text/plain": [
       "<matplotlib.axes._subplots.AxesSubplot at 0x7f33c5931e50>"
      ]
     },
     "execution_count": 110,
     "metadata": {},
     "output_type": "execute_result"
    },
    {
     "data": {
      "image/png": "[encoded data removed]",
      "text/plain": [
       "<Figure size 1080x432 with 1 Axes>"
      ]
     },
     "metadata": {
      "needs_background": "light"
     },
     "output_type": "display_data"
    }
   ],
   "source": [
    "#Создаю таблицу по суммарным продажам по платформам\n",
    "genre_df = actual_df[['genre'] + ['total_sales']]\n",
    "genre_df = (genre_df\n",
    "    .groupby('genre')\n",
    "    .sum()\n",
    "    .sort_values(by = 'total_sales', ascending=False)\n",
    "    .reset_index(level='genre')\n",
    ")\n",
    "    \n",
    "display(genre_df.head(12))\n",
    "#Для наглядности строю график\n",
    "plt.figure(figsize=(15, 6))\n",
    "sns.barplot(x='genre', y='total_sales', data=genre_df)"
   ]
  },
  {
   "cell_type": "markdown",
   "metadata": {},
   "source": [
    "Из полученной таблицы и графика явно видно, что больше всего продается игр в стиле Action, затем Shooter, Sports, Role-Playing и т.д. Наименьшее количество продаж при этом приходится на следующие жанры: Simulation, Strategy, Puzzle.\n",
    "<br>Однако и выпускается игр жанров Action значительно больше, чем, предположим тех же Strategy или Puzzle. На мой взгляд стоит ввести метрику по удельным продажам - сколько продаж приходится на 1 игру каждого жанра. Попробуем это сделать."
   ]
  },
  {
   "cell_type": "code",
   "execution_count": 111,
   "metadata": {},
   "outputs": [
    {
     "data": {
      "text/html": [
       "<div>\n",
       "<style scoped>\n",
       "    .dataframe tbody tr th:only-of-type {\n",
       "        vertical-align: middle;\n",
       "    }\n",
       "\n",
       "    .dataframe tbody tr th {\n",
       "        vertical-align: top;\n",
       "    }\n",
       "\n",
       "    .dataframe thead th {\n",
       "        text-align: right;\n",
       "    }\n",
       "</style>\n",
       "<table border=\"1\" class=\"dataframe\">\n",
       "  <thead>\n",
       "    <tr style=\"text-align: right;\">\n",
       "      <th></th>\n",
       "      <th>genre</th>\n",
       "      <th>total_sales</th>\n",
       "      <th>games_sold</th>\n",
       "    </tr>\n",
       "  </thead>\n",
       "  <tbody>\n",
       "    <tr>\n",
       "      <td>0</td>\n",
       "      <td>Action</td>\n",
       "      <td>199.36</td>\n",
       "      <td>619</td>\n",
       "    </tr>\n",
       "    <tr>\n",
       "      <td>1</td>\n",
       "      <td>Shooter</td>\n",
       "      <td>170.94</td>\n",
       "      <td>128</td>\n",
       "    </tr>\n",
       "    <tr>\n",
       "      <td>2</td>\n",
       "      <td>Sports</td>\n",
       "      <td>109.48</td>\n",
       "      <td>161</td>\n",
       "    </tr>\n",
       "    <tr>\n",
       "      <td>3</td>\n",
       "      <td>Role-Playing</td>\n",
       "      <td>101.44</td>\n",
       "      <td>221</td>\n",
       "    </tr>\n",
       "    <tr>\n",
       "      <td>4</td>\n",
       "      <td>Misc</td>\n",
       "      <td>37.55</td>\n",
       "      <td>113</td>\n",
       "    </tr>\n",
       "    <tr>\n",
       "      <td>5</td>\n",
       "      <td>Fighting</td>\n",
       "      <td>28.22</td>\n",
       "      <td>60</td>\n",
       "    </tr>\n",
       "    <tr>\n",
       "      <td>6</td>\n",
       "      <td>Racing</td>\n",
       "      <td>27.52</td>\n",
       "      <td>69</td>\n",
       "    </tr>\n",
       "    <tr>\n",
       "      <td>7</td>\n",
       "      <td>Platform</td>\n",
       "      <td>18.09</td>\n",
       "      <td>38</td>\n",
       "    </tr>\n",
       "    <tr>\n",
       "      <td>8</td>\n",
       "      <td>Adventure</td>\n",
       "      <td>17.55</td>\n",
       "      <td>185</td>\n",
       "    </tr>\n",
       "    <tr>\n",
       "      <td>9</td>\n",
       "      <td>Simulation</td>\n",
       "      <td>13.13</td>\n",
       "      <td>44</td>\n",
       "    </tr>\n",
       "    <tr>\n",
       "      <td>10</td>\n",
       "      <td>Strategy</td>\n",
       "      <td>3.96</td>\n",
       "      <td>37</td>\n",
       "    </tr>\n",
       "    <tr>\n",
       "      <td>11</td>\n",
       "      <td>Puzzle</td>\n",
       "      <td>2.21</td>\n",
       "      <td>14</td>\n",
       "    </tr>\n",
       "  </tbody>\n",
       "</table>\n",
       "</div>"
      ],
      "text/plain": [
       "           genre  total_sales  games_sold\n",
       "0         Action       199.36         619\n",
       "1        Shooter       170.94         128\n",
       "2         Sports       109.48         161\n",
       "3   Role-Playing       101.44         221\n",
       "4           Misc        37.55         113\n",
       "5       Fighting        28.22          60\n",
       "6         Racing        27.52          69\n",
       "7       Platform        18.09          38\n",
       "8      Adventure        17.55         185\n",
       "9     Simulation        13.13          44\n",
       "10      Strategy         3.96          37\n",
       "11        Puzzle         2.21          14"
      ]
     },
     "metadata": {},
     "output_type": "display_data"
    }
   ],
   "source": [
    "#genre_df = pd.concat([genre_df, actual_genre])\n",
    "actual_genre = actual_df.pivot_table(index='genre', values='total_sales', aggfunc = 'count')\n",
    "genre_df=genre_df.merge(actual_genre, on='genre')\n",
    "new_names = ['genre', 'total_sales', 'games_sold']\n",
    "genre_df.set_axis(new_names, axis = 'columns', inplace = True)\n",
    "\n",
    "display(genre_df.head(12))"
   ]
  },
  {
   "cell_type": "code",
   "execution_count": 114,
   "metadata": {},
   "outputs": [
    {
     "data": {
      "text/html": [
       "<div>\n",
       "<style scoped>\n",
       "    .dataframe tbody tr th:only-of-type {\n",
       "        vertical-align: middle;\n",
       "    }\n",
       "\n",
       "    .dataframe tbody tr th {\n",
       "        vertical-align: top;\n",
       "    }\n",
       "\n",
       "    .dataframe thead th {\n",
       "        text-align: right;\n",
       "    }\n",
       "</style>\n",
       "<table border=\"1\" class=\"dataframe\">\n",
       "  <thead>\n",
       "    <tr style=\"text-align: right;\">\n",
       "      <th></th>\n",
       "      <th>genre</th>\n",
       "      <th>total_sales</th>\n",
       "      <th>games_sold</th>\n",
       "      <th>sold_per_game</th>\n",
       "    </tr>\n",
       "  </thead>\n",
       "  <tbody>\n",
       "    <tr>\n",
       "      <td>0</td>\n",
       "      <td>Action</td>\n",
       "      <td>199.36</td>\n",
       "      <td>619</td>\n",
       "      <td>0.322068</td>\n",
       "    </tr>\n",
       "    <tr>\n",
       "      <td>1</td>\n",
       "      <td>Shooter</td>\n",
       "      <td>170.94</td>\n",
       "      <td>128</td>\n",
       "      <td>1.335469</td>\n",
       "    </tr>\n",
       "    <tr>\n",
       "      <td>2</td>\n",
       "      <td>Sports</td>\n",
       "      <td>109.48</td>\n",
       "      <td>161</td>\n",
       "      <td>0.680000</td>\n",
       "    </tr>\n",
       "    <tr>\n",
       "      <td>3</td>\n",
       "      <td>Role-Playing</td>\n",
       "      <td>101.44</td>\n",
       "      <td>221</td>\n",
       "      <td>0.459005</td>\n",
       "    </tr>\n",
       "    <tr>\n",
       "      <td>4</td>\n",
       "      <td>Misc</td>\n",
       "      <td>37.55</td>\n",
       "      <td>113</td>\n",
       "      <td>0.332301</td>\n",
       "    </tr>\n",
       "    <tr>\n",
       "      <td>5</td>\n",
       "      <td>Fighting</td>\n",
       "      <td>28.22</td>\n",
       "      <td>60</td>\n",
       "      <td>0.470333</td>\n",
       "    </tr>\n",
       "    <tr>\n",
       "      <td>6</td>\n",
       "      <td>Racing</td>\n",
       "      <td>27.52</td>\n",
       "      <td>69</td>\n",
       "      <td>0.398841</td>\n",
       "    </tr>\n",
       "    <tr>\n",
       "      <td>7</td>\n",
       "      <td>Platform</td>\n",
       "      <td>18.09</td>\n",
       "      <td>38</td>\n",
       "      <td>0.476053</td>\n",
       "    </tr>\n",
       "    <tr>\n",
       "      <td>8</td>\n",
       "      <td>Adventure</td>\n",
       "      <td>17.55</td>\n",
       "      <td>185</td>\n",
       "      <td>0.094865</td>\n",
       "    </tr>\n",
       "    <tr>\n",
       "      <td>9</td>\n",
       "      <td>Simulation</td>\n",
       "      <td>13.13</td>\n",
       "      <td>44</td>\n",
       "      <td>0.298409</td>\n",
       "    </tr>\n",
       "    <tr>\n",
       "      <td>10</td>\n",
       "      <td>Strategy</td>\n",
       "      <td>3.96</td>\n",
       "      <td>37</td>\n",
       "      <td>0.107027</td>\n",
       "    </tr>\n",
       "    <tr>\n",
       "      <td>11</td>\n",
       "      <td>Puzzle</td>\n",
       "      <td>2.21</td>\n",
       "      <td>14</td>\n",
       "      <td>0.157857</td>\n",
       "    </tr>\n",
       "  </tbody>\n",
       "</table>\n",
       "</div>"
      ],
      "text/plain": [
       "           genre  total_sales  games_sold  sold_per_game\n",
       "0         Action       199.36         619       0.322068\n",
       "1        Shooter       170.94         128       1.335469\n",
       "2         Sports       109.48         161       0.680000\n",
       "3   Role-Playing       101.44         221       0.459005\n",
       "4           Misc        37.55         113       0.332301\n",
       "5       Fighting        28.22          60       0.470333\n",
       "6         Racing        27.52          69       0.398841\n",
       "7       Platform        18.09          38       0.476053\n",
       "8      Adventure        17.55         185       0.094865\n",
       "9     Simulation        13.13          44       0.298409\n",
       "10      Strategy         3.96          37       0.107027\n",
       "11        Puzzle         2.21          14       0.157857"
      ]
     },
     "metadata": {},
     "output_type": "display_data"
    },
    {
     "data": {
      "text/plain": [
       "<matplotlib.axes._subplots.AxesSubplot at 0x7f33c4faa7d0>"
      ]
     },
     "execution_count": 114,
     "metadata": {},
     "output_type": "execute_result"
    },
    {
     "data": {
      "image/png": "[encoded data removed]",
      "text/plain": [
       "<Figure size 1080x432 with 1 Axes>"
      ]
     },
     "metadata": {
      "needs_background": "light"
     },
     "output_type": "display_data"
    }
   ],
   "source": [
    "genre_df['sold_per_game'] = genre_df['total_sales']/genre_df['games_sold'] \n",
    "display(genre_df.head(12))\n",
    "\n",
    "#Для наглядности строю график\n",
    "plt.figure(figsize=(15, 6))\n",
    "sns.barplot(x='genre', y='sold_per_game', data=genre_df)"
   ]
  },
  {
   "cell_type": "markdown",
   "metadata": {},
   "source": [
    "### Промежуточный вывод 7\n",
    "<br>Анализ абсолютных и удельных показателй продаж по играм различных жанров позволил сделать следующие выводы:\n",
    "1. По абсолютным показателям продаж явно лидируют жанры: Action, Shooter, Sports, Role-Playing. Наименее востребованы Simulation, Strategy, Puzzle.\n",
    "2. По удельным показателям  лидеры остались те же, однако, в топе здесь Shooter, а жанр Action вытеснен жанром Fighting. Список наименее прибыльных жанров следующий -  Puzzle, Strategy, Adventure."
   ]
  },
  {
   "cell_type": "markdown",
   "metadata": {},
   "source": [
    "### Вывод к Шагу 3"
   ]
  },
  {
   "cell_type": "markdown",
   "metadata": {},
   "source": [
    "Анализируя пролученные в этом шаге результаты можно сделать ряд важных выводов.\n",
    "<br>В первую очередь, стоит отметить, что рынок компьютерных игр достаточно \"молод\", поскольку его активное формирование началось в 80-х годах прошлого века. Однако, стремительное развитие технологий и постоянно повышающийся спрос на компьютерные игры заставили аго пройти за короткий промежуток времени все стадии развития, что наглядно продемонстрировано на гистограмме выхода игр по годам. \n",
    "<br>За весь период наблюдения, в борьбе за лидерство на рынке компьютерных игр учавствовали не менее 31 игровой платформы, но в момент пика конкурентного противостояния многие производители были вынуждены уйти с рынка по тем или иным причинам, что несложно видеть на графике продаж по платформам. Срок жизни каждой игровой платформы составляет в среднем **8 лет**. Следовательно весь исходный датасет слабо характеризует текущее состояние дел.\n",
    "<br>В связи с этим возникла необходимость взять из общего объема данных репрезентативную выборку, хронологически наиболее приближенную к настоящему времени, а именно период **2014 - 2016 гг.** Поскольку здесь представлены действующие игроки: **3DS, PC, PS3, PS4, PSP, PSV, Wii, WiiU, X360, XOne** (в течение выбранного периода прекраился выпуск игр для консоли PSP, ей на замену пришла PSV).\n",
    "<br>На сегодняшний день отмечается стагнация рынка с характерным снижением объема общих продаж, при этом явно выделяются платформы-лидеры, а именно: **PS4**, **XboxOne**, **3DS**, **PC**. \n",
    "<br>Данные полученные при анализе диаграмм размаха оказались очень показательными. Не трудно видеть, что подавляющее большинство игр (между первым и третьим квартилями) продаются в количестве до миллиона копий, медиана при этом находится на уровне близком к 200 тысячам. При этом у каждого из лидеров имеются отдельные игры проданные большими тиражами, например, на PS4 есть игра, глобальные продажи которой превысили 14 млн. копий (это наиболее высокий показатель). Такие значения количества продаж характерны в основном для ААА-игр с большими бюджетами на разработку и рекламу. Следовательно, перечисленные лидеры рынка явно имеют возможности для выделения большого объема инвестиций на развитие перспективных проктов. Если вы дочитали до этого места, то используйте в ревью кодовое слово Карма. За это вам будет + в карму.\n",
    "<br>Одним из интересных фактов можно считать отсутствие корреляции между продажой компьютерных игр и отзывами пользователей, при этом от отзывов критиков продажи имеют некоторую зависимость. Это можно связать с тем, что платформы-лидеры активно рекламируют свои продукты в силу бюджетных возможностей, а это в свою очередь влечет повышенный инетерес со стороны пользователей и критиков, следовательно повышается возможность сбора большего количества отзывов, по сравнению с конкурентами. Пиар - дело тонкое.\n",
    "\n",
    "<br>Анализ абсолютных и удельных показателй продаж по играм различных жанров позволил сделать следующие выводы:\n",
    "1. По абсолютным показателям продаж явно лидируют жанры: Action, Shooter, Sports, Role-Playing. Наименее востребованы Simulation, Strategy, Puzzle.\n",
    "2. По удельным показателям  лидеры остались те же, однако, в топе здесь Shooter, а жанр Action вытеснен жанром Fighting. Список наименее прибыльных жанров следующий -  Puzzle, Strategy, Adventure.\n",
    "\n",
    "<br>Для планирования будущих рекламных кампаний стоит обратить внимание на удельную метрику по продажам."
   ]
  },
  {
   "cell_type": "markdown",
   "metadata": {},
   "source": [
    "### Шаг 4. Составление портрета пользователя каждого региона (NA, EU, JP)."
   ]
  },
  {
   "cell_type": "code",
   "execution_count": 115,
   "metadata": {},
   "outputs": [
    {
     "data": {
      "text/html": [
       "<div>\n",
       "<style scoped>\n",
       "    .dataframe tbody tr th:only-of-type {\n",
       "        vertical-align: middle;\n",
       "    }\n",
       "\n",
       "    .dataframe tbody tr th {\n",
       "        vertical-align: top;\n",
       "    }\n",
       "\n",
       "    .dataframe thead th {\n",
       "        text-align: right;\n",
       "    }\n",
       "</style>\n",
       "<table border=\"1\" class=\"dataframe\">\n",
       "  <thead>\n",
       "    <tr style=\"text-align: right;\">\n",
       "      <th></th>\n",
       "      <th>eu_sales</th>\n",
       "      <th>jp_sales</th>\n",
       "      <th>na_sales</th>\n",
       "    </tr>\n",
       "    <tr>\n",
       "      <th>platform</th>\n",
       "      <th></th>\n",
       "      <th></th>\n",
       "      <th></th>\n",
       "    </tr>\n",
       "  </thead>\n",
       "  <tbody>\n",
       "    <tr>\n",
       "      <td>3DS</td>\n",
       "      <td>16.12</td>\n",
       "      <td>44.24</td>\n",
       "      <td>22.64</td>\n",
       "    </tr>\n",
       "    <tr>\n",
       "      <td>PC</td>\n",
       "      <td>17.97</td>\n",
       "      <td>0.00</td>\n",
       "      <td>7.23</td>\n",
       "    </tr>\n",
       "    <tr>\n",
       "      <td>PS3</td>\n",
       "      <td>25.54</td>\n",
       "      <td>11.22</td>\n",
       "      <td>22.05</td>\n",
       "    </tr>\n",
       "    <tr>\n",
       "      <td>PS4</td>\n",
       "      <td>130.04</td>\n",
       "      <td>15.02</td>\n",
       "      <td>98.61</td>\n",
       "    </tr>\n",
       "    <tr>\n",
       "      <td>PSP</td>\n",
       "      <td>0.00</td>\n",
       "      <td>0.36</td>\n",
       "      <td>0.00</td>\n",
       "    </tr>\n",
       "    <tr>\n",
       "      <td>PSV</td>\n",
       "      <td>3.53</td>\n",
       "      <td>14.54</td>\n",
       "      <td>2.52</td>\n",
       "    </tr>\n",
       "    <tr>\n",
       "      <td>Wii</td>\n",
       "      <td>2.59</td>\n",
       "      <td>0.00</td>\n",
       "      <td>2.08</td>\n",
       "    </tr>\n",
       "    <tr>\n",
       "      <td>WiiU</td>\n",
       "      <td>13.15</td>\n",
       "      <td>7.31</td>\n",
       "      <td>19.36</td>\n",
       "    </tr>\n",
       "    <tr>\n",
       "      <td>X360</td>\n",
       "      <td>15.49</td>\n",
       "      <td>0.08</td>\n",
       "      <td>28.30</td>\n",
       "    </tr>\n",
       "    <tr>\n",
       "      <td>XOne</td>\n",
       "      <td>46.25</td>\n",
       "      <td>0.32</td>\n",
       "      <td>81.27</td>\n",
       "    </tr>\n",
       "  </tbody>\n",
       "</table>\n",
       "</div>"
      ],
      "text/plain": [
       "          eu_sales  jp_sales  na_sales\n",
       "platform                              \n",
       "3DS          16.12     44.24     22.64\n",
       "PC           17.97      0.00      7.23\n",
       "PS3          25.54     11.22     22.05\n",
       "PS4         130.04     15.02     98.61\n",
       "PSP           0.00      0.36      0.00\n",
       "PSV           3.53     14.54      2.52\n",
       "Wii           2.59      0.00      2.08\n",
       "WiiU         13.15      7.31     19.36\n",
       "X360         15.49      0.08     28.30\n",
       "XOne         46.25      0.32     81.27"
      ]
     },
     "metadata": {},
     "output_type": "display_data"
    },
    {
     "name": "stdout",
     "output_type": "stream",
     "text": [
      "Топ-5 платформ в Северной Америке\n"
     ]
    },
    {
     "data": {
      "text/html": [
       "<div>\n",
       "<style scoped>\n",
       "    .dataframe tbody tr th:only-of-type {\n",
       "        vertical-align: middle;\n",
       "    }\n",
       "\n",
       "    .dataframe tbody tr th {\n",
       "        vertical-align: top;\n",
       "    }\n",
       "\n",
       "    .dataframe thead th {\n",
       "        text-align: right;\n",
       "    }\n",
       "</style>\n",
       "<table border=\"1\" class=\"dataframe\">\n",
       "  <thead>\n",
       "    <tr style=\"text-align: right;\">\n",
       "      <th></th>\n",
       "      <th>na_sales</th>\n",
       "    </tr>\n",
       "    <tr>\n",
       "      <th>platform</th>\n",
       "      <th></th>\n",
       "    </tr>\n",
       "  </thead>\n",
       "  <tbody>\n",
       "    <tr>\n",
       "      <td>PS4</td>\n",
       "      <td>98.61</td>\n",
       "    </tr>\n",
       "    <tr>\n",
       "      <td>XOne</td>\n",
       "      <td>81.27</td>\n",
       "    </tr>\n",
       "    <tr>\n",
       "      <td>X360</td>\n",
       "      <td>28.30</td>\n",
       "    </tr>\n",
       "    <tr>\n",
       "      <td>3DS</td>\n",
       "      <td>22.64</td>\n",
       "    </tr>\n",
       "    <tr>\n",
       "      <td>PS3</td>\n",
       "      <td>22.05</td>\n",
       "    </tr>\n",
       "  </tbody>\n",
       "</table>\n",
       "</div>"
      ],
      "text/plain": [
       "          na_sales\n",
       "platform          \n",
       "PS4          98.61\n",
       "XOne         81.27\n",
       "X360         28.30\n",
       "3DS          22.64\n",
       "PS3          22.05"
      ]
     },
     "metadata": {},
     "output_type": "display_data"
    },
    {
     "name": "stdout",
     "output_type": "stream",
     "text": [
      "Топ-5 платформ в Европе\n"
     ]
    },
    {
     "data": {
      "text/html": [
       "<div>\n",
       "<style scoped>\n",
       "    .dataframe tbody tr th:only-of-type {\n",
       "        vertical-align: middle;\n",
       "    }\n",
       "\n",
       "    .dataframe tbody tr th {\n",
       "        vertical-align: top;\n",
       "    }\n",
       "\n",
       "    .dataframe thead th {\n",
       "        text-align: right;\n",
       "    }\n",
       "</style>\n",
       "<table border=\"1\" class=\"dataframe\">\n",
       "  <thead>\n",
       "    <tr style=\"text-align: right;\">\n",
       "      <th></th>\n",
       "      <th>eu_sales</th>\n",
       "    </tr>\n",
       "    <tr>\n",
       "      <th>platform</th>\n",
       "      <th></th>\n",
       "    </tr>\n",
       "  </thead>\n",
       "  <tbody>\n",
       "    <tr>\n",
       "      <td>PS4</td>\n",
       "      <td>130.04</td>\n",
       "    </tr>\n",
       "    <tr>\n",
       "      <td>XOne</td>\n",
       "      <td>46.25</td>\n",
       "    </tr>\n",
       "    <tr>\n",
       "      <td>PS3</td>\n",
       "      <td>25.54</td>\n",
       "    </tr>\n",
       "    <tr>\n",
       "      <td>PC</td>\n",
       "      <td>17.97</td>\n",
       "    </tr>\n",
       "    <tr>\n",
       "      <td>3DS</td>\n",
       "      <td>16.12</td>\n",
       "    </tr>\n",
       "  </tbody>\n",
       "</table>\n",
       "</div>"
      ],
      "text/plain": [
       "          eu_sales\n",
       "platform          \n",
       "PS4         130.04\n",
       "XOne         46.25\n",
       "PS3          25.54\n",
       "PC           17.97\n",
       "3DS          16.12"
      ]
     },
     "metadata": {},
     "output_type": "display_data"
    },
    {
     "name": "stdout",
     "output_type": "stream",
     "text": [
      "Топ-5 платформ в Японии\n"
     ]
    },
    {
     "data": {
      "text/html": [
       "<div>\n",
       "<style scoped>\n",
       "    .dataframe tbody tr th:only-of-type {\n",
       "        vertical-align: middle;\n",
       "    }\n",
       "\n",
       "    .dataframe tbody tr th {\n",
       "        vertical-align: top;\n",
       "    }\n",
       "\n",
       "    .dataframe thead th {\n",
       "        text-align: right;\n",
       "    }\n",
       "</style>\n",
       "<table border=\"1\" class=\"dataframe\">\n",
       "  <thead>\n",
       "    <tr style=\"text-align: right;\">\n",
       "      <th></th>\n",
       "      <th>jp_sales</th>\n",
       "    </tr>\n",
       "    <tr>\n",
       "      <th>platform</th>\n",
       "      <th></th>\n",
       "    </tr>\n",
       "  </thead>\n",
       "  <tbody>\n",
       "    <tr>\n",
       "      <td>3DS</td>\n",
       "      <td>44.24</td>\n",
       "    </tr>\n",
       "    <tr>\n",
       "      <td>PS4</td>\n",
       "      <td>15.02</td>\n",
       "    </tr>\n",
       "    <tr>\n",
       "      <td>PSV</td>\n",
       "      <td>14.54</td>\n",
       "    </tr>\n",
       "    <tr>\n",
       "      <td>PS3</td>\n",
       "      <td>11.22</td>\n",
       "    </tr>\n",
       "    <tr>\n",
       "      <td>WiiU</td>\n",
       "      <td>7.31</td>\n",
       "    </tr>\n",
       "  </tbody>\n",
       "</table>\n",
       "</div>"
      ],
      "text/plain": [
       "          jp_sales\n",
       "platform          \n",
       "3DS          44.24\n",
       "PS4          15.02\n",
       "PSV          14.54\n",
       "PS3          11.22\n",
       "WiiU          7.31"
      ]
     },
     "metadata": {},
     "output_type": "display_data"
    },
    {
     "data": {
      "text/plain": [
       "<matplotlib.axes._subplots.AxesSubplot at 0x7f33c4a85b10>"
      ]
     },
     "execution_count": 115,
     "metadata": {},
     "output_type": "execute_result"
    },
    {
     "data": {
      "image/png": "[encoded data removed]",
      "text/plain": [
       "<Figure size 1080x432 with 1 Axes>"
      ]
     },
     "metadata": {
      "needs_background": "light"
     },
     "output_type": "display_data"
    }
   ],
   "source": [
    "regional_platform = actual_df.pivot_table(index='platform', values=['na_sales', 'eu_sales', 'jp_sales'], aggfunc='sum') \n",
    "display(regional_platform)\n",
    "\n",
    "print('Топ-5 платформ в Северной Америке')\n",
    "display(regional_platform.sort_values(by=['na_sales'], ascending=False).drop(['eu_sales', 'jp_sales'], axis=1).head(5))\n",
    "\n",
    "print('Топ-5 платформ в Европе')\n",
    "display(regional_platform.sort_values(by=['eu_sales'], ascending=False).drop(['na_sales', 'jp_sales'], axis=1).head(5))\n",
    "\n",
    "print('Топ-5 платформ в Японии')\n",
    "display(regional_platform.sort_values(by=['jp_sales'], ascending=False).drop(['eu_sales', 'na_sales'], axis=1).head(5))\n",
    "\n",
    "#Печатаю график\n",
    "regional_platform.plot(figsize=(15, 6))"
   ]
  },
  {
   "cell_type": "markdown",
   "metadata": {},
   "source": [
    "### Промежуточный вывод 1\n",
    "В этом месте я подробно остановлюсь на различиях в спросе на игры определенных пллатформ в разных регионах. Здесь явно можно выделить характерные особенности.\n",
    "<br> Для пользователей Северной Америки картина выглядит следующим образом:\n",
    "1. PS4 - наиболее новая консоль от лидеров рынка с большим количеством эксклюзивных игр ААА уровня. Эта консоль зарекомендовала себя за более чем 20 летнюю историю продаж (если считать от первой PS). Имеет множество поклонников по всему миру\n",
    "2. XOne - также новинка от Microsoft не уступающая по качесту и характеристикам PS4, при этом имеет незначительное отставание от лидера в этом регионе. Характерно, что регион продаж совпадает с регионом-производиетелм этой консоли.\n",
    "3. X360 - предыдущая консоль от Microsoft, отходящая на второй план, имеющая весомое отставание от лидеров.\n",
    "4. 3DS - единственная в перечне портативная консоль, нишевый продукт с определенными потребителями.\n",
    "5. PS3 - предыдущая консоль от Sony, также постепенно уходящая с рынка, в связи обновлением в линейке.\n",
    "\n",
    "<br> Для пользователей из Европы характерно следующее распределение:\n",
    "1. PS4 - популярность этой консоли в Европе объясняется аналогично с Северной Америкой.\n",
    "2. XOne - новинка от Microsoft не уступающая по качесту и характеристикам PS4. В Европе отставание от PS4 сильнее чем в Северной Америке, вероятно, в связи с тем, что Microsoft выбрала своей целевой аудиторией жителей Северной Америки\n",
    "3. PS3 - предыдущая консоль от Sony, постепенно уходящая с рынка, в связи обновлением в линейке.\n",
    "4. PC - присутствие платформы ПК в Топ-5 по продажам в Европе вызвано исторически-сложившейся привычкой, количество проданных игр для ПК значительно меньше, чем для консолей.\n",
    "5. 3DS - единственная в перечне портативная консоль, нишевый продукт с определенными потребителями.\n",
    "\n",
    "<br> Япония - загадочный регион, однако, они чрезвычайно любят все свое! Топ-5 игровых платформ этому подтверждение - все консоли исключительно японские, Xbox далеко позади.\n",
    "1. 3DS - первое место по праву занимает портативная консоль. Здесь немаловажную роль играет особенность японского менталитета и образа жизни, для них портативность консоли намного важнее графической составляющей.\n",
    "2. PS4 - топовая \"родная\" консоль от Sony. Выбор очевиден.\n",
    "3. PSV - третье место незначительно отстает от второго места, поскольку также пользуется популярностью из-за своей портативности.\n",
    "4. PS3 - предыдущая консоль от Sony, постепенно уходящая с рынка, в связи обновлением в линейке.\n",
    "5. WiiU - уникальная консоль от Nintendo сочетающая в себе возможности портативности и подключения к ТВ Занимает почетное пятое место в связи с небольшим количеством игр."
   ]
  },
  {
   "cell_type": "code",
   "execution_count": 116,
   "metadata": {},
   "outputs": [
    {
     "data": {
      "text/html": [
       "<div>\n",
       "<style scoped>\n",
       "    .dataframe tbody tr th:only-of-type {\n",
       "        vertical-align: middle;\n",
       "    }\n",
       "\n",
       "    .dataframe tbody tr th {\n",
       "        vertical-align: top;\n",
       "    }\n",
       "\n",
       "    .dataframe thead th {\n",
       "        text-align: right;\n",
       "    }\n",
       "</style>\n",
       "<table border=\"1\" class=\"dataframe\">\n",
       "  <thead>\n",
       "    <tr style=\"text-align: right;\">\n",
       "      <th></th>\n",
       "      <th>eu_sales</th>\n",
       "      <th>jp_sales</th>\n",
       "      <th>na_sales</th>\n",
       "    </tr>\n",
       "    <tr>\n",
       "      <th>genre</th>\n",
       "      <th></th>\n",
       "      <th></th>\n",
       "      <th></th>\n",
       "    </tr>\n",
       "  </thead>\n",
       "  <tbody>\n",
       "    <tr>\n",
       "      <td>Action</td>\n",
       "      <td>74.68</td>\n",
       "      <td>29.58</td>\n",
       "      <td>72.53</td>\n",
       "    </tr>\n",
       "    <tr>\n",
       "      <td>Adventure</td>\n",
       "      <td>6.49</td>\n",
       "      <td>3.60</td>\n",
       "      <td>5.64</td>\n",
       "    </tr>\n",
       "    <tr>\n",
       "      <td>Fighting</td>\n",
       "      <td>6.69</td>\n",
       "      <td>6.37</td>\n",
       "      <td>12.43</td>\n",
       "    </tr>\n",
       "    <tr>\n",
       "      <td>Misc</td>\n",
       "      <td>12.86</td>\n",
       "      <td>5.61</td>\n",
       "      <td>15.05</td>\n",
       "    </tr>\n",
       "    <tr>\n",
       "      <td>Platform</td>\n",
       "      <td>6.80</td>\n",
       "      <td>2.69</td>\n",
       "      <td>6.79</td>\n",
       "    </tr>\n",
       "    <tr>\n",
       "      <td>Puzzle</td>\n",
       "      <td>0.52</td>\n",
       "      <td>0.93</td>\n",
       "      <td>0.65</td>\n",
       "    </tr>\n",
       "    <tr>\n",
       "      <td>Racing</td>\n",
       "      <td>14.13</td>\n",
       "      <td>1.76</td>\n",
       "      <td>8.74</td>\n",
       "    </tr>\n",
       "    <tr>\n",
       "      <td>Role-Playing</td>\n",
       "      <td>28.17</td>\n",
       "      <td>31.16</td>\n",
       "      <td>33.47</td>\n",
       "    </tr>\n",
       "    <tr>\n",
       "      <td>Shooter</td>\n",
       "      <td>65.52</td>\n",
       "      <td>4.87</td>\n",
       "      <td>79.02</td>\n",
       "    </tr>\n",
       "    <tr>\n",
       "      <td>Simulation</td>\n",
       "      <td>7.30</td>\n",
       "      <td>2.31</td>\n",
       "      <td>2.63</td>\n",
       "    </tr>\n",
       "    <tr>\n",
       "      <td>Sports</td>\n",
       "      <td>45.73</td>\n",
       "      <td>3.26</td>\n",
       "      <td>46.13</td>\n",
       "    </tr>\n",
       "    <tr>\n",
       "      <td>Strategy</td>\n",
       "      <td>1.79</td>\n",
       "      <td>0.95</td>\n",
       "      <td>0.98</td>\n",
       "    </tr>\n",
       "  </tbody>\n",
       "</table>\n",
       "</div>"
      ],
      "text/plain": [
       "              eu_sales  jp_sales  na_sales\n",
       "genre                                     \n",
       "Action           74.68     29.58     72.53\n",
       "Adventure         6.49      3.60      5.64\n",
       "Fighting          6.69      6.37     12.43\n",
       "Misc             12.86      5.61     15.05\n",
       "Platform          6.80      2.69      6.79\n",
       "Puzzle            0.52      0.93      0.65\n",
       "Racing           14.13      1.76      8.74\n",
       "Role-Playing     28.17     31.16     33.47\n",
       "Shooter          65.52      4.87     79.02\n",
       "Simulation        7.30      2.31      2.63\n",
       "Sports           45.73      3.26     46.13\n",
       "Strategy          1.79      0.95      0.98"
      ]
     },
     "metadata": {},
     "output_type": "display_data"
    },
    {
     "name": "stdout",
     "output_type": "stream",
     "text": [
      "Топ-5 жанров в Северной Америке\n"
     ]
    },
    {
     "data": {
      "text/html": [
       "<div>\n",
       "<style scoped>\n",
       "    .dataframe tbody tr th:only-of-type {\n",
       "        vertical-align: middle;\n",
       "    }\n",
       "\n",
       "    .dataframe tbody tr th {\n",
       "        vertical-align: top;\n",
       "    }\n",
       "\n",
       "    .dataframe thead th {\n",
       "        text-align: right;\n",
       "    }\n",
       "</style>\n",
       "<table border=\"1\" class=\"dataframe\">\n",
       "  <thead>\n",
       "    <tr style=\"text-align: right;\">\n",
       "      <th></th>\n",
       "      <th>na_sales</th>\n",
       "    </tr>\n",
       "    <tr>\n",
       "      <th>genre</th>\n",
       "      <th></th>\n",
       "    </tr>\n",
       "  </thead>\n",
       "  <tbody>\n",
       "    <tr>\n",
       "      <td>Shooter</td>\n",
       "      <td>79.02</td>\n",
       "    </tr>\n",
       "    <tr>\n",
       "      <td>Action</td>\n",
       "      <td>72.53</td>\n",
       "    </tr>\n",
       "    <tr>\n",
       "      <td>Sports</td>\n",
       "      <td>46.13</td>\n",
       "    </tr>\n",
       "    <tr>\n",
       "      <td>Role-Playing</td>\n",
       "      <td>33.47</td>\n",
       "    </tr>\n",
       "    <tr>\n",
       "      <td>Misc</td>\n",
       "      <td>15.05</td>\n",
       "    </tr>\n",
       "  </tbody>\n",
       "</table>\n",
       "</div>"
      ],
      "text/plain": [
       "              na_sales\n",
       "genre                 \n",
       "Shooter          79.02\n",
       "Action           72.53\n",
       "Sports           46.13\n",
       "Role-Playing     33.47\n",
       "Misc             15.05"
      ]
     },
     "metadata": {},
     "output_type": "display_data"
    },
    {
     "name": "stdout",
     "output_type": "stream",
     "text": [
      "Топ-5 жанров в Европе\n"
     ]
    },
    {
     "data": {
      "text/html": [
       "<div>\n",
       "<style scoped>\n",
       "    .dataframe tbody tr th:only-of-type {\n",
       "        vertical-align: middle;\n",
       "    }\n",
       "\n",
       "    .dataframe tbody tr th {\n",
       "        vertical-align: top;\n",
       "    }\n",
       "\n",
       "    .dataframe thead th {\n",
       "        text-align: right;\n",
       "    }\n",
       "</style>\n",
       "<table border=\"1\" class=\"dataframe\">\n",
       "  <thead>\n",
       "    <tr style=\"text-align: right;\">\n",
       "      <th></th>\n",
       "      <th>eu_sales</th>\n",
       "    </tr>\n",
       "    <tr>\n",
       "      <th>genre</th>\n",
       "      <th></th>\n",
       "    </tr>\n",
       "  </thead>\n",
       "  <tbody>\n",
       "    <tr>\n",
       "      <td>Action</td>\n",
       "      <td>74.68</td>\n",
       "    </tr>\n",
       "    <tr>\n",
       "      <td>Shooter</td>\n",
       "      <td>65.52</td>\n",
       "    </tr>\n",
       "    <tr>\n",
       "      <td>Sports</td>\n",
       "      <td>45.73</td>\n",
       "    </tr>\n",
       "    <tr>\n",
       "      <td>Role-Playing</td>\n",
       "      <td>28.17</td>\n",
       "    </tr>\n",
       "    <tr>\n",
       "      <td>Racing</td>\n",
       "      <td>14.13</td>\n",
       "    </tr>\n",
       "  </tbody>\n",
       "</table>\n",
       "</div>"
      ],
      "text/plain": [
       "              eu_sales\n",
       "genre                 \n",
       "Action           74.68\n",
       "Shooter          65.52\n",
       "Sports           45.73\n",
       "Role-Playing     28.17\n",
       "Racing           14.13"
      ]
     },
     "metadata": {},
     "output_type": "display_data"
    },
    {
     "name": "stdout",
     "output_type": "stream",
     "text": [
      "Топ-5 жанров в Японии\n"
     ]
    },
    {
     "data": {
      "text/html": [
       "<div>\n",
       "<style scoped>\n",
       "    .dataframe tbody tr th:only-of-type {\n",
       "        vertical-align: middle;\n",
       "    }\n",
       "\n",
       "    .dataframe tbody tr th {\n",
       "        vertical-align: top;\n",
       "    }\n",
       "\n",
       "    .dataframe thead th {\n",
       "        text-align: right;\n",
       "    }\n",
       "</style>\n",
       "<table border=\"1\" class=\"dataframe\">\n",
       "  <thead>\n",
       "    <tr style=\"text-align: right;\">\n",
       "      <th></th>\n",
       "      <th>jp_sales</th>\n",
       "    </tr>\n",
       "    <tr>\n",
       "      <th>genre</th>\n",
       "      <th></th>\n",
       "    </tr>\n",
       "  </thead>\n",
       "  <tbody>\n",
       "    <tr>\n",
       "      <td>Role-Playing</td>\n",
       "      <td>31.16</td>\n",
       "    </tr>\n",
       "    <tr>\n",
       "      <td>Action</td>\n",
       "      <td>29.58</td>\n",
       "    </tr>\n",
       "    <tr>\n",
       "      <td>Fighting</td>\n",
       "      <td>6.37</td>\n",
       "    </tr>\n",
       "    <tr>\n",
       "      <td>Misc</td>\n",
       "      <td>5.61</td>\n",
       "    </tr>\n",
       "    <tr>\n",
       "      <td>Shooter</td>\n",
       "      <td>4.87</td>\n",
       "    </tr>\n",
       "  </tbody>\n",
       "</table>\n",
       "</div>"
      ],
      "text/plain": [
       "              jp_sales\n",
       "genre                 \n",
       "Role-Playing     31.16\n",
       "Action           29.58\n",
       "Fighting          6.37\n",
       "Misc              5.61\n",
       "Shooter           4.87"
      ]
     },
     "metadata": {},
     "output_type": "display_data"
    },
    {
     "data": {
      "text/plain": [
       "<matplotlib.axes._subplots.AxesSubplot at 0x7f33c4a7b650>"
      ]
     },
     "execution_count": 116,
     "metadata": {},
     "output_type": "execute_result"
    },
    {
     "data": {
      "image/png": "[encoded data removed]",
      "text/plain": [
       "<Figure size 1080x432 with 1 Axes>"
      ]
     },
     "metadata": {
      "needs_background": "light"
     },
     "output_type": "display_data"
    }
   ],
   "source": [
    "regional_genre = actual_df.pivot_table(index='genre', values=['na_sales', 'eu_sales', 'jp_sales'], aggfunc='sum') \n",
    "# index=None, columns=, \n",
    "display(regional_genre)\n",
    "\n",
    "print('Топ-5 жанров в Северной Америке')\n",
    "display(regional_genre.sort_values(by=['na_sales'], ascending=False).drop(['eu_sales', 'jp_sales'], axis=1).head(5))\n",
    "\n",
    "print('Топ-5 жанров в Европе')\n",
    "display(regional_genre.sort_values(by=['eu_sales'], ascending=False).drop(['na_sales', 'jp_sales'], axis=1).head(5))\n",
    "\n",
    "print('Топ-5 жанров в Японии')\n",
    "display(regional_genre.sort_values(by=['jp_sales'], ascending=False).drop(['eu_sales', 'na_sales'], axis=1).head(5))\n",
    "\n",
    "\n",
    "#Печатаю график\n",
    "regional_genre.plot(figsize=(15, 6))"
   ]
  },
  {
   "cell_type": "markdown",
   "metadata": {},
   "source": [
    "### Промежуточный вывод 2\n",
    "В Северной Америке и Европе наиболее полпулярны игровые жанры Shooter, Action, Sports. Связано это с тем, что игры этих жанров наиболее зрелищны и вызывают эмоциональное напряжение, а поскольку в этих регионах преобладают консоли, подключаемые к ТВ, то пользователи выбирают захватывающие игры с хорошей графикой.\n",
    "<br>В Японии превалируют продажи игр жанров Role-Playing и Action. Здесь это обусловлено прежде всего спросом самих пользователей и тем, что для популярных в Японии консолей выходят по большей части игы этих жанров."
   ]
  },
  {
   "cell_type": "code",
   "execution_count": 117,
   "metadata": {},
   "outputs": [
    {
     "data": {
      "text/html": [
       "<div>\n",
       "<style scoped>\n",
       "    .dataframe tbody tr th:only-of-type {\n",
       "        vertical-align: middle;\n",
       "    }\n",
       "\n",
       "    .dataframe tbody tr th {\n",
       "        vertical-align: top;\n",
       "    }\n",
       "\n",
       "    .dataframe thead th {\n",
       "        text-align: right;\n",
       "    }\n",
       "</style>\n",
       "<table border=\"1\" class=\"dataframe\">\n",
       "  <thead>\n",
       "    <tr style=\"text-align: right;\">\n",
       "      <th></th>\n",
       "      <th>eu_sales</th>\n",
       "      <th>jp_sales</th>\n",
       "      <th>na_sales</th>\n",
       "    </tr>\n",
       "    <tr>\n",
       "      <th>rating</th>\n",
       "      <th></th>\n",
       "      <th></th>\n",
       "      <th></th>\n",
       "    </tr>\n",
       "  </thead>\n",
       "  <tbody>\n",
       "    <tr>\n",
       "      <td>E</td>\n",
       "      <td>74.44</td>\n",
       "      <td>19.47</td>\n",
       "      <td>62.19</td>\n",
       "    </tr>\n",
       "    <tr>\n",
       "      <td>E10+</td>\n",
       "      <td>26.16</td>\n",
       "      <td>4.46</td>\n",
       "      <td>33.23</td>\n",
       "    </tr>\n",
       "    <tr>\n",
       "      <td>M</td>\n",
       "      <td>109.53</td>\n",
       "      <td>8.71</td>\n",
       "      <td>115.23</td>\n",
       "    </tr>\n",
       "    <tr>\n",
       "      <td>T</td>\n",
       "      <td>60.55</td>\n",
       "      <td>60.45</td>\n",
       "      <td>73.41</td>\n",
       "    </tr>\n",
       "  </tbody>\n",
       "</table>\n",
       "</div>"
      ],
      "text/plain": [
       "        eu_sales  jp_sales  na_sales\n",
       "rating                              \n",
       "E          74.44     19.47     62.19\n",
       "E10+       26.16      4.46     33.23\n",
       "M         109.53      8.71    115.23\n",
       "T          60.55     60.45     73.41"
      ]
     },
     "metadata": {},
     "output_type": "display_data"
    },
    {
     "data": {
      "text/plain": [
       "<matplotlib.axes._subplots.AxesSubplot at 0x7f33c49a3d90>"
      ]
     },
     "execution_count": 117,
     "metadata": {},
     "output_type": "execute_result"
    },
    {
     "data": {
      "image/png": "[encoded data removed]",
      "text/plain": [
       "<Figure size 1080x432 with 1 Axes>"
      ]
     },
     "metadata": {
      "needs_background": "light"
     },
     "output_type": "display_data"
    }
   ],
   "source": [
    "regional_rating = actual_df.pivot_table(index='rating', values=['na_sales', 'eu_sales', 'jp_sales'], aggfunc='sum') \n",
    "display(regional_rating)\n",
    "\n",
    "#Печатаю график\n",
    "regional_rating.plot(figsize=(15, 6))"
   ]
  },
  {
   "cell_type": "markdown",
   "metadata": {},
   "source": [
    "### Промежуточный вывод 3\n",
    "В Северной Америке так же как и в Европе наибольшей популярность пользуются игры возрастного рейтинга \"М\" (\"Mature\") — \"Для взрослых\",  и \"E\" (\"Everyone\") — \"Для всех\". А раз эти показатели являются одинковыми для двух регионов, то можно сказать, что рейтинг игры влияет на ее продажи.\n",
    "<br>На рынке Японии наиболее популярны игры \"T\" (\"Teen\") — \"Подросткам\" и \"E\" (\"Everyone\")."
   ]
  },
  {
   "cell_type": "markdown",
   "metadata": {},
   "source": [
    "### Вывод к Шагу 4"
   ]
  },
  {
   "cell_type": "markdown",
   "metadata": {},
   "source": [
    "Руководствуясь данными из шага 4 можно попробовать составить типичный портрет для пользователя определенного региона:\n",
    "<br>Северная Америка - пользователь PS4, играющий в шутер с рейтингом \"М\".\n",
    "<br>Европа - пользователь PS4, играющий в экшн с рейтингом \"М\".\n",
    "<br>Япония - пользователь 3DS, играющий в ролевые игры с рейтингом \"Т\".\n",
    "\n",
    "Это чрезвычайно полезная информация для планирования рекламных кампаний в будущем."
   ]
  },
  {
   "cell_type": "markdown",
   "metadata": {},
   "source": [
    "### Шаг 5. Проверка гипотез."
   ]
  },
  {
   "cell_type": "markdown",
   "metadata": {},
   "source": [
    "На этом шаге необходимо проверить две гипотезы:</br>\n",
    "1. Средние пользовательские рейтинги платформ Xbox One и PC одинаковые;\n",
    "2. Средние пользовательские рейтинги жанров Action и Sports разные."
   ]
  },
  {
   "cell_type": "markdown",
   "metadata": {},
   "source": [
    "#### Задача 1\n",
    "<br>Проверка гипотезы: Средние пользовательские рейтинги платформ Xbox One и PC одинаковые.\n",
    "<br>Формулирую нулевую гипотезу: Средние пользовательские рейтинги платформ Xbox One и PC **одинаковые**.\n",
    "<br>Формулирую альтернативную гипотезу: Средние пользовательские рейтинги платформ Xbox One и PC **не одинаковые**."
   ]
  },
  {
   "cell_type": "code",
   "execution_count": 121,
   "metadata": {},
   "outputs": [],
   "source": [
    "pc_df = actual_df.query('platform == \"PC\"') #Срез для жанра Action\n",
    "xone_df = actual_df.query('platform == \"XOne\"') #Срез для жанра Sports\n",
    "\n",
    "#Удаляю строки с пропущенными значениями в столбце 'user_score' для датасетов pc_df и xone_df, сбрасываю индексы\n",
    "pc_df = pc_df.dropna(subset = ['user_score']).reset_index(drop=True)\n",
    "xone_df = xone_df.dropna(subset = ['user_score']).reset_index(drop=True)"
   ]
  },
  {
   "cell_type": "code",
   "execution_count": 122,
   "metadata": {},
   "outputs": [
    {
     "name": "stdout",
     "output_type": "stream",
     "text": [
      "p-значение: 0.10450507919348415\n",
      "Не получилось отвергнуть нулевую гипотезу\n"
     ]
    }
   ],
   "source": [
    "alpha = .05 # Задаю критический уровень статистической значимости\n",
    "\n",
    "platform_results = st.ttest_ind(\n",
    "    pc_df['user_score'], \n",
    "    xone_df['user_score'])# Проверяю гипотезу о равенстве средних двух независимых совокупностей\n",
    "\n",
    "print('p-значение:', platform_results.pvalue)\n",
    "\n",
    "if (platform_results.pvalue < alpha): # Сравниваю получившееся p-значение с заданным уровнем статистической значимости\n",
    "    print(\"Отвергаем нулевую гипотезу\")\n",
    "else:\n",
    "    print(\"Не получилось отвергнуть нулевую гипотезу\")"
   ]
  },
  {
   "cell_type": "markdown",
   "metadata": {},
   "source": [
    "#### Задача 2\n",
    "<br>Проверка гипотезы: Средние пользовательские рейтинги жанров Action и Sports разные.\n",
    "<br>Формулирую нулевую гипотезу: Средние пользовательские рейтинги жанров Action и Sports **одинаковые**.\n",
    "<br>Формулирую альтернативную гипотезу: Средние пользовательские рейтинги жанров Action и Sports **не одинаковые**."
   ]
  },
  {
   "cell_type": "code",
   "execution_count": 123,
   "metadata": {},
   "outputs": [],
   "source": [
    "action_df = actual_df.query('genre == \"Action\"') #Срез для жанра Action\n",
    "sports_df = actual_df.query('genre == \"Sports\"') #Срез для жанра Sports\n",
    "\n",
    "#Удаляю строки с пропущенными значениями в столбце 'user_score' для датасетов action_df и sports_df, сбрасываю индексы\n",
    "action_df = action_df.dropna(subset = ['user_score']).reset_index(drop=True)\n",
    "sports_df = sports_df.dropna(subset = ['user_score']).reset_index(drop=True)"
   ]
  },
  {
   "cell_type": "code",
   "execution_count": 124,
   "metadata": {},
   "outputs": [
    {
     "name": "stdout",
     "output_type": "stream",
     "text": [
      "p-значение: 2.8711147985105864e-19\n",
      "Отвергаем нулевую гипотезу\n"
     ]
    }
   ],
   "source": [
    "genre_results = st.ttest_ind(\n",
    "    action_df['user_score'], \n",
    "    sports_df['user_score'])# Проверяю гипотезу о равенстве средних двух независимых совокупностей\n",
    "\n",
    "print('p-значение:',genre_results.pvalue)\n",
    "\n",
    "if (genre_results.pvalue < alpha): # Сравниваю получившееся p-значение с заданным уровнем статистической значимости\n",
    "    print(\"Отвергаем нулевую гипотезу\")\n",
    "else:\n",
    "    print(\"Не получилось отвергнуть нулевую гипотезу\")"
   ]
  },
  {
   "cell_type": "markdown",
   "metadata": {},
   "source": [
    "**Пояснение**\n",
    "<br>Нулевые гипотезы сформулированы из условия равенства средних двух выборок, альтернативные гипотезы сформулированы исходя из условия, что средние не равны.\n",
    "<br>Для проверки ипотез использован критерий results.pvalue < alpha, поскольку при p-значении меньше уровня статистической значимости нулевую гипотезу можно считать опровергнутой. За основу сравниывемых выборок был взят столбец 'user_score' - оценка пользователей."
   ]
  },
  {
   "cell_type": "markdown",
   "metadata": {},
   "source": [
    "### Вывод к Шагу 5"
   ]
  },
  {
   "cell_type": "markdown",
   "metadata": {},
   "source": [
    "На этом шаге мною были проверены две гипотезы:\n",
    "1. Средние пользовательские рейтинги платформ Xbox One и PC одинаковые;\n",
    "2. Средние пользовательские рейтинги жанров Action и Sports разные.\n",
    "\n",
    "<br>Нулевая гипотеза Задачи 1: Средние пользовательские рейтинги платформ Xbox One и PC **одинаковые**. Не была отвергнута, следовательно пользовательские оценки не зависят от платформы. Очень вероятно, что при этом они зависят от качества самой игры и от степени оправданности ожиданий.\n",
    "<br>Нулевая гипотеза Задачи 2 - Средние пользовательские рейтинги жанров Action и Sports **одинаковые** была отвергнута, это говорит о то, что пользовательнские оценки зависят от жанра игры. Скорее всего эта зависимость возникает от того, что любители разных жанров предъявляют разные требования к качеству игр."
   ]
  },
  {
   "cell_type": "markdown",
   "metadata": {},
   "source": [
    "### Общий вывод"
   ]
  },
  {
   "cell_type": "markdown",
   "metadata": {},
   "source": [
    "В рамках данного проекта была проделана большая работа по анализу датасета о продаже игр для различных платформ за период с 1980 по 2016 гг. В первоначальном датасете 16715 строк с данными, и следующие столбцы:\n",
    "<br>• Name — название игры\n",
    "<br>• Platform — платформа\n",
    "<br>• Year_of_Release — год выпуска\n",
    "<br>• Genre — жанр игры\n",
    "<br>• NA_sales — продажи в Северной Америке (миллионы проданных копий)\n",
    "<br>• EU_sales — продажи в Европе (миллионы проданных копий)\n",
    "<br>• JP_sales — продажи в Японии (миллионы проданных копий)\n",
    "<br>• Other_sales — продажи в других странах (миллионы проданных копий)\n",
    "<br>• Critic_Score — оценка критиков (максимум 100)\n",
    "<br>• User_Score — оценка пользователей (максимум 10)\n",
    "<br>• Rating — рейтинг от организации ESRB (определяет возрастную категорию игр)\n",
    "<br>Исходные данные потребовали качественной обработки и углубленного изучения датасета. \n",
    "\n",
    "Подготовка данных включила в себя следующие этапы:\n",
    "1. Приведение названий столбцов к нижнему регистру;\n",
    "2. Пропуски в столбце 'year_of_release' частично обработаны, данные приведены к типу *int*;\n",
    "3. Удалены строки с пропущенными значениями в столбцах 'name', 'year_of_release', 'genre';\n",
    "4. Далее были обработаны значения **\"tbd\"** в столбце 'user_score'. Эти значения заменены на *NaN*. Оставшиеся в этом столбце данные были приведены к типу *float64*;\n",
    "5. Произведена замена значений **\"K-A\" (\"Kids to Adults\")** на  **«E» («Everyone»)** в столбце 'rating', пропуски в этом столбце заполнены модальными значениями по рейтингу игр;\n",
    "6. Пропуски в столбцах 'critic_score', 'user_score', 'rating' оставлены без заполнения.\n",
    "\n",
    "В ходе исследовательского анализа данных был определен ряд важных моментов и сделаны выводы.\n",
    "1. Наглядно показан процесс формирования рынка компьютерных игр, объяснены тренды развития; \n",
    "2. Определен средний срок жизни каждой игровой платформы, который составил **8 лет**;\n",
    "3. Сформирована репрезентативная выборка, хронологически наиболее приближенную к настоящему времени, а именно период **2014 - 2016 гг.** В которой представлены действующие игроки рынка: **3DS, PC, PS3, PS4, PSP, PSV, Wii, WiiU, X360, XOne**;\n",
    "4. Определено, что на сегодняшний день рынок находится в стагнации с характерным снижением объема общих продаж, при этом явно выделяются платформы-лидеры, а именно: **PS4**, **XboxOne**, **3DS**, **PC**;\n",
    "5. Построенные диаграммы размаха выделили платформы, на которых продажи игр могут достигать максимальных показателей, коими являются лидеры рынка, что подтверждает их качество;\n",
    "6. Одним из интересных фактов можно считать отсутствие корреляции между продажой компьютерных игр и отзывами пользователей, при этом от отзывов критиков продажи имеют некоторую зависимость.\n",
    "\n",
    "Анализ абсолютных и удельных показателй продаж по играм различных жанров позволил сделать следующие выводы:\n",
    "1. По абсолютным показателям продаж явно лидируют жанры: Action, Shooter, Sports, Role-Playing. Наименее востребованы Simulation, Strategy, Puzzle.\n",
    "2. По удельным показателям  лидеры остались те же, однако, в топе здесь Shooter, а жанр Action вытеснен жанром Fighting. Список наименее прибыльных жанров следующий -  Puzzle, Strategy, Adventure.\n",
    "\n",
    "<br>**Для планирования будущих рекламных кампаний стоит обратить внимание на удельную метрику по продажам игр определенного жанра.**\n",
    "\n",
    "Также составлены \"портрет приоритетов\" для пользователей каждого региона:\n",
    "<br>Северная Америка - пользователь PS4, играющий в шутер с рейтингом \"М\".\n",
    "<br>Европа - пользователь PS4, играющий в экшн с рейтингом \"М\".\n",
    "<br>Япония - пользователь 3DS, играющий в ролевые игры с рейтингом \"Т\".\n",
    "\n",
    "**Это чрезвычайно полезная информация для планирования рекламных кампаний в будущем.**\n",
    "\n",
    "В части проверки статистических гипотез получены следующие выводы\n",
    "<br>Нулевая гипотеза Задачи 1: Средние пользовательские рейтинги платформ Xbox One и PC **одинаковые**. Не была отвергнута, следовательно пользовательские оценки не зависят от платформы. Очень вероятно, что при этом они зависят от качества самой игры и от степени оправданности ожиданий.\n",
    "<br>Нулевая гипотеза Задачи 2 - Средние пользовательские рейтинги жанров Action и Sports **одинаковые** была отвергнута, это говорит о то, что пользовательнские оценки зависят от жанра игры. Скорее всего эта зависимость возникает от того, что любители разных жанров предъявляют разные требования к качеству игр.\n",
    "\n",
    "Одазначно можно утверждать, что при планировании рекламных кампаний необходимо ориентироваться на анонсы от лидеров рынка - **PS4**, **XboxOne**. В этом месте появляется второе кодовое слово - дзен, использование этого слова в ревью обязательно поможет его достичь. Следить за оценками критиков, которые выходят за некоторое время до релиза игры. Предлагать пользователям каждого региона определенные игры, для определенных платформ.\n",
    "\n",
    "Разработанная модель позволит спрогнозировать продажи на любой будущий период для классического рынка компьютерных игр.\n",
    "\n",
    "Дополнительно отмечу, что следует провести подобный анализ для рынка онлайн игр, вход в которые является бесплатным, но для успешной игры требуются микротранзакции. Фактически это новый этап развития компьютерных игр, который имеет свои особенности."
   ]
  }
 ],
 "metadata": {
  "kernelspec": {
   "display_name": "Python 3",
   "language": "python",
   "name": "python3"
  },
  "language_info": {
   "codemirror_mode": {
    "name": "ipython",
    "version": 3
   },
   "file_extension": ".py",
   "mimetype": "text/x-python",
   "name": "python",
   "nbconvert_exporter": "python",
   "pygments_lexer": "ipython3",
   "version": "3.7.6"
  }
 },
 "nbformat": 4,
 "nbformat_minor": 2
}
