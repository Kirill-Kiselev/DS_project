{
 "cells": [
  {
   "cell_type": "markdown",
   "metadata": {},
   "source": [
    "# Рекомендация тарифов"
   ]
  },
  {
   "cell_type": "markdown",
   "metadata": {},
   "source": [
    "В вашем распоряжении данные о поведении клиентов, которые уже перешли на эти тарифы (из проекта курса «Статистический анализ данных»). Нужно построить модель для задачи классификации, которая выберет подходящий тариф. Предобработка данных не понадобится — вы её уже сделали.\n",
    "\n",
    "Постройте модель с максимально большим значением *accuracy*. Чтобы сдать проект успешно, нужно довести долю правильных ответов по крайней мере до 0.75. Проверьте *accuracy* на тестовой выборке самостоятельно."
   ]
  },
  {
   "cell_type": "markdown",
   "metadata": {},
   "source": [
    "### План работы\n",
    "1. Открытие файла с данными и его изучение.\n",
    "2. Разделение исходных данных на обучающую, валидационную и тестовую выборки.\n",
    "3. Исследование качества разных моделей.\n",
    "4. Проверка качества моделей на тестовой выборке."
   ]
  },
  {
   "cell_type": "markdown",
   "metadata": {},
   "source": [
    "## 1. Открытие и изучение файла"
   ]
  },
  {
   "cell_type": "code",
   "execution_count": 1,
   "metadata": {
    "scrolled": false
   },
   "outputs": [
    {
     "name": "stdout",
     "output_type": "stream",
     "text": [
      "<class 'pandas.core.frame.DataFrame'>\n",
      "RangeIndex: 3214 entries, 0 to 3213\n",
      "Data columns (total 5 columns):\n",
      "calls       3214 non-null float64\n",
      "minutes     3214 non-null float64\n",
      "messages    3214 non-null float64\n",
      "mb_used     3214 non-null float64\n",
      "is_ultra    3214 non-null int64\n",
      "dtypes: float64(4), int64(1)\n",
      "memory usage: 125.7 KB\n",
      "\n"
     ]
    },
    {
     "data": {
      "text/html": [
       "<div>\n",
       "<style scoped>\n",
       "    .dataframe tbody tr th:only-of-type {\n",
       "        vertical-align: middle;\n",
       "    }\n",
       "\n",
       "    .dataframe tbody tr th {\n",
       "        vertical-align: top;\n",
       "    }\n",
       "\n",
       "    .dataframe thead th {\n",
       "        text-align: right;\n",
       "    }\n",
       "</style>\n",
       "<table border=\"1\" class=\"dataframe\">\n",
       "  <thead>\n",
       "    <tr style=\"text-align: right;\">\n",
       "      <th></th>\n",
       "      <th>calls</th>\n",
       "      <th>minutes</th>\n",
       "      <th>messages</th>\n",
       "      <th>mb_used</th>\n",
       "      <th>is_ultra</th>\n",
       "    </tr>\n",
       "  </thead>\n",
       "  <tbody>\n",
       "    <tr>\n",
       "      <td>0</td>\n",
       "      <td>40.0</td>\n",
       "      <td>311.90</td>\n",
       "      <td>83.0</td>\n",
       "      <td>19915.42</td>\n",
       "      <td>0</td>\n",
       "    </tr>\n",
       "    <tr>\n",
       "      <td>1</td>\n",
       "      <td>85.0</td>\n",
       "      <td>516.75</td>\n",
       "      <td>56.0</td>\n",
       "      <td>22696.96</td>\n",
       "      <td>0</td>\n",
       "    </tr>\n",
       "    <tr>\n",
       "      <td>2</td>\n",
       "      <td>77.0</td>\n",
       "      <td>467.66</td>\n",
       "      <td>86.0</td>\n",
       "      <td>21060.45</td>\n",
       "      <td>0</td>\n",
       "    </tr>\n",
       "    <tr>\n",
       "      <td>3</td>\n",
       "      <td>106.0</td>\n",
       "      <td>745.53</td>\n",
       "      <td>81.0</td>\n",
       "      <td>8437.39</td>\n",
       "      <td>1</td>\n",
       "    </tr>\n",
       "    <tr>\n",
       "      <td>4</td>\n",
       "      <td>66.0</td>\n",
       "      <td>418.74</td>\n",
       "      <td>1.0</td>\n",
       "      <td>14502.75</td>\n",
       "      <td>0</td>\n",
       "    </tr>\n",
       "    <tr>\n",
       "      <td>5</td>\n",
       "      <td>58.0</td>\n",
       "      <td>344.56</td>\n",
       "      <td>21.0</td>\n",
       "      <td>15823.37</td>\n",
       "      <td>0</td>\n",
       "    </tr>\n",
       "    <tr>\n",
       "      <td>6</td>\n",
       "      <td>57.0</td>\n",
       "      <td>431.64</td>\n",
       "      <td>20.0</td>\n",
       "      <td>3738.90</td>\n",
       "      <td>1</td>\n",
       "    </tr>\n",
       "    <tr>\n",
       "      <td>7</td>\n",
       "      <td>15.0</td>\n",
       "      <td>132.40</td>\n",
       "      <td>6.0</td>\n",
       "      <td>21911.60</td>\n",
       "      <td>0</td>\n",
       "    </tr>\n",
       "    <tr>\n",
       "      <td>8</td>\n",
       "      <td>7.0</td>\n",
       "      <td>43.39</td>\n",
       "      <td>3.0</td>\n",
       "      <td>2538.67</td>\n",
       "      <td>1</td>\n",
       "    </tr>\n",
       "    <tr>\n",
       "      <td>9</td>\n",
       "      <td>90.0</td>\n",
       "      <td>665.41</td>\n",
       "      <td>38.0</td>\n",
       "      <td>17358.61</td>\n",
       "      <td>0</td>\n",
       "    </tr>\n",
       "  </tbody>\n",
       "</table>\n",
       "</div>"
      ],
      "text/plain": [
       "   calls  minutes  messages   mb_used  is_ultra\n",
       "0   40.0   311.90      83.0  19915.42         0\n",
       "1   85.0   516.75      56.0  22696.96         0\n",
       "2   77.0   467.66      86.0  21060.45         0\n",
       "3  106.0   745.53      81.0   8437.39         1\n",
       "4   66.0   418.74       1.0  14502.75         0\n",
       "5   58.0   344.56      21.0  15823.37         0\n",
       "6   57.0   431.64      20.0   3738.90         1\n",
       "7   15.0   132.40       6.0  21911.60         0\n",
       "8    7.0    43.39       3.0   2538.67         1\n",
       "9   90.0   665.41      38.0  17358.61         0"
      ]
     },
     "metadata": {},
     "output_type": "display_data"
    },
    {
     "name": "stdout",
     "output_type": "stream",
     "text": [
      "\n",
      "0    2229\n",
      "1     985\n",
      "Name: is_ultra, dtype: int64\n"
     ]
    },
    {
     "data": {
      "text/plain": [
       "<matplotlib.axes._subplots.AxesSubplot at 0x7f8a29061dd0>"
      ]
     },
     "execution_count": 1,
     "metadata": {},
     "output_type": "execute_result"
    },
    {
     "data": {
      "image/png": "[encoded data removed]",
      "text/plain": [
       "<Figure size 1080x432 with 1 Axes>"
      ]
     },
     "metadata": {
      "needs_background": "light"
     },
     "output_type": "display_data"
    }
   ],
   "source": [
    "import pandas as pd #Импрортирую библиотеку Pandas\n",
    "%matplotlib inline\n",
    "import matplotlib.pyplot as plt #Импортирую библиотеку matplotlib\n",
    "import seaborn as sns #Импортирую библиотеку seaborn\n",
    "#Открываю датасет\n",
    "df = pd.read_csv('/datasets/users_behavior.csv')\n",
    "df.info()\n",
    "print()\n",
    "display(df.head(10))\n",
    "print()\n",
    "#Определяю количество пользователей обейх тарифов\n",
    "print(df['is_ultra'].value_counts())\n",
    "\n",
    "#Для наглядности строю график\n",
    "plt.figure(figsize=(15, 6))\n",
    "sns.countplot(x='is_ultra', data=df)"
   ]
  },
  {
   "cell_type": "markdown",
   "metadata": {},
   "source": [
    "Дополнительно для предварительного анализа построим графики по количеству звонков, расходу минут, SMS и бегабайтов для обеих тарифов. Поскольку количество абонентов на тарифах \"Смарт\" и \"Ультра\" различаются более чем в 2 раза, воспользуемся средними показателями."
   ]
  },
  {
   "cell_type": "code",
   "execution_count": 2,
   "metadata": {},
   "outputs": [
    {
     "data": {
      "image/png": "[encoded data removed]",
      "text/plain": [
       "<Figure size 360x360 with 1 Axes>"
      ]
     },
     "metadata": {
      "needs_background": "light"
     },
     "output_type": "display_data"
    },
    {
     "data": {
      "image/png": "[encoded data removed]",
      "text/plain": [
       "<Figure size 360x360 with 1 Axes>"
      ]
     },
     "metadata": {
      "needs_background": "light"
     },
     "output_type": "display_data"
    },
    {
     "data": {
      "image/png": "[encoded data removed]",
      "text/plain": [
       "<Figure size 360x360 with 1 Axes>"
      ]
     },
     "metadata": {
      "needs_background": "light"
     },
     "output_type": "display_data"
    },
    {
     "data": {
      "image/png": "[encoded data removed]",
      "text/plain": [
       "<Figure size 360x360 with 1 Axes>"
      ]
     },
     "metadata": {
      "needs_background": "light"
     },
     "output_type": "display_data"
    }
   ],
   "source": [
    "columns = [x for x in df.columns] #Создаю список из названия столбцов\n",
    "columns.pop(-1) #Удаляю последний элемент\n",
    "\n",
    "for column in columns: #Циклом строю графики\n",
    "    plt.figure(figsize=(5, 5))\n",
    "    sns.barplot(x='is_ultra', y=column, data=df)"
   ]
  },
  {
   "cell_type": "markdown",
   "metadata": {},
   "source": [
    "### Вывод к Шагу 1"
   ]
  },
  {
   "cell_type": "markdown",
   "metadata": {},
   "source": [
    "Для построения модели рекомендации тарифов предоставлен датасет, состоящий из 5 столбцов с данными и 3214 строк. Пропуски данных отсутствуют, датасет полностью подготовлен для построения модели.\n",
    "\n",
    "<br>Каждый объект в наборе данных — это информация о поведении одного пользователя за месяц. Известно:\n",
    "<br>•\tcalls — количество звонков\n",
    "<br>•\tminutes — суммарная длительность звонков в минутах\n",
    "<br>•\tmessages — количество sms-сообщений\n",
    "<br>•\tmb_used — израсходованный интернет-трафик (в мегабайтах)\n",
    "<br>•\tis_ultra — каким тарифом пользовался в течение месяца («Ультра» — 1, «Смарт» — 0).\n",
    "\n",
    "Из построенных графиков мы можем увидеть, что пользователей тарифа \"Смарт\" больше, чем пользователей тарифа \"Ультра\". Средние показатели по звонкам, расходу минут, SMS и мегабайтов у пользователей тарифа \"Ультра\" выше. Эти показатели наглядно характеризуют среднестатистического абонента по тарифам."
   ]
  },
  {
   "cell_type": "markdown",
   "metadata": {},
   "source": [
    "## 2. Разбейте данные на выборки"
   ]
  },
  {
   "cell_type": "markdown",
   "metadata": {},
   "source": [
    "Прежде чем исследовать качество разных моделей, их необходимо разделить на выборки - обучающую, валидационную и тестовую. Размеры тестового и валидационного наборов обычно равны. Исходные данные разбиваем в соотношении 3:1:1."
   ]
  },
  {
   "cell_type": "code",
   "execution_count": 3,
   "metadata": {},
   "outputs": [
    {
     "name": "stdout",
     "output_type": "stream",
     "text": [
      "Обучающая выборка: (1928, 5)\n"
     ]
    },
    {
     "data": {
      "text/html": [
       "<div>\n",
       "<style scoped>\n",
       "    .dataframe tbody tr th:only-of-type {\n",
       "        vertical-align: middle;\n",
       "    }\n",
       "\n",
       "    .dataframe tbody tr th {\n",
       "        vertical-align: top;\n",
       "    }\n",
       "\n",
       "    .dataframe thead th {\n",
       "        text-align: right;\n",
       "    }\n",
       "</style>\n",
       "<table border=\"1\" class=\"dataframe\">\n",
       "  <thead>\n",
       "    <tr style=\"text-align: right;\">\n",
       "      <th></th>\n",
       "      <th>calls</th>\n",
       "      <th>minutes</th>\n",
       "      <th>messages</th>\n",
       "      <th>mb_used</th>\n",
       "      <th>is_ultra</th>\n",
       "    </tr>\n",
       "  </thead>\n",
       "  <tbody>\n",
       "    <tr>\n",
       "      <td>3027</td>\n",
       "      <td>60.0</td>\n",
       "      <td>431.56</td>\n",
       "      <td>26.0</td>\n",
       "      <td>14751.26</td>\n",
       "      <td>0</td>\n",
       "    </tr>\n",
       "    <tr>\n",
       "      <td>434</td>\n",
       "      <td>33.0</td>\n",
       "      <td>265.17</td>\n",
       "      <td>59.0</td>\n",
       "      <td>17398.02</td>\n",
       "      <td>0</td>\n",
       "    </tr>\n",
       "    <tr>\n",
       "      <td>1226</td>\n",
       "      <td>52.0</td>\n",
       "      <td>341.83</td>\n",
       "      <td>68.0</td>\n",
       "      <td>15462.38</td>\n",
       "      <td>0</td>\n",
       "    </tr>\n",
       "    <tr>\n",
       "      <td>1054</td>\n",
       "      <td>42.0</td>\n",
       "      <td>226.18</td>\n",
       "      <td>21.0</td>\n",
       "      <td>13243.48</td>\n",
       "      <td>0</td>\n",
       "    </tr>\n",
       "    <tr>\n",
       "      <td>1842</td>\n",
       "      <td>30.0</td>\n",
       "      <td>198.42</td>\n",
       "      <td>0.0</td>\n",
       "      <td>8189.53</td>\n",
       "      <td>0</td>\n",
       "    </tr>\n",
       "    <tr>\n",
       "      <td>2142</td>\n",
       "      <td>68.0</td>\n",
       "      <td>403.58</td>\n",
       "      <td>28.0</td>\n",
       "      <td>19210.63</td>\n",
       "      <td>0</td>\n",
       "    </tr>\n",
       "    <tr>\n",
       "      <td>214</td>\n",
       "      <td>48.0</td>\n",
       "      <td>346.19</td>\n",
       "      <td>103.0</td>\n",
       "      <td>27346.62</td>\n",
       "      <td>1</td>\n",
       "    </tr>\n",
       "    <tr>\n",
       "      <td>1040</td>\n",
       "      <td>0.0</td>\n",
       "      <td>0.00</td>\n",
       "      <td>29.0</td>\n",
       "      <td>21289.28</td>\n",
       "      <td>1</td>\n",
       "    </tr>\n",
       "    <tr>\n",
       "      <td>2925</td>\n",
       "      <td>87.0</td>\n",
       "      <td>500.78</td>\n",
       "      <td>63.0</td>\n",
       "      <td>26115.19</td>\n",
       "      <td>0</td>\n",
       "    </tr>\n",
       "    <tr>\n",
       "      <td>943</td>\n",
       "      <td>31.0</td>\n",
       "      <td>269.94</td>\n",
       "      <td>48.0</td>\n",
       "      <td>13340.59</td>\n",
       "      <td>0</td>\n",
       "    </tr>\n",
       "  </tbody>\n",
       "</table>\n",
       "</div>"
      ],
      "text/plain": [
       "      calls  minutes  messages   mb_used  is_ultra\n",
       "3027   60.0   431.56      26.0  14751.26         0\n",
       "434    33.0   265.17      59.0  17398.02         0\n",
       "1226   52.0   341.83      68.0  15462.38         0\n",
       "1054   42.0   226.18      21.0  13243.48         0\n",
       "1842   30.0   198.42       0.0   8189.53         0\n",
       "2142   68.0   403.58      28.0  19210.63         0\n",
       "214    48.0   346.19     103.0  27346.62         1\n",
       "1040    0.0     0.00      29.0  21289.28         1\n",
       "2925   87.0   500.78      63.0  26115.19         0\n",
       "943    31.0   269.94      48.0  13340.59         0"
      ]
     },
     "metadata": {},
     "output_type": "display_data"
    },
    {
     "name": "stdout",
     "output_type": "stream",
     "text": [
      "\n",
      "Тестовая выборка: (643, 5)\n"
     ]
    },
    {
     "data": {
      "text/html": [
       "<div>\n",
       "<style scoped>\n",
       "    .dataframe tbody tr th:only-of-type {\n",
       "        vertical-align: middle;\n",
       "    }\n",
       "\n",
       "    .dataframe tbody tr th {\n",
       "        vertical-align: top;\n",
       "    }\n",
       "\n",
       "    .dataframe thead th {\n",
       "        text-align: right;\n",
       "    }\n",
       "</style>\n",
       "<table border=\"1\" class=\"dataframe\">\n",
       "  <thead>\n",
       "    <tr style=\"text-align: right;\">\n",
       "      <th></th>\n",
       "      <th>calls</th>\n",
       "      <th>minutes</th>\n",
       "      <th>messages</th>\n",
       "      <th>mb_used</th>\n",
       "      <th>is_ultra</th>\n",
       "    </tr>\n",
       "  </thead>\n",
       "  <tbody>\n",
       "    <tr>\n",
       "      <td>1386</td>\n",
       "      <td>92.0</td>\n",
       "      <td>536.96</td>\n",
       "      <td>18.0</td>\n",
       "      <td>20193.90</td>\n",
       "      <td>0</td>\n",
       "    </tr>\n",
       "    <tr>\n",
       "      <td>3124</td>\n",
       "      <td>40.0</td>\n",
       "      <td>286.57</td>\n",
       "      <td>17.0</td>\n",
       "      <td>17918.75</td>\n",
       "      <td>0</td>\n",
       "    </tr>\n",
       "    <tr>\n",
       "      <td>1956</td>\n",
       "      <td>81.0</td>\n",
       "      <td>531.22</td>\n",
       "      <td>56.0</td>\n",
       "      <td>17755.06</td>\n",
       "      <td>0</td>\n",
       "    </tr>\n",
       "    <tr>\n",
       "      <td>2286</td>\n",
       "      <td>67.0</td>\n",
       "      <td>460.76</td>\n",
       "      <td>27.0</td>\n",
       "      <td>16626.26</td>\n",
       "      <td>0</td>\n",
       "    </tr>\n",
       "    <tr>\n",
       "      <td>3077</td>\n",
       "      <td>22.0</td>\n",
       "      <td>120.09</td>\n",
       "      <td>16.0</td>\n",
       "      <td>9039.57</td>\n",
       "      <td>0</td>\n",
       "    </tr>\n",
       "    <tr>\n",
       "      <td>865</td>\n",
       "      <td>122.0</td>\n",
       "      <td>837.76</td>\n",
       "      <td>1.0</td>\n",
       "      <td>20197.07</td>\n",
       "      <td>1</td>\n",
       "    </tr>\n",
       "    <tr>\n",
       "      <td>604</td>\n",
       "      <td>10.0</td>\n",
       "      <td>96.29</td>\n",
       "      <td>20.0</td>\n",
       "      <td>3184.72</td>\n",
       "      <td>1</td>\n",
       "    </tr>\n",
       "    <tr>\n",
       "      <td>2215</td>\n",
       "      <td>62.0</td>\n",
       "      <td>436.68</td>\n",
       "      <td>52.0</td>\n",
       "      <td>12311.24</td>\n",
       "      <td>0</td>\n",
       "    </tr>\n",
       "    <tr>\n",
       "      <td>2745</td>\n",
       "      <td>50.0</td>\n",
       "      <td>350.72</td>\n",
       "      <td>29.0</td>\n",
       "      <td>29301.67</td>\n",
       "      <td>1</td>\n",
       "    </tr>\n",
       "    <tr>\n",
       "      <td>1094</td>\n",
       "      <td>0.0</td>\n",
       "      <td>0.00</td>\n",
       "      <td>35.0</td>\n",
       "      <td>17322.59</td>\n",
       "      <td>0</td>\n",
       "    </tr>\n",
       "  </tbody>\n",
       "</table>\n",
       "</div>"
      ],
      "text/plain": [
       "      calls  minutes  messages   mb_used  is_ultra\n",
       "1386   92.0   536.96      18.0  20193.90         0\n",
       "3124   40.0   286.57      17.0  17918.75         0\n",
       "1956   81.0   531.22      56.0  17755.06         0\n",
       "2286   67.0   460.76      27.0  16626.26         0\n",
       "3077   22.0   120.09      16.0   9039.57         0\n",
       "865   122.0   837.76       1.0  20197.07         1\n",
       "604    10.0    96.29      20.0   3184.72         1\n",
       "2215   62.0   436.68      52.0  12311.24         0\n",
       "2745   50.0   350.72      29.0  29301.67         1\n",
       "1094    0.0     0.00      35.0  17322.59         0"
      ]
     },
     "metadata": {},
     "output_type": "display_data"
    },
    {
     "name": "stdout",
     "output_type": "stream",
     "text": [
      "\n",
      "Валидационная выборка: (643, 5)\n"
     ]
    },
    {
     "data": {
      "text/html": [
       "<div>\n",
       "<style scoped>\n",
       "    .dataframe tbody tr th:only-of-type {\n",
       "        vertical-align: middle;\n",
       "    }\n",
       "\n",
       "    .dataframe tbody tr th {\n",
       "        vertical-align: top;\n",
       "    }\n",
       "\n",
       "    .dataframe thead th {\n",
       "        text-align: right;\n",
       "    }\n",
       "</style>\n",
       "<table border=\"1\" class=\"dataframe\">\n",
       "  <thead>\n",
       "    <tr style=\"text-align: right;\">\n",
       "      <th></th>\n",
       "      <th>calls</th>\n",
       "      <th>minutes</th>\n",
       "      <th>messages</th>\n",
       "      <th>mb_used</th>\n",
       "      <th>is_ultra</th>\n",
       "    </tr>\n",
       "  </thead>\n",
       "  <tbody>\n",
       "    <tr>\n",
       "      <td>160</td>\n",
       "      <td>61.0</td>\n",
       "      <td>495.11</td>\n",
       "      <td>8.0</td>\n",
       "      <td>10891.23</td>\n",
       "      <td>0</td>\n",
       "    </tr>\n",
       "    <tr>\n",
       "      <td>2498</td>\n",
       "      <td>80.0</td>\n",
       "      <td>555.04</td>\n",
       "      <td>28.0</td>\n",
       "      <td>28083.58</td>\n",
       "      <td>0</td>\n",
       "    </tr>\n",
       "    <tr>\n",
       "      <td>1748</td>\n",
       "      <td>87.0</td>\n",
       "      <td>697.23</td>\n",
       "      <td>0.0</td>\n",
       "      <td>8335.70</td>\n",
       "      <td>0</td>\n",
       "    </tr>\n",
       "    <tr>\n",
       "      <td>1816</td>\n",
       "      <td>41.0</td>\n",
       "      <td>275.80</td>\n",
       "      <td>9.0</td>\n",
       "      <td>10032.39</td>\n",
       "      <td>0</td>\n",
       "    </tr>\n",
       "    <tr>\n",
       "      <td>1077</td>\n",
       "      <td>60.0</td>\n",
       "      <td>428.49</td>\n",
       "      <td>20.0</td>\n",
       "      <td>29389.52</td>\n",
       "      <td>1</td>\n",
       "    </tr>\n",
       "    <tr>\n",
       "      <td>791</td>\n",
       "      <td>11.0</td>\n",
       "      <td>58.54</td>\n",
       "      <td>5.0</td>\n",
       "      <td>7085.97</td>\n",
       "      <td>1</td>\n",
       "    </tr>\n",
       "    <tr>\n",
       "      <td>1024</td>\n",
       "      <td>100.0</td>\n",
       "      <td>709.40</td>\n",
       "      <td>17.0</td>\n",
       "      <td>16964.33</td>\n",
       "      <td>0</td>\n",
       "    </tr>\n",
       "    <tr>\n",
       "      <td>404</td>\n",
       "      <td>30.0</td>\n",
       "      <td>169.02</td>\n",
       "      <td>13.0</td>\n",
       "      <td>16626.53</td>\n",
       "      <td>0</td>\n",
       "    </tr>\n",
       "    <tr>\n",
       "      <td>1723</td>\n",
       "      <td>63.0</td>\n",
       "      <td>377.43</td>\n",
       "      <td>0.0</td>\n",
       "      <td>16663.48</td>\n",
       "      <td>0</td>\n",
       "    </tr>\n",
       "    <tr>\n",
       "      <td>153</td>\n",
       "      <td>72.0</td>\n",
       "      <td>457.21</td>\n",
       "      <td>0.0</td>\n",
       "      <td>13976.58</td>\n",
       "      <td>0</td>\n",
       "    </tr>\n",
       "  </tbody>\n",
       "</table>\n",
       "</div>"
      ],
      "text/plain": [
       "      calls  minutes  messages   mb_used  is_ultra\n",
       "160    61.0   495.11       8.0  10891.23         0\n",
       "2498   80.0   555.04      28.0  28083.58         0\n",
       "1748   87.0   697.23       0.0   8335.70         0\n",
       "1816   41.0   275.80       9.0  10032.39         0\n",
       "1077   60.0   428.49      20.0  29389.52         1\n",
       "791    11.0    58.54       5.0   7085.97         1\n",
       "1024  100.0   709.40      17.0  16964.33         0\n",
       "404    30.0   169.02      13.0  16626.53         0\n",
       "1723   63.0   377.43       0.0  16663.48         0\n",
       "153    72.0   457.21       0.0  13976.58         0"
      ]
     },
     "metadata": {},
     "output_type": "display_data"
    }
   ],
   "source": [
    "from sklearn.model_selection import train_test_split #Импортирую функцию train_test_split из библиотеки sklearn\n",
    "\n",
    "df_train, df_test_valid = train_test_split(df, test_size=0.4, random_state=12345)\n",
    "df_test, df_valid = train_test_split(df_test_valid, test_size=0.5, random_state=12345)\n",
    "\n",
    "print('Обучающая выборка:',df_train.shape)\n",
    "display(df_train.head(10))\n",
    "print()\n",
    "print('Тестовая выборка:',df_test.shape)\n",
    "display(df_test.head(10))\n",
    "print()\n",
    "print('Валидационная выборка:',df_valid.shape)\n",
    "display(df_valid.head(10))"
   ]
  },
  {
   "cell_type": "markdown",
   "metadata": {},
   "source": [
    "### Вывод к Шагу 2"
   ]
  },
  {
   "cell_type": "markdown",
   "metadata": {},
   "source": [
    "Для обучения и исследования моделей исходный датасет разделен на 3 выборки **обучающую, валидационную и тестовую** в соотношении 3:1:1. Обучающая выборка содержит **1928 строки**, валидационная и тестовая по **643 строки**. "
   ]
  },
  {
   "cell_type": "markdown",
   "metadata": {},
   "source": [
    "## 3. Исследование моделей"
   ]
  },
  {
   "cell_type": "markdown",
   "metadata": {},
   "source": [
    "Для построения и исследования моделей для задачи классификации будут использованы - **Решающее дерево, Случайный лес и Логистическая регрессия**.\n",
    "<br>Для решения этой задачи необходимо определить *признаки (features)* по которым будут обучаться модели и *целевой признак (target)*, который нужно предсказать. Эти подготовительные шаги нужно выполнить для обучающей и валидационной выборок."
   ]
  },
  {
   "cell_type": "code",
   "execution_count": 4,
   "metadata": {},
   "outputs": [
    {
     "name": "stdout",
     "output_type": "stream",
     "text": [
      "Тестовые признаки\n",
      "<class 'pandas.core.frame.DataFrame'>\n",
      "Int64Index: 1928 entries, 3027 to 482\n",
      "Data columns (total 4 columns):\n",
      "calls       1928 non-null float64\n",
      "minutes     1928 non-null float64\n",
      "messages    1928 non-null float64\n",
      "mb_used     1928 non-null float64\n",
      "dtypes: float64(4)\n",
      "memory usage: 75.3 KB\n"
     ]
    },
    {
     "data": {
      "text/plain": [
       "3027    0\n",
       "434     0\n",
       "1226    0\n",
       "1054    0\n",
       "1842    0\n",
       "2142    0\n",
       "214     1\n",
       "1040    1\n",
       "2925    0\n",
       "943     0\n",
       "Name: is_ultra, dtype: int64"
      ]
     },
     "metadata": {},
     "output_type": "display_data"
    },
    {
     "name": "stdout",
     "output_type": "stream",
     "text": [
      "Валидационные признаки\n",
      "<class 'pandas.core.frame.DataFrame'>\n",
      "Int64Index: 643 entries, 160 to 2313\n",
      "Data columns (total 4 columns):\n",
      "calls       643 non-null float64\n",
      "minutes     643 non-null float64\n",
      "messages    643 non-null float64\n",
      "mb_used     643 non-null float64\n",
      "dtypes: float64(4)\n",
      "memory usage: 25.1 KB\n"
     ]
    },
    {
     "data": {
      "text/plain": [
       "160     0\n",
       "2498    0\n",
       "1748    0\n",
       "1816    0\n",
       "1077    1\n",
       "791     1\n",
       "1024    0\n",
       "404     0\n",
       "1723    0\n",
       "153     0\n",
       "Name: is_ultra, dtype: int64"
      ]
     },
     "metadata": {},
     "output_type": "display_data"
    }
   ],
   "source": [
    "#Определяю признаки и целевой признак\n",
    "train_features = df_train.drop(['is_ultra'], axis=1)\n",
    "train_target = df_train['is_ultra']\n",
    "\n",
    "valid_features = df_valid.drop(['is_ultra'], axis=1)\n",
    "valid_target = df_valid['is_ultra']\n",
    "\n",
    "#Проверяю готовность признаков\n",
    "print('Тестовые признаки')\n",
    "train_features.info()\n",
    "display(train_target.head(10))\n",
    "print('Валидационные признаки')\n",
    "valid_features.info()\n",
    "display(valid_target.head(10))"
   ]
  },
  {
   "cell_type": "markdown",
   "metadata": {},
   "source": [
    "#### Модель на основе Решающего дерева"
   ]
  },
  {
   "cell_type": "code",
   "execution_count": 5,
   "metadata": {},
   "outputs": [
    {
     "name": "stdout",
     "output_type": "stream",
     "text": [
      "Для Дерева решений max_depth = 2 min_samples_split = 2 min_samples_leaf = 1 accuracy = 0.7744945567651633\n",
      "Для Дерева решений max_depth = 2 min_samples_split = 2 min_samples_leaf = 2 accuracy = 0.7744945567651633\n",
      "Для Дерева решений max_depth = 2 min_samples_split = 2 min_samples_leaf = 3 accuracy = 0.7744945567651633\n",
      "Для Дерева решений max_depth = 2 min_samples_split = 2 min_samples_leaf = 4 accuracy = 0.7744945567651633\n",
      "Для Дерева решений max_depth = 2 min_samples_split = 3 min_samples_leaf = 1 accuracy = 0.7744945567651633\n",
      "Для Дерева решений max_depth = 2 min_samples_split = 3 min_samples_leaf = 2 accuracy = 0.7744945567651633\n",
      "Для Дерева решений max_depth = 2 min_samples_split = 3 min_samples_leaf = 3 accuracy = 0.7744945567651633\n",
      "Для Дерева решений max_depth = 2 min_samples_split = 3 min_samples_leaf = 4 accuracy = 0.7744945567651633\n",
      "Для Дерева решений max_depth = 2 min_samples_split = 4 min_samples_leaf = 1 accuracy = 0.7744945567651633\n",
      "Для Дерева решений max_depth = 2 min_samples_split = 4 min_samples_leaf = 2 accuracy = 0.7744945567651633\n",
      "Для Дерева решений max_depth = 2 min_samples_split = 4 min_samples_leaf = 3 accuracy = 0.7744945567651633\n",
      "Для Дерева решений max_depth = 2 min_samples_split = 4 min_samples_leaf = 4 accuracy = 0.7744945567651633\n",
      "Для Дерева решений max_depth = 2 min_samples_split = 5 min_samples_leaf = 1 accuracy = 0.7744945567651633\n",
      "Для Дерева решений max_depth = 2 min_samples_split = 5 min_samples_leaf = 2 accuracy = 0.7744945567651633\n",
      "Для Дерева решений max_depth = 2 min_samples_split = 5 min_samples_leaf = 3 accuracy = 0.7744945567651633\n",
      "Для Дерева решений max_depth = 2 min_samples_split = 5 min_samples_leaf = 4 accuracy = 0.7744945567651633\n",
      "Для Дерева решений max_depth = 4 min_samples_split = 2 min_samples_leaf = 1 accuracy = 0.7744945567651633\n",
      "Для Дерева решений max_depth = 4 min_samples_split = 2 min_samples_leaf = 2 accuracy = 0.7729393468118196\n",
      "Для Дерева решений max_depth = 4 min_samples_split = 2 min_samples_leaf = 3 accuracy = 0.776049766718507\n",
      "Для Дерева решений max_depth = 4 min_samples_split = 2 min_samples_leaf = 4 accuracy = 0.776049766718507\n",
      "Для Дерева решений max_depth = 4 min_samples_split = 3 min_samples_leaf = 1 accuracy = 0.7744945567651633\n",
      "Для Дерева решений max_depth = 4 min_samples_split = 3 min_samples_leaf = 2 accuracy = 0.7729393468118196\n",
      "Для Дерева решений max_depth = 4 min_samples_split = 3 min_samples_leaf = 3 accuracy = 0.776049766718507\n",
      "Для Дерева решений max_depth = 4 min_samples_split = 3 min_samples_leaf = 4 accuracy = 0.776049766718507\n",
      "Для Дерева решений max_depth = 4 min_samples_split = 4 min_samples_leaf = 1 accuracy = 0.7744945567651633\n",
      "Для Дерева решений max_depth = 4 min_samples_split = 4 min_samples_leaf = 2 accuracy = 0.7729393468118196\n",
      "Для Дерева решений max_depth = 4 min_samples_split = 4 min_samples_leaf = 3 accuracy = 0.776049766718507\n",
      "Для Дерева решений max_depth = 4 min_samples_split = 4 min_samples_leaf = 4 accuracy = 0.776049766718507\n",
      "Для Дерева решений max_depth = 4 min_samples_split = 5 min_samples_leaf = 1 accuracy = 0.7744945567651633\n",
      "Для Дерева решений max_depth = 4 min_samples_split = 5 min_samples_leaf = 2 accuracy = 0.7729393468118196\n",
      "Для Дерева решений max_depth = 4 min_samples_split = 5 min_samples_leaf = 3 accuracy = 0.776049766718507\n",
      "Для Дерева решений max_depth = 4 min_samples_split = 5 min_samples_leaf = 4 accuracy = 0.776049766718507\n",
      "Для Дерева решений max_depth = 6 min_samples_split = 2 min_samples_leaf = 1 accuracy = 0.776049766718507\n",
      "Для Дерева решений max_depth = 6 min_samples_split = 2 min_samples_leaf = 2 accuracy = 0.7729393468118196\n",
      "Для Дерева решений max_depth = 6 min_samples_split = 2 min_samples_leaf = 3 accuracy = 0.7791601866251944\n",
      "Для Дерева решений max_depth = 6 min_samples_split = 2 min_samples_leaf = 4 accuracy = 0.7791601866251944\n",
      "Для Дерева решений max_depth = 6 min_samples_split = 3 min_samples_leaf = 1 accuracy = 0.776049766718507\n",
      "Для Дерева решений max_depth = 6 min_samples_split = 3 min_samples_leaf = 2 accuracy = 0.7729393468118196\n",
      "Для Дерева решений max_depth = 6 min_samples_split = 3 min_samples_leaf = 3 accuracy = 0.7791601866251944\n",
      "Для Дерева решений max_depth = 6 min_samples_split = 3 min_samples_leaf = 4 accuracy = 0.7791601866251944\n",
      "Для Дерева решений max_depth = 6 min_samples_split = 4 min_samples_leaf = 1 accuracy = 0.776049766718507\n",
      "Для Дерева решений max_depth = 6 min_samples_split = 4 min_samples_leaf = 2 accuracy = 0.7729393468118196\n",
      "Для Дерева решений max_depth = 6 min_samples_split = 4 min_samples_leaf = 3 accuracy = 0.7791601866251944\n",
      "Для Дерева решений max_depth = 6 min_samples_split = 4 min_samples_leaf = 4 accuracy = 0.7791601866251944\n",
      "Для Дерева решений max_depth = 6 min_samples_split = 5 min_samples_leaf = 1 accuracy = 0.776049766718507\n",
      "Для Дерева решений max_depth = 6 min_samples_split = 5 min_samples_leaf = 2 accuracy = 0.7729393468118196\n",
      "Для Дерева решений max_depth = 6 min_samples_split = 5 min_samples_leaf = 3 accuracy = 0.7791601866251944\n",
      "Для Дерева решений max_depth = 6 min_samples_split = 5 min_samples_leaf = 4 accuracy = 0.7791601866251944\n",
      "Для Дерева решений max_depth = 8 min_samples_split = 2 min_samples_leaf = 1 accuracy = 0.7931570762052877\n",
      "Для Дерева решений max_depth = 8 min_samples_split = 2 min_samples_leaf = 2 accuracy = 0.7916018662519441\n",
      "Для Дерева решений max_depth = 8 min_samples_split = 2 min_samples_leaf = 3 accuracy = 0.8009331259720062\n",
      "Для Дерева решений max_depth = 8 min_samples_split = 2 min_samples_leaf = 4 accuracy = 0.7993779160186625\n",
      "Для Дерева решений max_depth = 8 min_samples_split = 3 min_samples_leaf = 1 accuracy = 0.7900466562986003\n",
      "Для Дерева решений max_depth = 8 min_samples_split = 3 min_samples_leaf = 2 accuracy = 0.7916018662519441\n",
      "Для Дерева решений max_depth = 8 min_samples_split = 3 min_samples_leaf = 3 accuracy = 0.8009331259720062\n",
      "Для Дерева решений max_depth = 8 min_samples_split = 3 min_samples_leaf = 4 accuracy = 0.7993779160186625\n",
      "Для Дерева решений max_depth = 8 min_samples_split = 4 min_samples_leaf = 1 accuracy = 0.7900466562986003\n",
      "Для Дерева решений max_depth = 8 min_samples_split = 4 min_samples_leaf = 2 accuracy = 0.7916018662519441\n",
      "Для Дерева решений max_depth = 8 min_samples_split = 4 min_samples_leaf = 3 accuracy = 0.8009331259720062\n",
      "Для Дерева решений max_depth = 8 min_samples_split = 4 min_samples_leaf = 4 accuracy = 0.7993779160186625\n",
      "Для Дерева решений max_depth = 8 min_samples_split = 5 min_samples_leaf = 1 accuracy = 0.7900466562986003\n",
      "Для Дерева решений max_depth = 8 min_samples_split = 5 min_samples_leaf = 2 accuracy = 0.7931570762052877\n",
      "Для Дерева решений max_depth = 8 min_samples_split = 5 min_samples_leaf = 3 accuracy = 0.8009331259720062\n",
      "Для Дерева решений max_depth = 8 min_samples_split = 5 min_samples_leaf = 4 accuracy = 0.7993779160186625\n",
      "Для Дерева решений max_depth = 10 min_samples_split = 2 min_samples_leaf = 1 accuracy = 0.7884914463452566\n",
      "Для Дерева решений max_depth = 10 min_samples_split = 2 min_samples_leaf = 2 accuracy = 0.7838258164852255\n",
      "Для Дерева решений max_depth = 10 min_samples_split = 2 min_samples_leaf = 3 accuracy = 0.7822706065318819\n",
      "Для Дерева решений max_depth = 10 min_samples_split = 2 min_samples_leaf = 4 accuracy = 0.7791601866251944\n",
      "Для Дерева решений max_depth = 10 min_samples_split = 3 min_samples_leaf = 1 accuracy = 0.7838258164852255\n",
      "Для Дерева решений max_depth = 10 min_samples_split = 3 min_samples_leaf = 2 accuracy = 0.7838258164852255\n",
      "Для Дерева решений max_depth = 10 min_samples_split = 3 min_samples_leaf = 3 accuracy = 0.7822706065318819\n",
      "Для Дерева решений max_depth = 10 min_samples_split = 3 min_samples_leaf = 4 accuracy = 0.7791601866251944\n",
      "Для Дерева решений max_depth = 10 min_samples_split = 4 min_samples_leaf = 1 accuracy = 0.7822706065318819\n",
      "Для Дерева решений max_depth = 10 min_samples_split = 4 min_samples_leaf = 2 accuracy = 0.7838258164852255\n",
      "Для Дерева решений max_depth = 10 min_samples_split = 4 min_samples_leaf = 3 accuracy = 0.7822706065318819\n",
      "Для Дерева решений max_depth = 10 min_samples_split = 4 min_samples_leaf = 4 accuracy = 0.7791601866251944\n",
      "Для Дерева решений max_depth = 10 min_samples_split = 5 min_samples_leaf = 1 accuracy = 0.7776049766718507\n",
      "Для Дерева решений max_depth = 10 min_samples_split = 5 min_samples_leaf = 2 accuracy = 0.7791601866251944\n",
      "Для Дерева решений max_depth = 10 min_samples_split = 5 min_samples_leaf = 3 accuracy = 0.7822706065318819\n",
      "Для Дерева решений max_depth = 10 min_samples_split = 5 min_samples_leaf = 4 accuracy = 0.7791601866251944\n",
      "Для Дерева решений max_depth = 12 min_samples_split = 2 min_samples_leaf = 1 accuracy = 0.7807153965785381\n",
      "Для Дерева решений max_depth = 12 min_samples_split = 2 min_samples_leaf = 2 accuracy = 0.7713841368584758\n",
      "Для Дерева решений max_depth = 12 min_samples_split = 2 min_samples_leaf = 3 accuracy = 0.7776049766718507\n",
      "Для Дерева решений max_depth = 12 min_samples_split = 2 min_samples_leaf = 4 accuracy = 0.7776049766718507\n",
      "Для Дерева решений max_depth = 12 min_samples_split = 3 min_samples_leaf = 1 accuracy = 0.7713841368584758\n",
      "Для Дерева решений max_depth = 12 min_samples_split = 3 min_samples_leaf = 2 accuracy = 0.7713841368584758\n",
      "Для Дерева решений max_depth = 12 min_samples_split = 3 min_samples_leaf = 3 accuracy = 0.7776049766718507\n",
      "Для Дерева решений max_depth = 12 min_samples_split = 3 min_samples_leaf = 4 accuracy = 0.7776049766718507\n",
      "Для Дерева решений max_depth = 12 min_samples_split = 4 min_samples_leaf = 1 accuracy = 0.7682737169517885\n",
      "Для Дерева решений max_depth = 12 min_samples_split = 4 min_samples_leaf = 2 accuracy = 0.7713841368584758\n",
      "Для Дерева решений max_depth = 12 min_samples_split = 4 min_samples_leaf = 3 accuracy = 0.7776049766718507\n",
      "Для Дерева решений max_depth = 12 min_samples_split = 4 min_samples_leaf = 4 accuracy = 0.7776049766718507\n",
      "Для Дерева решений max_depth = 12 min_samples_split = 5 min_samples_leaf = 1 accuracy = 0.7667185069984448\n",
      "Для Дерева решений max_depth = 12 min_samples_split = 5 min_samples_leaf = 2 accuracy = 0.7791601866251944\n",
      "Для Дерева решений max_depth = 12 min_samples_split = 5 min_samples_leaf = 3 accuracy = 0.7776049766718507\n",
      "Для Дерева решений max_depth = 12 min_samples_split = 5 min_samples_leaf = 4 accuracy = 0.7776049766718507\n",
      "\n",
      "Максимальная точность модели Дерево решений равна: 0.8009331259720062\n",
      "Оптимальное значение max_depth равно: 8\n",
      "Оптимальное значение min_samples_split равно: 2\n",
      "Оптимальное значение min_samples_leaf равно: 3\n"
     ]
    }
   ],
   "source": [
    "from sklearn.metrics import accuracy_score #Импортирую метрику accuracy_score из библиотеки sklearn\n",
    "from sklearn.tree import DecisionTreeClassifier #Импортирую DecisionTreeClassifier из библиотеки sklearn\n",
    "tree_accuracy_list = [] #Создаю пустой список для сбора данных по точности модели\n",
    "tree_depth_list = [] #Создаю пустой список настроек гиперпараметра max_depth\n",
    "tree_split_list = [] #Создаю пустой список настроек гиперпараметра min_samples_split\n",
    "tree_leaf_list = [] #Создаю пустой список настроек гиперпараметра min_samples_leaf\n",
    "\n",
    "#Циклом обучаю модель решающего дерева при разных значениях max_depth, min_samples_split, min_samples_leaf\n",
    "#и проверяю показатель точности (accuracy)\n",
    "for depth in range(2, 14, 2):\n",
    "    for split in range(2, 6):\n",
    "        for leaf in range(1, 5):\n",
    "            tree_model = DecisionTreeClassifier(random_state=12345, \n",
    "                                                max_depth=depth, \n",
    "                                                min_samples_split=split, \n",
    "                                                min_samples_leaf=leaf)\n",
    "            tree_model.fit(train_features, train_target)\n",
    "            tree_predictions = tree_model.predict(valid_features)\n",
    "            tree_accuracy = accuracy_score(valid_target, tree_predictions)\n",
    "            tree_accuracy_list.append(tree_accuracy)\n",
    "            tree_depth_list.append(depth)\n",
    "            tree_split_list.append(split)\n",
    "            tree_leaf_list.append(leaf)\n",
    "            print('Для Дерева решений max_depth =', depth, \n",
    "                  'min_samples_split =',split,\n",
    "                  'min_samples_leaf =',leaf,\n",
    "                  'accuracy =', tree_accuracy)\n",
    "\n",
    "index = tree_accuracy_list.index(max(tree_accuracy_list))\n",
    "optimal_depth = tree_depth_list[index]\n",
    "optimal_split = tree_split_list[index]\n",
    "optimal_leaf = tree_leaf_list[index]\n",
    "print()\n",
    "print('Максимальная точность модели Дерево решений равна:', max(tree_accuracy_list))\n",
    "print('Оптимальное значение max_depth равно:', optimal_depth)\n",
    "print('Оптимальное значение min_samples_split равно:', optimal_split)\n",
    "print('Оптимальное значение min_samples_leaf равно:', optimal_leaf)"
   ]
  },
  {
   "cell_type": "markdown",
   "metadata": {},
   "source": [
    "#### Вывод по модели Решающего дерева\n",
    "Точность модели растет до глубины равной 8, минимального количества выборок для разделения узла равного 2 и минимального количества выборок для разделения листьев равного 3. Затем точность начинает постепено снижаться, что говорит о переобучении модели. Следовательно необходимо остановиться на модели со значением гиперпараметров **max_depth=8, min_samples_split=2, min_samples_leaf=3**. Максимальная точность модели Дерево решений равна: 0.801."
   ]
  },
  {
   "cell_type": "markdown",
   "metadata": {},
   "source": [
    "#### Модель на основе Случайного леса"
   ]
  },
  {
   "cell_type": "code",
   "execution_count": 6,
   "metadata": {},
   "outputs": [
    {
     "name": "stdout",
     "output_type": "stream",
     "text": [
      "Для Случайного леса при n_estimators = 2 , accuracy = 0.7589424572317263\n",
      "Для Случайного леса при n_estimators = 4 , accuracy = 0.7729393468118196\n",
      "Для Случайного леса при n_estimators = 6 , accuracy = 0.7791601866251944\n",
      "Для Случайного леса при n_estimators = 8 , accuracy = 0.7869362363919129\n",
      "Для Случайного леса при n_estimators = 10 , accuracy = 0.7807153965785381\n",
      "Для Случайного леса при n_estimators = 12 , accuracy = 0.7869362363919129\n",
      "Для Случайного леса при n_estimators = 14 , accuracy = 0.7807153965785381\n",
      "Для Случайного леса при n_estimators = 16 , accuracy = 0.7838258164852255\n",
      "Для Случайного леса при n_estimators = 18 , accuracy = 0.7853810264385692\n",
      "Для Случайного леса при n_estimators = 20 , accuracy = 0.7822706065318819\n",
      "Для Случайного леса при n_estimators = 22 , accuracy = 0.7807153965785381\n",
      "Для Случайного леса при n_estimators = 24 , accuracy = 0.7822706065318819\n",
      "Для Случайного леса при n_estimators = 26 , accuracy = 0.7838258164852255\n",
      "Для Случайного леса при n_estimators = 28 , accuracy = 0.7869362363919129\n",
      "Для Случайного леса при n_estimators = 30 , accuracy = 0.7853810264385692\n",
      "Для Случайного леса при n_estimators = 32 , accuracy = 0.7807153965785381\n",
      "Для Случайного леса при n_estimators = 34 , accuracy = 0.7900466562986003\n",
      "Для Случайного леса при n_estimators = 36 , accuracy = 0.7916018662519441\n",
      "Для Случайного леса при n_estimators = 38 , accuracy = 0.7947122861586314\n",
      "Для Случайного леса при n_estimators = 40 , accuracy = 0.7931570762052877\n",
      "Для Случайного леса при n_estimators = 42 , accuracy = 0.7900466562986003\n",
      "Для Случайного леса при n_estimators = 44 , accuracy = 0.7900466562986003\n",
      "Для Случайного леса при n_estimators = 46 , accuracy = 0.7947122861586314\n",
      "Для Случайного леса при n_estimators = 48 , accuracy = 0.7962674961119751\n",
      "Для Случайного леса при n_estimators = 50 , accuracy = 0.7931570762052877\n",
      "Для Случайного леса при n_estimators = 52 , accuracy = 0.7931570762052877\n",
      "Для Случайного леса при n_estimators = 54 , accuracy = 0.7916018662519441\n",
      "Для Случайного леса при n_estimators = 56 , accuracy = 0.7900466562986003\n",
      "Для Случайного леса при n_estimators = 58 , accuracy = 0.7962674961119751\n",
      "\n",
      "Максимальная точность модели Случайный лес равна: 0.7962674961119751\n"
     ]
    }
   ],
   "source": [
    "from sklearn.ensemble import RandomForestClassifier #Импортирую RandomForestClassifier из библиотеки sklearn\n",
    "#Циклом обучаю модель решающего дерева при разных значениях max_depth и проверяю показатель точности (accuracy)\n",
    "forest_accuracy_list = []#Создаю пустой список для сбора данных по точности модели\n",
    "forest_estimators_list = [x for x in range(2, 60, 2)]\n",
    "for estim in range(2, 60, 2):\n",
    "    forest_model = RandomForestClassifier(random_state=12345, n_estimators=estim)\n",
    "    forest_model.fit(train_features, train_target)\n",
    "    forest_predictions = forest_model.predict(valid_features)\n",
    "    forest_accuracy = accuracy_score(valid_target, forest_predictions)\n",
    "    forest_accuracy_list.append(forest_accuracy)\n",
    "    print('Для Случайного леса при n_estimators =', estim, ', accuracy =', forest_accuracy)\n",
    "#Нахожу оптимальное значение n_estimators\n",
    "optimal_estimator = forest_estimators_list[forest_accuracy_list.index(max(forest_accuracy_list))]\n",
    "print()\n",
    "print('Максимальная точность модели Случайный лес равна:', max(forest_accuracy_list))"
   ]
  },
  {
   "cell_type": "markdown",
   "metadata": {},
   "source": [
    "#### Вывод по модели Случайного леса\n",
    "Точность модели растет до количества деревьев равного 48. Затем точность начинает постепено снижаться, что говорит о переобучении модели. Следовательно необходимо остановиться на модели со значением гиперпараметра **n_estimators = 48**. Максимальная точность модели Случайный лес равна: 0.796. Дополнительным важным фактором является то, что модель *Случайного леса* обучается дольше, чем модель *Дерева решений*, что может сказаться на скорости работы сервиса."
   ]
  },
  {
   "cell_type": "markdown",
   "metadata": {},
   "source": [
    "#### Модель на основе Логистической регрессии"
   ]
  },
  {
   "cell_type": "code",
   "execution_count": 7,
   "metadata": {},
   "outputs": [
    {
     "name": "stdout",
     "output_type": "stream",
     "text": [
      "Для Логистической регресии accuracy = 0.7402799377916018\n"
     ]
    },
    {
     "name": "stderr",
     "output_type": "stream",
     "text": [
      "/opt/conda/lib/python3.7/site-packages/sklearn/linear_model/logistic.py:432: FutureWarning: Default solver will be changed to 'lbfgs' in 0.22. Specify a solver to silence this warning.\n",
      "  FutureWarning)\n"
     ]
    }
   ],
   "source": [
    "from sklearn.linear_model import LogisticRegression #Импортирую LogisticRegression из библиотеки sklearn\n",
    "\n",
    "logistic_model = LogisticRegression(random_state=12345)\n",
    "logistic_model.fit(train_features, train_target) #Обучаю модель\n",
    "\n",
    "logistic_predictions = logistic_model.predict(valid_features)\n",
    "logistic_model_accuracy = accuracy_score(valid_target, logistic_predictions)\n",
    "print('Для Логистической регресии accuracy =', logistic_model_accuracy)"
   ]
  },
  {
   "cell_type": "markdown",
   "metadata": {},
   "source": [
    "#### Вывод по модели Логистической регрессии\n",
    "Точность модели растет Логистической регрессии имеет показатель равный 0.740, что является самым низким, среди всех остальных показателей, тем не менее, в следующем шаге эта модель также будет проверена на тестовой выборке."
   ]
  },
  {
   "cell_type": "markdown",
   "metadata": {},
   "source": [
    "### Вывод к Шагу 3"
   ]
  },
  {
   "cell_type": "markdown",
   "metadata": {},
   "source": [
    "На этом шаге было проведено исследование трех типов моделей - **Решающее дерево, Случайный лес и Логистическая регрессия**. Наибольшей точности при настройке гиперпараметров удалось достичь у модели **Решающее дерево**, наименьшей у **Логистической регрессии**. При определенных настройках гиперпараметров наблюдалось переобучение моделей. Исследование позволило выявить оптимальные настройки, которые будут использованы для проверки моделей на тестовой выборке. "
   ]
  },
  {
   "cell_type": "markdown",
   "metadata": {},
   "source": [
    "## 4. Проверка моделей на тестовой выборке"
   ]
  },
  {
   "cell_type": "markdown",
   "metadata": {},
   "source": [
    "Предварительно выделяем признаки для работы модели у тестовой выборки, в том числе целевой. "
   ]
  },
  {
   "cell_type": "code",
   "execution_count": 8,
   "metadata": {},
   "outputs": [],
   "source": [
    "test_features = df_test.drop(['is_ultra'], axis=1)\n",
    "test_target = df_test['is_ultra']"
   ]
  },
  {
   "cell_type": "code",
   "execution_count": 11,
   "metadata": {},
   "outputs": [
    {
     "data": {
      "text/html": [
       "<div>\n",
       "<style scoped>\n",
       "    .dataframe tbody tr th:only-of-type {\n",
       "        vertical-align: middle;\n",
       "    }\n",
       "\n",
       "    .dataframe tbody tr th {\n",
       "        vertical-align: top;\n",
       "    }\n",
       "\n",
       "    .dataframe thead th {\n",
       "        text-align: right;\n",
       "    }\n",
       "</style>\n",
       "<table border=\"1\" class=\"dataframe\">\n",
       "  <thead>\n",
       "    <tr style=\"text-align: right;\">\n",
       "      <th></th>\n",
       "      <th>calls</th>\n",
       "      <th>minutes</th>\n",
       "      <th>messages</th>\n",
       "      <th>mb_used</th>\n",
       "      <th>is_ultra</th>\n",
       "    </tr>\n",
       "  </thead>\n",
       "  <tbody>\n",
       "    <tr>\n",
       "      <td>0</td>\n",
       "      <td>60.0</td>\n",
       "      <td>431.56</td>\n",
       "      <td>26.0</td>\n",
       "      <td>14751.26</td>\n",
       "      <td>0</td>\n",
       "    </tr>\n",
       "    <tr>\n",
       "      <td>1</td>\n",
       "      <td>33.0</td>\n",
       "      <td>265.17</td>\n",
       "      <td>59.0</td>\n",
       "      <td>17398.02</td>\n",
       "      <td>0</td>\n",
       "    </tr>\n",
       "    <tr>\n",
       "      <td>2</td>\n",
       "      <td>52.0</td>\n",
       "      <td>341.83</td>\n",
       "      <td>68.0</td>\n",
       "      <td>15462.38</td>\n",
       "      <td>0</td>\n",
       "    </tr>\n",
       "    <tr>\n",
       "      <td>3</td>\n",
       "      <td>42.0</td>\n",
       "      <td>226.18</td>\n",
       "      <td>21.0</td>\n",
       "      <td>13243.48</td>\n",
       "      <td>0</td>\n",
       "    </tr>\n",
       "    <tr>\n",
       "      <td>4</td>\n",
       "      <td>30.0</td>\n",
       "      <td>198.42</td>\n",
       "      <td>0.0</td>\n",
       "      <td>8189.53</td>\n",
       "      <td>0</td>\n",
       "    </tr>\n",
       "    <tr>\n",
       "      <td>...</td>\n",
       "      <td>...</td>\n",
       "      <td>...</td>\n",
       "      <td>...</td>\n",
       "      <td>...</td>\n",
       "      <td>...</td>\n",
       "    </tr>\n",
       "    <tr>\n",
       "      <td>2566</td>\n",
       "      <td>55.0</td>\n",
       "      <td>446.06</td>\n",
       "      <td>79.0</td>\n",
       "      <td>26526.28</td>\n",
       "      <td>0</td>\n",
       "    </tr>\n",
       "    <tr>\n",
       "      <td>2567</td>\n",
       "      <td>102.0</td>\n",
       "      <td>742.65</td>\n",
       "      <td>58.0</td>\n",
       "      <td>16089.24</td>\n",
       "      <td>1</td>\n",
       "    </tr>\n",
       "    <tr>\n",
       "      <td>2568</td>\n",
       "      <td>52.0</td>\n",
       "      <td>349.94</td>\n",
       "      <td>42.0</td>\n",
       "      <td>12150.72</td>\n",
       "      <td>0</td>\n",
       "    </tr>\n",
       "    <tr>\n",
       "      <td>2569</td>\n",
       "      <td>39.0</td>\n",
       "      <td>221.18</td>\n",
       "      <td>59.0</td>\n",
       "      <td>17865.23</td>\n",
       "      <td>0</td>\n",
       "    </tr>\n",
       "    <tr>\n",
       "      <td>2570</td>\n",
       "      <td>40.0</td>\n",
       "      <td>301.03</td>\n",
       "      <td>102.0</td>\n",
       "      <td>6057.63</td>\n",
       "      <td>0</td>\n",
       "    </tr>\n",
       "  </tbody>\n",
       "</table>\n",
       "<p>2571 rows × 5 columns</p>\n",
       "</div>"
      ],
      "text/plain": [
       "      calls  minutes  messages   mb_used  is_ultra\n",
       "0      60.0   431.56      26.0  14751.26         0\n",
       "1      33.0   265.17      59.0  17398.02         0\n",
       "2      52.0   341.83      68.0  15462.38         0\n",
       "3      42.0   226.18      21.0  13243.48         0\n",
       "4      30.0   198.42       0.0   8189.53         0\n",
       "...     ...      ...       ...       ...       ...\n",
       "2566   55.0   446.06      79.0  26526.28         0\n",
       "2567  102.0   742.65      58.0  16089.24         1\n",
       "2568   52.0   349.94      42.0  12150.72         0\n",
       "2569   39.0   221.18      59.0  17865.23         0\n",
       "2570   40.0   301.03     102.0   6057.63         0\n",
       "\n",
       "[2571 rows x 5 columns]"
      ]
     },
     "metadata": {},
     "output_type": "display_data"
    }
   ],
   "source": [
    "train_valid_df = df_train.merge(df_valid, how='outer')\n",
    "display(train_valid_df)"
   ]
  },
  {
   "cell_type": "markdown",
   "metadata": {},
   "source": [
    "Для осущетвления проверок моделей на тестовой выборке выбираю настройки гиперпараметров для моделей согласно выводам из шага 3."
   ]
  },
  {
   "cell_type": "code",
   "execution_count": 9,
   "metadata": {},
   "outputs": [
    {
     "name": "stdout",
     "output_type": "stream",
     "text": [
      "Для модели Дерева решений при max_depth = 8 , min_samples_split = 2 , min_samples_leaf = 3 accuracy = 0.7682737169517885\n"
     ]
    }
   ],
   "source": [
    "#Проверяю модель Дерево решений на тестовой выборке\n",
    "tree_model = DecisionTreeClassifier(random_state=12345, \n",
    "                                    max_depth = optimal_depth, \n",
    "                                    min_samples_split = optimal_split, \n",
    "                                    min_samples_leaf = optimal_leaf)\n",
    "tree_model.fit(train_features, train_target)\n",
    "tree_predictions = tree_model.predict(test_features)\n",
    "tree_accuracy = accuracy_score(test_target, tree_predictions)\n",
    "print('Для модели Дерева решений при max_depth =', optimal_depth, \n",
    "      ', min_samples_split =', optimal_split,\n",
    "      ', min_samples_leaf =', optimal_leaf, \n",
    "      'accuracy =', tree_accuracy)"
   ]
  },
  {
   "cell_type": "code",
   "execution_count": 10,
   "metadata": {},
   "outputs": [
    {
     "name": "stdout",
     "output_type": "stream",
     "text": [
      "Для модели Случайного леса при n_estimators = 48 , accuracy = 0.7916018662519441\n"
     ]
    }
   ],
   "source": [
    "#Проверяю модель Случайный лес на тестовой выборке\n",
    "forest_model = RandomForestClassifier(random_state=12345, n_estimators=optimal_estimator)\n",
    "forest_model.fit(train_features, train_target)\n",
    "forest_predictions = forest_model.predict(test_features)\n",
    "forest_accuracy = accuracy_score(test_target, forest_predictions)\n",
    "print('Для модели Случайного леса при n_estimators =', optimal_estimator,', accuracy =', forest_accuracy)"
   ]
  },
  {
   "cell_type": "code",
   "execution_count": 11,
   "metadata": {},
   "outputs": [
    {
     "name": "stdout",
     "output_type": "stream",
     "text": [
      "Для Логистической регресии accuracy = 0.687402799377916\n"
     ]
    },
    {
     "name": "stderr",
     "output_type": "stream",
     "text": [
      "/opt/conda/lib/python3.7/site-packages/sklearn/linear_model/logistic.py:432: FutureWarning: Default solver will be changed to 'lbfgs' in 0.22. Specify a solver to silence this warning.\n",
      "  FutureWarning)\n"
     ]
    }
   ],
   "source": [
    "#Проверяю модель Логистической регрессии на тестовой выборке\n",
    "logistic_model = LogisticRegression(random_state=12345)\n",
    "logistic_model.fit(train_features, train_target) #Обучаю модель\n",
    "\n",
    "logistic_predictions = logistic_model.predict(valid_features)\n",
    "logistic_model_accuracy = accuracy_score(test_target, logistic_predictions)\n",
    "print('Для Логистической регресии accuracy =', logistic_model_accuracy)"
   ]
  },
  {
   "cell_type": "markdown",
   "metadata": {},
   "source": [
    "### Вывод к Шагу 4"
   ]
  },
  {
   "cell_type": "markdown",
   "metadata": {},
   "source": [
    "Проверка моделей на тестовой выборке показала инетересный факт - точность модели **Случайного леса** оказалась заметно выше чем точность модели **Решающего дерева**. Точность обеих моделей превысила значение 0.75, следовательно их можно использовать для определения подходящего тарифа. Модель **Логистическй регрессии** для этой задачи использовать не рекомендуется."
   ]
  },
  {
   "cell_type": "markdown",
   "metadata": {},
   "source": [
    "## 5. Проверка модели на адекватность"
   ]
  },
  {
   "cell_type": "code",
   "execution_count": 12,
   "metadata": {},
   "outputs": [
    {
     "data": {
      "text/plain": [
       "0    0.693528\n",
       "1    0.306472\n",
       "Name: is_ultra, dtype: float64"
      ]
     },
     "execution_count": 12,
     "metadata": {},
     "output_type": "execute_result"
    }
   ],
   "source": [
    "df['is_ultra'].value_counts(normalize=True)"
   ]
  },
  {
   "cell_type": "markdown",
   "metadata": {},
   "source": [
    "Пусть наша константная модель всегда будет предсказывать тариф «Смарт». Тогда точность модели будет равна примерно 69%, но точность нашей лучшей модели больше и равна 79%. Можем заключить, что проверка на адекватность пройдена успешно."
   ]
  },
  {
   "cell_type": "markdown",
   "metadata": {},
   "source": [
    "## Общий вывод"
   ]
  },
  {
   "cell_type": "markdown",
   "metadata": {},
   "source": [
    "В рамках проекта был получен датасет содержащий информацию о месячном использовании минут, SMS и мегабайтов абонентами мобильного оператора \"Мегалайн\".\n",
    "<br>Датасет состоит из 5 столбцов и 3214 строк. Пропуски данных отсутствуют, датасет полностью подготовлен для построения модели по определению подходящего тарифа для абонентов, которые на сегодняшний день пользуются архивными тарифами.\n",
    "\n",
    "<br>Для обучения моделей исходный датасет был разделен на три выборки **обучающую, валидационную и тестовоую** в соотношении 3:1:1.\n",
    "\n",
    "Для построения и исследования моделей для задачи классификации будут использованы - **Решающее дерево, Случайный лес и Логистическая регрессия**.\n",
    "<br>Перед обучением моделей определены *признаки (features)* по которым будут обучаться модели и *целевой признак (target)*, который нужно предсказать. Эти подготовительные шаги выполнены для всех выборок.\n",
    "\n",
    "Обученные модели проверены на точность при различных настройках гиперпараметров. Наименьшую точность на валидационной выборке показала модель **Логистической регрессии** она равна 0.740. **Решающее дерево** и **Случайный лес** на оптимальных параметрах показали точности 0.801 и 0.796 соответственно.\n",
    "\n",
    "Проверка на тестовой выборке ваявила наибольшую точность у модели **Случайный лес** равную 0.791, именно эту модель рекомендуется использовать для подбора оптимального тарифа."
   ]
  }
 ],
 "metadata": {
  "kernelspec": {
   "display_name": "Python 3",
   "language": "python",
   "name": "python3"
  },
  "language_info": {
   "codemirror_mode": {
    "name": "ipython",
    "version": 3
   },
   "file_extension": ".py",
   "mimetype": "text/x-python",
   "name": "python",
   "nbconvert_exporter": "python",
   "pygments_lexer": "ipython3",
   "version": "3.7.6"
  }
 },
 "nbformat": 4,
 "nbformat_minor": 2
}
